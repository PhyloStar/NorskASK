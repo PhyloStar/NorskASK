{
 "cells": [
  {
   "cell_type": "code",
   "execution_count": 1,
   "metadata": {},
   "outputs": [],
   "source": [
    "%load_ext autoreload\n",
    "%autoreload 2"
   ]
  },
  {
   "cell_type": "code",
   "execution_count": 43,
   "metadata": {},
   "outputs": [],
   "source": [
    "from masterthesis.held_out_eval import get_input_reps, get_predictions, load_model_and_w2i\n",
    "from masterthesis.utils import CEFR_LABELS, IMG_DIR, load_split, MODEL_DIR, rescale_regression_results\n",
    "\n",
    "import matplotlib.pyplot as plt\n",
    "import pandas as pd\n",
    "import seaborn as sns\n",
    "\n",
    "sns.set(context=\"paper\", style=\"whitegrid\")"
   ]
  },
  {
   "cell_type": "code",
   "execution_count": 5,
   "metadata": {},
   "outputs": [],
   "source": [
    "model_path = MODEL_DIR / \"rnn-26805083_1_model.h5\""
   ]
  },
  {
   "cell_type": "code",
   "execution_count": 29,
   "metadata": {},
   "outputs": [
    {
     "name": "stdout",
     "output_type": "stream",
     "text": [
      "200\n"
     ]
    },
    {
     "data": {
      "text/html": [
       "<div>\n",
       "<style scoped>\n",
       "    .dataframe tbody tr th:only-of-type {\n",
       "        vertical-align: middle;\n",
       "    }\n",
       "\n",
       "    .dataframe tbody tr th {\n",
       "        vertical-align: top;\n",
       "    }\n",
       "\n",
       "    .dataframe thead th {\n",
       "        text-align: right;\n",
       "    }\n",
       "</style>\n",
       "<table border=\"1\" class=\"dataframe\">\n",
       "  <thead>\n",
       "    <tr style=\"text-align: right;\">\n",
       "      <th></th>\n",
       "      <th>age</th>\n",
       "      <th>cefr</th>\n",
       "      <th>filename</th>\n",
       "      <th>gender</th>\n",
       "      <th>lang</th>\n",
       "      <th>num_tokens</th>\n",
       "      <th>split</th>\n",
       "      <th>testlevel</th>\n",
       "      <th>title</th>\n",
       "      <th>topic</th>\n",
       "    </tr>\n",
       "  </thead>\n",
       "  <tbody>\n",
       "    <tr>\n",
       "      <th>736</th>\n",
       "      <td>66</td>\n",
       "      <td>NaN</td>\n",
       "      <td>h2001</td>\n",
       "      <td>NaN</td>\n",
       "      <td>bokmål</td>\n",
       "      <td>257</td>\n",
       "      <td>NaN</td>\n",
       "      <td>Høyere nivå</td>\n",
       "      <td>Diktet 'Ingen ting' av Paulus Utsi om språk</td>\n",
       "      <td>litteratur dikt språk</td>\n",
       "    </tr>\n",
       "    <tr>\n",
       "      <th>737</th>\n",
       "      <td>35</td>\n",
       "      <td>NaN</td>\n",
       "      <td>h2002</td>\n",
       "      <td>mann</td>\n",
       "      <td>bokmål</td>\n",
       "      <td>327</td>\n",
       "      <td>NaN</td>\n",
       "      <td>Høyere nivå</td>\n",
       "      <td>Diktet 'Ingen ting' av Paulus Utsi om språk</td>\n",
       "      <td>litteratur dikt språk</td>\n",
       "    </tr>\n",
       "    <tr>\n",
       "      <th>738</th>\n",
       "      <td>36</td>\n",
       "      <td>NaN</td>\n",
       "      <td>h2003</td>\n",
       "      <td>kvinne</td>\n",
       "      <td>bokmål</td>\n",
       "      <td>945</td>\n",
       "      <td>NaN</td>\n",
       "      <td>Høyere nivå</td>\n",
       "      <td>Organdonasjon</td>\n",
       "      <td>helse organ</td>\n",
       "    </tr>\n",
       "    <tr>\n",
       "      <th>739</th>\n",
       "      <td>38</td>\n",
       "      <td>NaN</td>\n",
       "      <td>h2004</td>\n",
       "      <td>kvinne</td>\n",
       "      <td>nynorsk</td>\n",
       "      <td>677</td>\n",
       "      <td>NaN</td>\n",
       "      <td>Høyere nivå</td>\n",
       "      <td>Organdonasjon</td>\n",
       "      <td>helse organ</td>\n",
       "    </tr>\n",
       "    <tr>\n",
       "      <th>740</th>\n",
       "      <td>36</td>\n",
       "      <td>NaN</td>\n",
       "      <td>h2005</td>\n",
       "      <td>kvinne</td>\n",
       "      <td>bokmål</td>\n",
       "      <td>511</td>\n",
       "      <td>NaN</td>\n",
       "      <td>Høyere nivå</td>\n",
       "      <td>Olympiske leker og sportslige idealer</td>\n",
       "      <td>idrett/sport</td>\n",
       "    </tr>\n",
       "  </tbody>\n",
       "</table>\n",
       "</div>"
      ],
      "text/plain": [
       "     age           ...                             topic\n",
       "736   66           ...            litteratur dikt språk \n",
       "737   35           ...            litteratur dikt språk \n",
       "738   36           ...                      helse organ \n",
       "739   38           ...                      helse organ \n",
       "740   36           ...                     idrett/sport \n",
       "\n",
       "[5 rows x 10 columns]"
      ]
     },
     "execution_count": 29,
     "metadata": {},
     "output_type": "execute_result"
    }
   ],
   "source": [
    "data = load_split(\"norsk\", round_cefr=False)\n",
    "labels = CEFR_LABELS\n",
    "highest_class = 6\n",
    "print(len(data))\n",
    "data.head()"
   ]
  },
  {
   "cell_type": "code",
   "execution_count": 17,
   "metadata": {},
   "outputs": [],
   "source": [
    "model, w2i = load_model_and_w2i(model_path)"
   ]
  },
  {
   "cell_type": "code",
   "execution_count": 30,
   "metadata": {},
   "outputs": [
    {
     "name": "stderr",
     "output_type": "stream",
     "text": [
      "100%|██████████| 200/200 [00:00<00:00, 1284.65it/s]"
     ]
    },
    {
     "name": "stdout",
     "output_type": "stream",
     "text": [
      "Preprocessing split 'norsk' ...\n"
     ]
    },
    {
     "name": "stderr",
     "output_type": "stream",
     "text": [
      "\n"
     ]
    }
   ],
   "source": [
    "multi_input = isinstance(model.input, list) and len(model.input) == 2\n",
    "multi_output = isinstance(model.outputs, list) and len(model.outputs) > 1\n",
    "\n",
    "x = get_input_reps(w2i, multi_input, split=\"norsk\")\n",
    "predictions = get_predictions(model, x, multi_output)"
   ]
  },
  {
   "cell_type": "code",
   "execution_count": 41,
   "metadata": {},
   "outputs": [
    {
     "data": {
      "text/html": [
       "<div>\n",
       "<style scoped>\n",
       "    .dataframe tbody tr th:only-of-type {\n",
       "        vertical-align: middle;\n",
       "    }\n",
       "\n",
       "    .dataframe tbody tr th {\n",
       "        vertical-align: top;\n",
       "    }\n",
       "\n",
       "    .dataframe thead th {\n",
       "        text-align: right;\n",
       "    }\n",
       "</style>\n",
       "<table border=\"1\" class=\"dataframe\">\n",
       "  <thead>\n",
       "    <tr style=\"text-align: right;\">\n",
       "      <th></th>\n",
       "      <th>age</th>\n",
       "      <th>cefr</th>\n",
       "      <th>filename</th>\n",
       "      <th>gender</th>\n",
       "      <th>lang</th>\n",
       "      <th>num_tokens</th>\n",
       "      <th>split</th>\n",
       "      <th>testlevel</th>\n",
       "      <th>title</th>\n",
       "      <th>topic</th>\n",
       "      <th>pred</th>\n",
       "      <th>pred_label</th>\n",
       "      <th>Predicted label</th>\n",
       "    </tr>\n",
       "  </thead>\n",
       "  <tbody>\n",
       "    <tr>\n",
       "      <th>736</th>\n",
       "      <td>66</td>\n",
       "      <td>NaN</td>\n",
       "      <td>h2001</td>\n",
       "      <td>NaN</td>\n",
       "      <td>bokmål</td>\n",
       "      <td>257</td>\n",
       "      <td>NaN</td>\n",
       "      <td>Høyere nivå</td>\n",
       "      <td>Diktet 'Ingen ting' av Paulus Utsi om språk</td>\n",
       "      <td>litteratur dikt språk</td>\n",
       "      <td>2</td>\n",
       "      <td>B1</td>\n",
       "      <td>B1</td>\n",
       "    </tr>\n",
       "    <tr>\n",
       "      <th>737</th>\n",
       "      <td>35</td>\n",
       "      <td>NaN</td>\n",
       "      <td>h2002</td>\n",
       "      <td>mann</td>\n",
       "      <td>bokmål</td>\n",
       "      <td>327</td>\n",
       "      <td>NaN</td>\n",
       "      <td>Høyere nivå</td>\n",
       "      <td>Diktet 'Ingen ting' av Paulus Utsi om språk</td>\n",
       "      <td>litteratur dikt språk</td>\n",
       "      <td>3</td>\n",
       "      <td>B1/B2</td>\n",
       "      <td>B1/B2</td>\n",
       "    </tr>\n",
       "    <tr>\n",
       "      <th>738</th>\n",
       "      <td>36</td>\n",
       "      <td>NaN</td>\n",
       "      <td>h2003</td>\n",
       "      <td>kvinne</td>\n",
       "      <td>bokmål</td>\n",
       "      <td>945</td>\n",
       "      <td>NaN</td>\n",
       "      <td>Høyere nivå</td>\n",
       "      <td>Organdonasjon</td>\n",
       "      <td>helse organ</td>\n",
       "      <td>5</td>\n",
       "      <td>B2/C1</td>\n",
       "      <td>B2/C1</td>\n",
       "    </tr>\n",
       "    <tr>\n",
       "      <th>739</th>\n",
       "      <td>38</td>\n",
       "      <td>NaN</td>\n",
       "      <td>h2004</td>\n",
       "      <td>kvinne</td>\n",
       "      <td>nynorsk</td>\n",
       "      <td>677</td>\n",
       "      <td>NaN</td>\n",
       "      <td>Høyere nivå</td>\n",
       "      <td>Organdonasjon</td>\n",
       "      <td>helse organ</td>\n",
       "      <td>4</td>\n",
       "      <td>B2</td>\n",
       "      <td>B2</td>\n",
       "    </tr>\n",
       "    <tr>\n",
       "      <th>740</th>\n",
       "      <td>36</td>\n",
       "      <td>NaN</td>\n",
       "      <td>h2005</td>\n",
       "      <td>kvinne</td>\n",
       "      <td>bokmål</td>\n",
       "      <td>511</td>\n",
       "      <td>NaN</td>\n",
       "      <td>Høyere nivå</td>\n",
       "      <td>Olympiske leker og sportslige idealer</td>\n",
       "      <td>idrett/sport</td>\n",
       "      <td>4</td>\n",
       "      <td>B2</td>\n",
       "      <td>B2</td>\n",
       "    </tr>\n",
       "  </tbody>\n",
       "</table>\n",
       "</div>"
      ],
      "text/plain": [
       "     age cefr filename       ...        pred pred_label  Predicted label\n",
       "736   66  NaN    h2001       ...           2         B1               B1\n",
       "737   35  NaN    h2002       ...           3      B1/B2            B1/B2\n",
       "738   36  NaN    h2003       ...           5      B2/C1            B2/C1\n",
       "739   38  NaN    h2004       ...           4         B2               B2\n",
       "740   36  NaN    h2005       ...           4         B2               B2\n",
       "\n",
       "[5 rows x 13 columns]"
      ]
     },
     "execution_count": 41,
     "metadata": {},
     "output_type": "execute_result"
    }
   ],
   "source": [
    "# Round to integers and clip to score range\n",
    "pred = rescale_regression_results(predictions, highest_class).ravel()\n",
    "data[\"pred\"] = pred\n",
    "data[\"Predicted label\"] = data.pred.apply(CEFR_LABELS.__getitem__)\n",
    "data.head()"
   ]
  },
  {
   "cell_type": "code",
   "execution_count": 44,
   "metadata": {},
   "outputs": [
    {
     "data": {
      "image/png": "[encoded data removed]",
      "text/plain": [
       "<Figure size 360x216 with 1 Axes>"
      ]
     },
     "metadata": {},
     "output_type": "display_data"
    }
   ],
   "source": [
    "data_ = data.rename({\"lang\": \"Language\"}, axis=\"columns\")\n",
    "sns.countplot(x=\"Predicted label\", hue=\"Language\", data=data_, order=CEFR_LABELS)\n",
    "plt.gcf().set_size_inches(5, 3)\n",
    "plt.savefig(str(IMG_DIR / \"native-predictions.pdf\"), bbox_inches='tight')\n",
    "plt.show()"
   ]
  },
  {
   "cell_type": "code",
   "execution_count": null,
   "metadata": {},
   "outputs": [],
   "source": []
  }
 ],
 "metadata": {
  "kernelspec": {
   "display_name": "Python (master thesis)",
   "language": "python",
   "name": "masterthesis"
  },
  "language_info": {
   "codemirror_mode": {
    "name": "ipython",
    "version": 3
   },
   "file_extension": ".py",
   "mimetype": "text/x-python",
   "name": "python",
   "nbconvert_exporter": "python",
   "pygments_lexer": "ipython3",
   "version": "3.5.2"
  }
 },
 "nbformat": 4,
 "nbformat_minor": 2
}
