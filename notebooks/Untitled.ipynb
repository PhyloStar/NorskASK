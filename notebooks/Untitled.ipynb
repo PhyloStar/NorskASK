{
 "cells": [
  {
   "cell_type": "code",
   "execution_count": 1,
   "metadata": {},
   "outputs": [],
   "source": [
    "%matplotlib inline\n",
    "%load_ext autoreload\n",
    "%autoreload 2"
   ]
  },
  {
   "cell_type": "code",
   "execution_count": 20,
   "metadata": {},
   "outputs": [],
   "source": [
    "import pickle\n",
    "\n",
    "from sklearn.metrics import confusion_matrix\n",
    "import matplotlib.pyplot as plt\n",
    "\n",
    "from masterthesis.utils import CEFR_LABELS, ROUND_CEFR_LABELS, heatmap, IMG_DIR, RESULTS_DIR"
   ]
  },
  {
   "cell_type": "code",
   "execution_count": null,
   "metadata": {},
   "outputs": [],
   "source": [
    "r = pickle.load((RESULTS_DIR / 'mlp_mixed-02-20_14-45-16.pkl').open('rb'))\n",
    "\n",
    "cm = confusion_matrix(y_pred=r.predictions, y_true=r.true)\n",
    "\n",
    "heatmap(cm, CEFR_LABELS, CEFR_LABELS, normalize=True)\n",
    "plt.title('Confusion matrix')\n",
    "plt.xlabel('Predicted class')\n",
    "plt.ylabel('True class');\n",
    "plt.tight_layout()\n",
    "% plt.savefig((IMG_DIR / 'mlp-mixed-conf.pdf').open('wb'))"
   ]
  },
  {
   "cell_type": "code",
   "execution_count": 26,
   "metadata": {},
   "outputs": [
    {
     "data": {
      "image/png": "[encoded data removed]",
      "text/plain": [
       "<Figure size 432x288 with 1 Axes>"
      ]
     },
     "metadata": {
      "needs_background": "light"
     },
     "output_type": "display_data"
    }
   ],
   "source": [
    "r = pickle.load((RESULTS_DIR / 'mlp_mixed-02-22_13-43-37.pkl').open('rb'))\n",
    "\n",
    "cm = confusion_matrix(y_pred=r.predictions, y_true=r.true)\n",
    "\n",
    "heatmap(cm, ROUND_CEFR_LABELS, ROUND_CEFR_LABELS)\n",
    "plt.title('Confusion matrix')\n",
    "plt.xlabel('Predicted class')\n",
    "plt.ylabel('True class');\n",
    "plt.tight_layout()\n",
    "plt.savefig((IMG_DIR / 'mlp-mixed-conf-round.pdf').open('wb'))"
   ]
  },
  {
   "cell_type": "code",
   "execution_count": null,
   "metadata": {},
   "outputs": [],
   "source": []
  }
 ],
 "metadata": {
  "kernelspec": {
   "display_name": "Python (master thesis)",
   "language": "python",
   "name": "masterthesis"
  },
  "language_info": {
   "codemirror_mode": {
    "name": "ipython",
    "version": 3
   },
   "file_extension": ".py",
   "mimetype": "text/x-python",
   "name": "python",
   "nbconvert_exporter": "python",
   "pygments_lexer": "ipython3",
   "version": "3.5.2"
  }
 },
 "nbformat": 4,
 "nbformat_minor": 2
}
