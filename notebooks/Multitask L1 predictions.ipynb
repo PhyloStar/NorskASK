{
 "cells": [
  {
   "cell_type": "code",
   "execution_count": 1,
   "metadata": {},
   "outputs": [],
   "source": [
    "%load_ext autoreload\n",
    "%autoreload 2"
   ]
  },
  {
   "cell_type": "code",
   "execution_count": 2,
   "metadata": {},
   "outputs": [
    {
     "name": "stderr",
     "output_type": "stream",
     "text": [
      "Using TensorFlow backend.\n",
      " 19%|█▊        | 23/123 [00:00<00:00, 228.25it/s]"
     ]
    },
    {
     "name": "stdout",
     "output_type": "stream",
     "text": [
      "Preprocessing split 'test' ...\n"
     ]
    },
    {
     "name": "stderr",
     "output_type": "stream",
     "text": [
      "100%|██████████| 123/123 [00:00<00:00, 359.60it/s]\n"
     ]
    }
   ],
   "source": [
    "from masterthesis.utils import (\n",
    "    heatmap, CEFR_LABELS, LANG_LABELS, load_split, IMG_DIR, MODEL_DIR, iso639_3, rescale_regression_results\n",
    ")\n",
    "from masterthesis.held_out_eval import load_model_and_w2i, get_input_reps\n",
    "from masterthesis.models.report import report\n",
    "\n",
    "import matplotlib.pyplot as plt\n",
    "\n",
    "import numpy as np"
   ]
  },
  {
   "cell_type": "code",
   "execution_count": 3,
   "metadata": {},
   "outputs": [],
   "source": [
    "model_path = MODEL_DIR / \"rnn-multi-26805083_3_model.h5\""
   ]
  },
  {
   "cell_type": "code",
   "execution_count": 4,
   "metadata": {},
   "outputs": [],
   "source": [
    "model, w2i = load_model_and_w2i(model_path)\n",
    "multi_input = isinstance(model.input, list) and len(model.input) == 2"
   ]
  },
  {
   "cell_type": "markdown",
   "metadata": {},
   "source": [
    "# Evaluation on test set"
   ]
  },
  {
   "cell_type": "code",
   "execution_count": 5,
   "metadata": {},
   "outputs": [],
   "source": [
    "data = load_split(\"test\", round_cefr=False)\n",
    "data[\"isolang\"] = data[\"lang\"].replace(iso639_3)\n",
    "lang_targets = np.array(\n",
    "    [LANG_LABELS.index(c) for c in data[\"isolang\"]], dtype=int\n",
    ")\n",
    "cefr_targets = np.array(\n",
    "    [CEFR_LABELS.index(c) for c in data[\"cefr\"]], dtype=int\n",
    ")"
   ]
  },
  {
   "cell_type": "code",
   "execution_count": 6,
   "metadata": {},
   "outputs": [
    {
     "name": "stderr",
     "output_type": "stream",
     "text": [
      "100%|██████████| 123/123 [00:00<00:00, 1122.82it/s]"
     ]
    },
    {
     "name": "stdout",
     "output_type": "stream",
     "text": [
      "Preprocessing split 'test' ...\n"
     ]
    },
    {
     "name": "stderr",
     "output_type": "stream",
     "text": [
      "\n"
     ]
    }
   ],
   "source": [
    "multi_input = isinstance(model.input, list) and len(model.input) == 2\n",
    "\n",
    "x = get_input_reps(w2i, multi_input, split=\"test\")\n",
    "predictions = model.predict(x)"
   ]
  },
  {
   "cell_type": "code",
   "execution_count": 7,
   "metadata": {},
   "outputs": [],
   "source": [
    "lang_predictions = predictions[1]\n",
    "lang_pred = np.argmax(lang_predictions, axis=1)\n",
    "\n",
    "cefr_predictions = predictions[0]\n",
    "cefr_pred = rescale_regression_results(cefr_predictions, highest_class=6)"
   ]
  },
  {
   "cell_type": "code",
   "execution_count": 8,
   "metadata": {
    "scrolled": false
   },
   "outputs": [
    {
     "name": "stderr",
     "output_type": "stream",
     "text": [
      "/home/stig/master-thesis/venv/lib/python3.5/site-packages/sklearn/metrics/classification.py:1135: UndefinedMetricWarning: Precision and F-score are ill-defined and being set to 0.0 in labels with no predicted samples.\n",
      "  'precision', 'predicted', average, warn_for)\n",
      "/home/stig/master-thesis/venv/lib/python3.5/site-packages/sklearn/metrics/classification.py:1135: UndefinedMetricWarning: F-score is ill-defined and being set to 0.0 in labels with no predicted samples.\n",
      "  'precision', 'predicted', average, warn_for)\n"
     ]
    },
    {
     "name": "stdout",
     "output_type": "stream",
     "text": [
      "             precision    recall  f1-score   support\n",
      "\n",
      "         A2       0.50      0.33      0.40         3\n",
      "      A2/B1       0.47      0.47      0.47        19\n",
      "         B1       0.42      0.43      0.43        23\n",
      "      B1/B2       0.32      0.32      0.32        22\n",
      "         B2       0.58      0.62      0.60        40\n",
      "      B2/C1       0.23      0.33      0.27         9\n",
      "         C1       0.00      0.00      0.00         7\n",
      "\n",
      "avg / total       0.43      0.45      0.44       123\n",
      "\n",
      "Macro F1: 0.356\n",
      "Micro F1: 0.447\n",
      "Weighted F1: 0.435\n",
      "== Confusion matrix ==\n",
      "[[ 1  2  0  0  0  0  0]\n",
      " [ 1  9  9  0  0  0  0]\n",
      " [ 0  6 10  5  2  0  0]\n",
      " [ 0  2  3  7  8  2  0]\n",
      " [ 0  0  2  9 25  4  0]\n",
      " [ 0  0  0  1  5  3  0]\n",
      " [ 0  0  0  0  3  4  0]]\n",
      "             precision    recall  f1-score   support\n",
      "\n",
      "        eng       0.15      0.50      0.24         8\n",
      "        pol       0.40      0.18      0.25        22\n",
      "        rus       0.50      0.25      0.33        16\n",
      "        som       0.50      0.31      0.38        13\n",
      "        spa       0.20      0.59      0.30        17\n",
      "        deu       1.00      0.27      0.43        22\n",
      "        vie       0.67      0.40      0.50        25\n",
      "\n",
      "avg / total       0.54      0.34      0.36       123\n",
      "\n",
      "Macro F1: 0.347\n",
      "Micro F1: 0.341\n",
      "Weighted F1: 0.363\n",
      "== Confusion matrix ==\n",
      "[[ 4  1  0  0  3  0  0]\n",
      " [ 6  4  1  0 11  0  0]\n",
      " [ 0  0  4  0  9  0  3]\n",
      " [ 0  1  0  4  6  0  2]\n",
      " [ 4  1  1  1 10  0  0]\n",
      " [11  2  0  0  3  6  0]\n",
      " [ 1  1  2  3  8  0 10]]\n"
     ]
    },
    {
     "data": {
      "image/png": "[encoded data removed]",
      "text/plain": [
       "<Figure size 360x180 with 2 Axes>"
      ]
     },
     "metadata": {
      "needs_background": "light"
     },
     "output_type": "display_data"
    }
   ],
   "source": [
    "fig, (ax1, ax2) = plt.subplots(1, 2)\n",
    "\n",
    "report(cefr_targets, cefr_pred, CEFR_LABELS, ax=ax1)\n",
    "report(lang_targets, lang_pred, LANG_LABELS, ax=ax2)\n",
    "fig.set_size_inches(5, 2.5)\n",
    "fig.tight_layout()\n",
    "#plt.savefig(str(IMG_DIR / \"multi-test-cm.pdf\"), bbox_inches=\"tight\")"
   ]
  },
  {
   "cell_type": "markdown",
   "metadata": {},
   "source": [
    "# Evaluation on dev set"
   ]
  },
  {
   "cell_type": "code",
   "execution_count": 9,
   "metadata": {},
   "outputs": [],
   "source": [
    "data = load_split(\"dev\", round_cefr=False)\n",
    "data[\"isolang\"] = data[\"lang\"].replace(iso639_3)\n",
    "lang_targets = np.array(\n",
    "    [LANG_LABELS.index(c) for c in data[\"isolang\"]], dtype=int\n",
    ")\n",
    "cefr_targets = np.array(\n",
    "    [CEFR_LABELS.index(c) for c in data[\"cefr\"]], dtype=int\n",
    ")"
   ]
  },
  {
   "cell_type": "code",
   "execution_count": 10,
   "metadata": {},
   "outputs": [
    {
     "name": "stderr",
     "output_type": "stream",
     "text": [
      "100%|██████████| 123/123 [00:00<00:00, 1223.63it/s]"
     ]
    },
    {
     "name": "stdout",
     "output_type": "stream",
     "text": [
      "Preprocessing split 'dev' ...\n"
     ]
    },
    {
     "name": "stderr",
     "output_type": "stream",
     "text": [
      "\n"
     ]
    }
   ],
   "source": [
    "x = get_input_reps(w2i, multi_input, split=\"dev\")\n",
    "predictions = model.predict(x)"
   ]
  },
  {
   "cell_type": "code",
   "execution_count": 11,
   "metadata": {},
   "outputs": [],
   "source": [
    "lang_predictions = predictions[1]\n",
    "lang_pred = np.argmax(lang_predictions, axis=1)\n",
    "\n",
    "cefr_predictions = predictions[0]\n",
    "cefr_pred = rescale_regression_results(cefr_predictions, highest_class=6)"
   ]
  },
  {
   "cell_type": "code",
   "execution_count": 12,
   "metadata": {
    "scrolled": false
   },
   "outputs": [
    {
     "name": "stdout",
     "output_type": "stream",
     "text": [
      "             precision    recall  f1-score   support\n",
      "\n",
      "         A2       1.00      1.00      1.00         1\n",
      "      A2/B1       0.50      0.41      0.45        22\n",
      "         B1       0.29      0.35      0.32        20\n",
      "      B1/B2       0.44      0.37      0.40        30\n",
      "         B2       0.56      0.73      0.64        37\n",
      "      B2/C1       0.43      0.30      0.35        10\n",
      "         C1       0.00      0.00      0.00         3\n",
      "\n",
      "avg / total       0.46      0.47      0.46       123\n",
      "\n",
      "Macro F1: 0.451\n",
      "Micro F1: 0.472\n",
      "Weighted F1: 0.458\n",
      "== Confusion matrix ==\n",
      "[[ 1  0  0  0  0  0  0]\n",
      " [ 0  9 11  2  0  0  0]\n",
      " [ 0  8  7  3  2  0  0]\n",
      " [ 0  1  4 11 12  2  0]\n",
      " [ 0  0  1  8 27  1  0]\n",
      " [ 0  0  1  1  5  3  0]\n",
      " [ 0  0  0  0  2  1  0]]\n",
      "             precision    recall  f1-score   support\n",
      "\n",
      "        eng       0.55      0.67      0.60        18\n",
      "        pol       0.57      0.43      0.49        30\n",
      "        rus       0.50      0.18      0.26        17\n",
      "        som       0.50      0.38      0.43         8\n",
      "        spa       0.38      0.74      0.50        23\n",
      "        deu       0.43      0.30      0.35        10\n",
      "        vie       0.71      0.59      0.65        17\n",
      "\n",
      "avg / total       0.52      0.50      0.48       123\n",
      "\n",
      "Macro F1: 0.468\n",
      "Micro F1: 0.496\n",
      "Weighted F1: 0.483\n",
      "== Confusion matrix ==\n",
      "[[12  0  0  0  6  0  0]\n",
      " [ 4 13  1  1  7  3  1]\n",
      " [ 0  8  3  0  4  1  1]\n",
      " [ 2  0  0  3  2  0  1]\n",
      " [ 2  1  1  1 17  0  1]\n",
      " [ 2  1  0  0  4  3  0]\n",
      " [ 0  0  1  1  5  0 10]]\n"
     ]
    },
    {
     "data": {
      "image/png": "[encoded data removed]",
      "text/plain": [
       "<Figure size 360x180 with 2 Axes>"
      ]
     },
     "metadata": {
      "needs_background": "light"
     },
     "output_type": "display_data"
    }
   ],
   "source": [
    "fig, (ax1, ax2) = plt.subplots(1, 2)\n",
    "\n",
    "report(cefr_targets, cefr_pred, CEFR_LABELS, ax=ax1)\n",
    "report(lang_targets, lang_pred, LANG_LABELS, ax=ax2)\n",
    "fig.set_size_inches(5, 2.5)\n",
    "fig.tight_layout()\n",
    "#plt.savefig(str(IMG_DIR / \"multi-test-cm.pdf\"), bbox_inches=\"tight\")"
   ]
  },
  {
   "cell_type": "code",
   "execution_count": null,
   "metadata": {},
   "outputs": [],
   "source": []
  }
 ],
 "metadata": {
  "kernelspec": {
   "display_name": "Python (master thesis)",
   "language": "python",
   "name": "masterthesis"
  },
  "language_info": {
   "codemirror_mode": {
    "name": "ipython",
    "version": 3
   },
   "file_extension": ".py",
   "mimetype": "text/x-python",
   "name": "python",
   "nbconvert_exporter": "python",
   "pygments_lexer": "ipython3",
   "version": "3.5.2"
  }
 },
 "nbformat": 4,
 "nbformat_minor": 2
}
