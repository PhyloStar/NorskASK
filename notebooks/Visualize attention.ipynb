{
 "cells": [
  {
   "cell_type": "code",
   "execution_count": 1,
   "metadata": {},
   "outputs": [],
   "source": [
    "%load_ext autoreload\n",
    "%autoreload 2"
   ]
  },
  {
   "cell_type": "code",
   "execution_count": 2,
   "metadata": {},
   "outputs": [
    {
     "name": "stderr",
     "output_type": "stream",
     "text": [
      "Using TensorFlow backend.\n"
     ]
    }
   ],
   "source": [
    "import pickle\n",
    "\n",
    "from IPython.display import HTML\n",
    "from keras.models import Model, load_model\n",
    "from matplotlib.colors import rgb2hex\n",
    "import matplotlib.pyplot as plt\n",
    "import numpy as np\n",
    "\n",
    "from masterthesis.features.build_features import file_to_sequence\n",
    "from masterthesis.utils import DATA_DIR, ATTENTION_LAYER, MODEL_DIR, RESULTS_DIR, load_split"
   ]
  },
  {
   "cell_type": "code",
   "execution_count": 3,
   "metadata": {},
   "outputs": [],
   "source": [
    "def weight2color(cmap, w):\n",
    "    return rgb2hex(cmap(w))"
   ]
  },
  {
   "cell_type": "code",
   "execution_count": 4,
   "metadata": {},
   "outputs": [],
   "source": [
    "def show_weighted(tokens, weights):\n",
    "    cmap = plt.cm.coolwarm\n",
    "    ents = []\n",
    "    for token, weight in zip(tokens, weights):\n",
    "        col = weight2color(cmap, weight)\n",
    "        ent = '<span style=\"color: %s\">%s</span>' % (col, token)\n",
    "        ents.append(ent)\n",
    "    display(HTML(' '.join(ents)))"
   ]
  },
  {
   "cell_type": "code",
   "execution_count": 5,
   "metadata": {},
   "outputs": [],
   "source": [
    "def tokens_in_file(filepath):\n",
    "    with filepath.open() as f:\n",
    "        for line in f:\n",
    "            for token in line.strip().split():\n",
    "                yield token"
   ]
  },
  {
   "cell_type": "code",
   "execution_count": 6,
   "metadata": {},
   "outputs": [],
   "source": [
    "def file_with_attention(filepath, attention_model, w2i, maxlen=None):\n",
    "    x = file_to_sequence(700, filepath, w2i)[np.newaxis, :]\n",
    "    weights = attention_model.predict(x)[0]\n",
    "    weights -= weights.min()\n",
    "    weights /= weights.max()\n",
    "    if maxlen is not None:\n",
    "        weights = weights[:maxlen]\n",
    "    unk_idx = w2i['__UNK__']\n",
    "    tokens = (token if idx != unk_idx else '❓' for token, idx in zip(tokens_in_file(filepath), x[0]))\n",
    "    show_weighted(tokens, weights)"
   ]
  },
  {
   "cell_type": "code",
   "execution_count": 7,
   "metadata": {},
   "outputs": [],
   "source": [
    "model_name = 'rnn_nli-25717032'"
   ]
  },
  {
   "cell_type": "code",
   "execution_count": 8,
   "metadata": {},
   "outputs": [],
   "source": [
    "w2i = pickle.load((MODEL_DIR / (model_name + '_model_w2i.pkl')).open('rb'))\n",
    "model = load_model(str(MODEL_DIR / (model_name + '_model.h5')))\n",
    "\n",
    "attention_model = Model(inputs=model.input, outputs=model.get_layer(ATTENTION_LAYER).output)"
   ]
  },
  {
   "cell_type": "code",
   "execution_count": 9,
   "metadata": {
    "scrolled": true
   },
   "outputs": [
    {
     "data": {
      "text/html": [
       "<div>\n",
       "<style scoped>\n",
       "    .dataframe tbody tr th:only-of-type {\n",
       "        vertical-align: middle;\n",
       "    }\n",
       "\n",
       "    .dataframe tbody tr th {\n",
       "        vertical-align: top;\n",
       "    }\n",
       "\n",
       "    .dataframe thead th {\n",
       "        text-align: right;\n",
       "    }\n",
       "</style>\n",
       "<table border=\"1\" class=\"dataframe\">\n",
       "  <thead>\n",
       "    <tr style=\"text-align: right;\">\n",
       "      <th></th>\n",
       "      <th>age</th>\n",
       "      <th>cefr</th>\n",
       "      <th>filename</th>\n",
       "      <th>gender</th>\n",
       "      <th>lang</th>\n",
       "      <th>num_tokens</th>\n",
       "      <th>split</th>\n",
       "      <th>testlevel</th>\n",
       "      <th>title</th>\n",
       "      <th>topic</th>\n",
       "    </tr>\n",
       "  </thead>\n",
       "  <tbody>\n",
       "    <tr>\n",
       "      <th>878</th>\n",
       "      <td>36</td>\n",
       "      <td>B1</td>\n",
       "      <td>s0043</td>\n",
       "      <td>kvinne</td>\n",
       "      <td>spansk</td>\n",
       "      <td>230</td>\n",
       "      <td>dev</td>\n",
       "      <td>Språkprøven</td>\n",
       "      <td>Fremmedspråkslæring</td>\n",
       "      <td>utdannelse språk</td>\n",
       "    </tr>\n",
       "    <tr>\n",
       "      <th>667</th>\n",
       "      <td>27</td>\n",
       "      <td>B1/B2</td>\n",
       "      <td>h0672</td>\n",
       "      <td>kvinne</td>\n",
       "      <td>spansk</td>\n",
       "      <td>408</td>\n",
       "      <td>dev</td>\n",
       "      <td>Høyere nivå</td>\n",
       "      <td>Diktet 'Ingen ting' av Paulus Utsi om språk</td>\n",
       "      <td>litteratur dikt språk</td>\n",
       "    </tr>\n",
       "    <tr>\n",
       "      <th>130</th>\n",
       "      <td>28</td>\n",
       "      <td>B1/B2</td>\n",
       "      <td>h0131</td>\n",
       "      <td>kvinne</td>\n",
       "      <td>polsk</td>\n",
       "      <td>753</td>\n",
       "      <td>dev</td>\n",
       "      <td>Høyere nivå</td>\n",
       "      <td>Borgerlønn</td>\n",
       "      <td>økonomi</td>\n",
       "    </tr>\n",
       "  </tbody>\n",
       "</table>\n",
       "</div>"
      ],
      "text/plain": [
       "     age   cefr filename  gender    lang  num_tokens split    testlevel  \\\n",
       "878   36     B1    s0043  kvinne  spansk         230   dev  Språkprøven   \n",
       "667   27  B1/B2    h0672  kvinne  spansk         408   dev  Høyere nivå   \n",
       "130   28  B1/B2    h0131  kvinne   polsk         753   dev  Høyere nivå   \n",
       "\n",
       "                                           title                   topic  \n",
       "878                          Fremmedspråkslæring       utdannelse språk   \n",
       "667  Diktet 'Ingen ting' av Paulus Utsi om språk  litteratur dikt språk   \n",
       "130                                   Borgerlønn                økonomi   "
      ]
     },
     "metadata": {},
     "output_type": "display_data"
    }
   ],
   "source": [
    "dev = load_split('dev')\n",
    "\n",
    "results = pickle.load((RESULTS_DIR / (model_name + '.pkl')).open('rb'))\n",
    "samples = dev.iloc[np.where(results.true == results.predictions)].sample(3)\n",
    "display(samples)\n",
    "filenames = [DATA_DIR / 'txt' / (fn + '.txt') for fn in samples.filename]"
   ]
  },
  {
   "cell_type": "code",
   "execution_count": 10,
   "metadata": {
    "scrolled": true
   },
   "outputs": [
    {
     "data": {
      "text/html": [
       "<span style=\"color: #6788ee\">❓</span> <span style=\"color: #516ddb\">|</span> <span style=\"color: #6485ec\">A</span> <span style=\"color: #4e68d8\">begynne</span> <span style=\"color: #465ecf\">med</span> <span style=\"color: #3f53c6\">et</span> <span style=\"color: #a9c6fd\">nytt</span> <span style=\"color: #6384eb\">språk</span> <span style=\"color: #5470de\">i</span> <span style=\"color: #ead4c8\">voksen</span> <span style=\"color: #bb1b2c\">alder</span> <span style=\"color: #c43032\">,</span> <span style=\"color: #ba162b\">er</span> <span style=\"color: #b40426\">stort</span> <span style=\"color: #b40426\">sett</span> <span style=\"color: #b40426\">veldig</span> <span style=\"color: #b40426\">vanskelig</span> <span style=\"color: #b40426\">.</span> <span style=\"color: #be242e\">Til</span> <span style=\"color: #c32e31\">å</span> <span style=\"color: #bd1f2d\">begynne</span> <span style=\"color: #bd1f2d\">med</span> <span style=\"color: #bb1b2c\">beholder</span> <span style=\"color: #b70d28\">mann</span> <span style=\"color: #b8122a\">ikke</span> <span style=\"color: #b70d28\">den</span> <span style=\"color: #b70d28\">fantastiske</span> <span style=\"color: #c0282f\">❓</span> <span style=\"color: #ba162b\">mann</span> <span style=\"color: #cd423b\">har</span> <span style=\"color: #f1ccb8\">som</span> <span style=\"color: #ee8669\">barn</span> <span style=\"color: #d1dae9\">,</span> <span style=\"color: #e67259\">ellers</span> <span style=\"color: #efcebd\">,</span> <span style=\"color: #e7745b\">mangler</span> <span style=\"color: #f59f80\">vi</span> <span style=\"color: #f3c7b1\">tid</span> <span style=\"color: #c3d5f4\">til</span> <span style=\"color: #5572df\">å</span> <span style=\"color: #4358cb\">❓</span> <span style=\"color: #4358cb\">om</span> <span style=\"color: #455cce\">studier</span> <span style=\"color: #4055c8\">og</span> <span style=\"color: #3e51c5\">lekser</span> <span style=\"color: #3f53c6\">.</span> <span style=\"color: #4961d2\">Det</span> <span style=\"color: #3d50c3\">å</span> <span style=\"color: #3c4ec2\">lære</span> <span style=\"color: #3b4cc0\">et</span> <span style=\"color: #3b4cc0\">språk</span> <span style=\"color: #3b4cc0\">krever</span> <span style=\"color: #3b4cc0\">ikke</span> <span style=\"color: #4e68d8\">bare</span> <span style=\"color: #b1cbfc\">tid</span> <span style=\"color: #dfdbd9\">og</span> <span style=\"color: #779af7\">konsentrasjon</span> <span style=\"color: #688aef\">,</span> <span style=\"color: #4358cb\">men</span> <span style=\"color: #4c66d6\">mann</span> <span style=\"color: #4b64d5\">må</span> <span style=\"color: #3d50c3\">har</span> <span style=\"color: #3e51c5\">den</span> <span style=\"color: #5977e3\">muligheter</span> <span style=\"color: #6180e9\">til</span> <span style=\"color: #455cce\">å</span> <span style=\"color: #4a63d3\">jobbe</span> <span style=\"color: #4c66d6\">med</span> <span style=\"color: #4b64d5\">språket</span> <span style=\"color: #5d7ce6\">,</span> <span style=\"color: #8badfd\">med</span> <span style=\"color: #a6c4fe\">å</span> <span style=\"color: #97b8ff\">få</span> <span style=\"color: #aac7fd\">❓</span> <span style=\"color: #ccd9ed\">med</span> <span style=\"color: #dbdcde\">andre</span> <span style=\"color: #f6bda2\">.</span> <span style=\"color: #f3c8b2\">De</span> <span style=\"color: #f7b89c\">kan</span> <span style=\"color: #d5dbe5\">være</span> <span style=\"color: #f7b396\">forskjelige</span> <span style=\"color: #779af7\">grunner</span> <span style=\"color: #779af7\">;</span> <span style=\"color: #6788ee\">far</span> <span style=\"color: #5673e0\">at</span> <span style=\"color: #5e7de7\">dette</span> <span style=\"color: #516ddb\">ikke</span> <span style=\"color: #eed0c0\">skjer</span> <span style=\"color: #f3c7b1\">:</span> <span style=\"color: #edd1c2\">mangler</span> <span style=\"color: #f2cab5\">av</span> <span style=\"color: #c7d7f0\">❓</span> <span style=\"color: #c9d7f0\">,</span> <span style=\"color: #7b9ff9\">❓</span> <span style=\"color: #799cf8\">,</span> <span style=\"color: #506bda\">eller</span> <span style=\"color: #5e7de7\">rett</span> <span style=\"color: #5b7ae5\">og</span> <span style=\"color: #506bda\">slett</span> <span style=\"color: #3f53c6\">fordi</span> <span style=\"color: #3d50c3\">de</span> <span style=\"color: #3c4ec2\">føler</span> <span style=\"color: #3e51c5\">seg</span> <span style=\"color: #3d50c3\">utenfor</span> <span style=\"color: #4358cb\">.</span> <span style=\"color: #3f53c6\">❓</span> <span style=\"color: #3d50c3\">sett</span> <span style=\"color: #536edd\">foretrekker</span> <span style=\"color: #4e68d8\">folk</span> <span style=\"color: #5470de\">å</span> <span style=\"color: #5572df\">❓</span> <span style=\"color: #86a9fc\">seg</span> <span style=\"color: #8db0fe\">inne</span> <span style=\"color: #7396f5\">med</span> <span style=\"color: #bcd2f7\">sine</span> <span style=\"color: #f4c5ad\">egne</span> <span style=\"color: #edd1c2\">,</span> <span style=\"color: #6485ec\">en</span> <span style=\"color: #6687ed\">måtte</span> <span style=\"color: #4a63d3\">de</span> <span style=\"color: #4358cb\">føler</span> <span style=\"color: #4b64d5\">seg</span> <span style=\"color: #536edd\">trygge</span> <span style=\"color: #7b9ff9\">.</span> <span style=\"color: #6485ec\">Når</span> <span style=\"color: #6c8ff1\">det</span> <span style=\"color: #9fbfff\">gjelder</span> <span style=\"color: #f59c7d\">norske</span> <span style=\"color: #abc8fd\">språk</span> <span style=\"color: #bcd2f7\">,</span> <span style=\"color: #d5dbe5\">kan</span> <span style=\"color: #89acfd\">det</span> <span style=\"color: #7a9df8\">være</span> <span style=\"color: #5a78e4\">spesiel</span> <span style=\"color: #5b7ae5\">vanskelig</span> <span style=\"color: #5e7de7\">for</span> <span style=\"color: #5875e1\">folk</span> <span style=\"color: #688aef\">som</span> <span style=\"color: #6180e9\">kommer</span> <span style=\"color: #688aef\">fra</span> <span style=\"color: #5e7de7\">❓</span> <span style=\"color: #9fbfff\">–</span> <span style=\"color: #688aef\">europeiske</span> <span style=\"color: #4e68d8\">land</span> <span style=\"color: #516ddb\">(</span> <span style=\"color: #485fd1\">❓</span> <span style=\"color: #445acc\">Spania</span> <span style=\"color: #4a63d3\">,</span> <span style=\"color: #4358cb\">❓</span> <span style=\"color: #4961d2\">,</span> <span style=\"color: #4055c8\">Italia</span> <span style=\"color: #485fd1\">)</span> <span style=\"color: #4358cb\">å</span> <span style=\"color: #3e51c5\">få</span> <span style=\"color: #3f53c6\">med</span> <span style=\"color: #465ecf\">seg</span> <span style=\"color: #4257c9\">❓</span> <span style=\"color: #445acc\">av</span> <span style=\"color: #4358cb\">noen</span> <span style=\"color: #445acc\">bokstaver</span> <span style=\"color: #455cce\">som</span> <span style=\"color: #84a7fc\">bare</span> <span style=\"color: #f5c4ac\">tilhører</span> <span style=\"color: #f7b396\">i</span> <span style=\"color: #cc403a\">den</span> <span style=\"color: #b70d28\">norske</span> <span style=\"color: #b70d28\">❓</span> <span style=\"color: #b40426\">.</span> <span style=\"color: #b40426\">Det</span> <span style=\"color: #b40426\">med</span> <span style=\"color: #b40426\">forskjellige</span> <span style=\"color: #b50927\">❓</span> <span style=\"color: #bd1f2d\">gjøre</span> <span style=\"color: #c43032\">det</span> <span style=\"color: #ba162b\">enda</span> <span style=\"color: #ba162b\">vanskeligere</span> <span style=\"color: #ba162b\">.</span> <span style=\"color: #bb1b2c\">❓</span> <span style=\"color: #ba162b\">er</span> <span style=\"color: #b8122a\">det</span> <span style=\"color: #b50927\">mye</span> <span style=\"color: #b40426\">lettere</span> <span style=\"color: #b50927\">å</span> <span style=\"color: #b40426\">lære</span> <span style=\"color: #b40426\">norsk</span> <span style=\"color: #b50927\">i</span> <span style=\"color: #b40426\">Norge</span> <span style=\"color: #b50927\">,</span> <span style=\"color: #bb1b2c\">enn</span> <span style=\"color: #c12b30\">å</span> <span style=\"color: #c73635\">lære</span> <span style=\"color: #c12b30\">norsk</span> <span style=\"color: #ca3b37\">i</span> <span style=\"color: #b40426\">Russland</span> <span style=\"color: #b40426\">.</span> <span style=\"color: #b40426\">Og</span> <span style=\"color: #b40426\">når</span> <span style=\"color: #b40426\">mann</span> <span style=\"color: #b40426\">er</span> <span style=\"color: #b40426\">klar</span> <span style=\"color: #b40426\">over</span> <span style=\"color: #b50927\">at</span> <span style=\"color: #b8122a\">❓</span> <span style=\"color: #c53334\">har</span> <span style=\"color: #c83836\">kommet</span> <span style=\"color: #d24b40\">til</span> <span style=\"color: #d1493f\">Norge</span> <span style=\"color: #dd5f4b\">for</span> <span style=\"color: #cd423b\">godt</span> <span style=\"color: #d24b40\">,</span> <span style=\"color: #e8765c\">så</span> <span style=\"color: #f29274\">er</span> <span style=\"color: #f59d7e\">det</span> <span style=\"color: #f39475\">nødvendig</span> <span style=\"color: #ead5c9\">å</span> <span style=\"color: #d3dbe7\">gjøre</span> <span style=\"color: #aac7fd\">det</span> <span style=\"color: #9ebeff\">som</span> <span style=\"color: #82a6fb\">trenges</span> <span style=\"color: #82a6fb\">for</span> <span style=\"color: #779af7\">å</span> <span style=\"color: #7396f5\">gå</span> <span style=\"color: #b3cdfb\">videre</span> <span style=\"color: #7a9df8\">å</span> <span style=\"color: #7ea1fa\">være</span> <span style=\"color: #5977e3\">en</span> <span style=\"color: #6f92f3\">del</span> <span style=\"color: #7da0f9\">av</span> <span style=\"color: #aec9fc\">sammfunet</span> <span style=\"color: #f1ccb8\">.</span>"
      ],
      "text/plain": [
       "<IPython.core.display.HTML object>"
      ]
     },
     "metadata": {},
     "output_type": "display_data"
    }
   ],
   "source": [
    "file_with_attention(filenames[0], attention_model, w2i, maxlen=300)"
   ]
  },
  {
   "cell_type": "code",
   "execution_count": 11,
   "metadata": {
    "scrolled": true
   },
   "outputs": [
    {
     "data": {
      "text/html": [
       "<span style=\"color: #7597f6\">|</span> <span style=\"color: #5875e1\">Diktet</span> <span style=\"color: #6384eb\">\"</span> <span style=\"color: #82a6fb\">Ingen</span> <span style=\"color: #4961d2\">ting</span> <span style=\"color: #465ecf\">\"</span> <span style=\"color: #4257c9\">av</span> <span style=\"color: #3d50c3\">❓</span> <span style=\"color: #3b4cc0\">❓</span> <span style=\"color: #3b4cc0\">❓</span> <span style=\"color: #3b4cc0\">alle</span> <span style=\"color: #3b4cc0\">❓</span> <span style=\"color: #3b4cc0\">som</span> <span style=\"color: #3b4cc0\">er</span> <span style=\"color: #3b4cc0\">❓</span> <span style=\"color: #3b4cc0\">til</span> <span style=\"color: #3b4cc0\">❓</span> <span style=\"color: #3b4cc0\">av</span> <span style=\"color: #3b4cc0\">å</span> <span style=\"color: #3b4cc0\">snakke</span> <span style=\"color: #3b4cc0\">et</span> <span style=\"color: #3b4cc0\">nytt</span> <span style=\"color: #3b4cc0\">språk</span> <span style=\"color: #3b4cc0\">.</span> <span style=\"color: #3c4ec2\">Jeg</span> <span style=\"color: #3c4ec2\">er</span> <span style=\"color: #3c4ec2\">enig</span> <span style=\"color: #3b4cc0\">med</span> <span style=\"color: #3b4cc0\">❓</span> <span style=\"color: #3b4cc0\">❓</span> <span style=\"color: #3b4cc0\">når</span> <span style=\"color: #3b4cc0\">han</span> <span style=\"color: #3b4cc0\">skriver</span> <span style=\"color: #3b4cc0\">om</span> <span style=\"color: #3b4cc0\">❓</span> <span style=\"color: #3b4cc0\">er</span> <span style=\"color: #3b4cc0\">❓</span> <span style=\"color: #3f53c6\">hos</span> <span style=\"color: #3e51c5\">menneskene</span> <span style=\"color: #4c66d6\">.</span> <span style=\"color: #6c8ff1\">Jeg</span> <span style=\"color: #edd1c2\">tror</span> <span style=\"color: #f0cdbb\">❓</span> <span style=\"color: #c0282f\">fører</span> <span style=\"color: #be242e\">til</span> <span style=\"color: #d0473d\">hvordan</span> <span style=\"color: #e36b54\">man</span> <span style=\"color: #c73635\">oppfører</span> <span style=\"color: #cb3e38\">seg</span> <span style=\"color: #e8765c\">,</span> <span style=\"color: #ead4c8\">løser</span> <span style=\"color: #cfdaea\">problemer</span> <span style=\"color: #b9d0f9\">,</span> <span style=\"color: #7b9ff9\">og</span> <span style=\"color: #516ddb\">❓</span> <span style=\"color: #c6d6f1\">situasjoner</span> <span style=\"color: #f7af91\">.</span> <span style=\"color: #f7af91\">Siden</span> <span style=\"color: #f7a688\">❓</span> <span style=\"color: #f5c4ac\">❓</span> <span style=\"color: #92b4fe\">har</span> <span style=\"color: #6180e9\">jeg</span> <span style=\"color: #5d7ce6\">ikke</span> <span style=\"color: #f6bfa6\">bare</span> <span style=\"color: #f0cdbb\">lært</span> <span style=\"color: #f3c8b2\">norsk</span> <span style=\"color: #dbdcde\">,</span> <span style=\"color: #799cf8\">men</span> <span style=\"color: #5a78e4\">at</span> <span style=\"color: #5e7de7\">det</span> <span style=\"color: #93b5fe\">eksisterer</span> <span style=\"color: #7597f6\">et</span> <span style=\"color: #e46e56\">sterkt</span> <span style=\"color: #be242e\">forhold</span> <span style=\"color: #cb3e38\">mellom</span> <span style=\"color: #b70d28\">språket</span> <span style=\"color: #b70d28\">og</span> <span style=\"color: #b40426\">kulturen</span> <span style=\"color: #b40426\">.</span> <span style=\"color: #b50927\">Hvis</span> <span style=\"color: #b50927\">jeg</span> <span style=\"color: #b40426\">sammenlikner</span> <span style=\"color: #b40426\">spansk</span> <span style=\"color: #b40426\">og</span> <span style=\"color: #b40426\">norsk</span> <span style=\"color: #b40426\">språk</span> <span style=\"color: #b40426\">blir</span> <span style=\"color: #b40426\">det</span> <span style=\"color: #b40426\">ikke</span> <span style=\"color: #b40426\">bare</span> <span style=\"color: #b40426\">❓</span> <span style=\"color: #b40426\">forskjeller</span> <span style=\"color: #b40426\">,</span> <span style=\"color: #b40426\">men</span> <span style=\"color: #b40426\">❓</span> <span style=\"color: #b50927\">og</span> <span style=\"color: #b8122a\">❓</span> <span style=\"color: #b70d28\">temaer</span> <span style=\"color: #be242e\">som</span> <span style=\"color: #bb1b2c\">man</span> <span style=\"color: #c12b30\">må</span> <span style=\"color: #d44e41\">ta</span> <span style=\"color: #b50927\">hensyn</span> <span style=\"color: #b8122a\">til</span> <span style=\"color: #ba162b\">.</span> <span style=\"color: #bb1b2c\">Jeg</span> <span style=\"color: #ee8669\">mener</span> <span style=\"color: #f7a688\">at</span> <span style=\"color: #f5a081\">man</span> <span style=\"color: #f6bda2\">må</span> <span style=\"color: #eed0c0\">ha</span> <span style=\"color: #cbd8ee\">en</span> <span style=\"color: #aac7fd\">❓</span> <span style=\"color: #d2dbe8\">om</span> <span style=\"color: #f6bfa6\">kulturen</span> <span style=\"color: #f4c5ad\">for</span> <span style=\"color: #f2c9b4\">å</span> <span style=\"color: #f2cbb7\">❓</span> <span style=\"color: #e9785d\">språket</span> <span style=\"color: #ec8165\">.</span> <span style=\"color: #ed8366\">❓</span> <span style=\"color: #f29072\">❓</span> <span style=\"color: #d1493f\">skriver</span> <span style=\"color: #ca3b37\">om</span> <span style=\"color: #d85646\">at</span> <span style=\"color: #ec7f63\">❓</span> <span style=\"color: #f08b6e\">er</span> <span style=\"color: #f6bea4\">❓</span> <span style=\"color: #ca3b37\">hos</span> <span style=\"color: #d95847\">menneskene</span> <span style=\"color: #cf453c\">.</span> <span style=\"color: #e16751\">❓</span> <span style=\"color: #e9785d\">er</span> <span style=\"color: #e36b54\">på</span> <span style=\"color: #f5c2aa\">en</span> <span style=\"color: #efcebd\">måte</span> <span style=\"color: #bad0f8\">hvordan</span> <span style=\"color: #b1cbfc\">man</span> <span style=\"color: #b6cefa\">tenker</span> <span style=\"color: #b9d0f9\">,</span> <span style=\"color: #b9d0f9\">oppføre</span> <span style=\"color: #d9dce1\">seg</span> <span style=\"color: #d9dce1\">,</span> <span style=\"color: #98b9ff\">❓</span> <span style=\"color: #f7af91\">situasjoner</span> <span style=\"color: #ead4c8\">og</span> <span style=\"color: #dddcdc\">løser</span> <span style=\"color: #cdd9ec\">problemer</span> <span style=\"color: #f7b093\">.</span> <span style=\"color: #cf453c\">Årsaken</span> <span style=\"color: #d75445\">til</span> <span style=\"color: #f08b6e\">dette</span> <span style=\"color: #e0dbd8\">er</span> <span style=\"color: #a7c5fe\">at</span> <span style=\"color: #4c66d6\">språket</span> <span style=\"color: #445acc\">innebærer</span> <span style=\"color: #4257c9\">mange</span> <span style=\"color: #5e7de7\">uttrykk</span> <span style=\"color: #5b7ae5\">som</span> <span style=\"color: #5470de\">er</span> <span style=\"color: #4e68d8\">❓</span> <span style=\"color: #506bda\">til</span> <span style=\"color: #4c66d6\">kulturen</span> <span style=\"color: #5673e0\">og</span> <span style=\"color: #5470de\">❓</span> <span style=\"color: #88abfd\">.</span> <span style=\"color: #86a9fc\">For</span> <span style=\"color: #5e7de7\">eksempel</span> <span style=\"color: #6e90f2\">,</span> <span style=\"color: #536edd\">jeg</span> <span style=\"color: #516ddb\">oppføre</span> <span style=\"color: #4f69d9\">meg</span> <span style=\"color: #4c66d6\">litt</span> <span style=\"color: #85a8fc\">forskellig</span> <span style=\"color: #688aef\">når</span> <span style=\"color: #6e90f2\">jeg</span> <span style=\"color: #f6bda2\">snakker</span> <span style=\"color: #ec8165\">norsk</span> <span style=\"color: #d95847\">.</span> <span style=\"color: #c53334\">Jeg</span> <span style=\"color: #c0282f\">blir</span> <span style=\"color: #bb1b2c\">mer</span> <span style=\"color: #be242e\">❓</span> <span style=\"color: #bd1f2d\">og</span> <span style=\"color: #c43032\">❓</span> <span style=\"color: #c12b30\">.</span> <span style=\"color: #cb3e38\">I</span> <span style=\"color: #e16751\">❓</span> <span style=\"color: #c43032\">snakker</span> <span style=\"color: #e57058\">jeg</span> <span style=\"color: #ee8468\">spansk</span> <span style=\"color: #ec8165\">blir</span> <span style=\"color: #f6bfa6\">jeg</span> <span style=\"color: #f6a586\">mer</span> <span style=\"color: #f1ccb8\">❓</span> <span style=\"color: #f3c7b1\">og</span> <span style=\"color: #f4c5ad\">ikke</span> <span style=\"color: #dadce0\">så</span> <span style=\"color: #b2ccfb\">❓</span> <span style=\"color: #e6d7cf\">.</span> <span style=\"color: #ebd3c6\">Jeg</span> <span style=\"color: #aac7fd\">synes</span> <span style=\"color: #9fbfff\">det</span> <span style=\"color: #86a9fc\">er</span> <span style=\"color: #f7bca1\">rart</span> <span style=\"color: #a2c1ff\">å</span> <span style=\"color: #cdd9ec\">føle</span> <span style=\"color: #ead4c8\">meg</span> <span style=\"color: #8db0fe\">forskjellig</span> <span style=\"color: #8caffe\">når</span> <span style=\"color: #88abfd\">jeg</span> <span style=\"color: #82a6fb\">❓</span> <span style=\"color: #6a8bef\">språk</span> <span style=\"color: #92b4fe\">.</span> <span style=\"color: #6485ec\">I</span> <span style=\"color: #536edd\">tillegg</span> <span style=\"color: #5a78e4\">er</span> <span style=\"color: #5b7ae5\">❓</span> <span style=\"color: #5e7de7\">❓</span> <span style=\"color: #8badfd\">.</span> <span style=\"color: #86a9fc\">For</span> <span style=\"color: #6687ed\">eksempel</span> <span style=\"color: #7396f5\">,</span> <span style=\"color: #5d7ce6\">hvis</span> <span style=\"color: #5a78e4\">vi</span> <span style=\"color: #5a78e4\">tar</span> <span style=\"color: #6282ea\">opp</span> <span style=\"color: #6485ec\">❓</span> <span style=\"color: #8badfd\">,</span> <span style=\"color: #9dbdff\">blir</span> <span style=\"color: #7da0f9\">de</span> <span style=\"color: #7a9df8\">❓</span> <span style=\"color: #85a8fc\">reglene</span> <span style=\"color: #b6cefa\">veldig</span> <span style=\"color: #96b7ff\">forskjellige</span> <span style=\"color: #7396f5\">fra</span> <span style=\"color: #4f69d9\">de</span> <span style=\"color: #7ea1fa\">norske</span> <span style=\"color: #9abbff\">.</span> <span style=\"color: #8fb1fe\">Man</span> <span style=\"color: #7597f6\">må</span> <span style=\"color: #779af7\">legge</span> <span style=\"color: #445acc\">et</span> <span style=\"color: #455cce\">bildet</span> <span style=\"color: #4b64d5\">i</span> <span style=\"color: #a2c1ff\">hodet</span> <span style=\"color: #9bbcff\">for</span> <span style=\"color: #8db0fe\">å</span> <span style=\"color: #dedcdb\">velge</span> <span style=\"color: #ead4c8\">❓</span> <span style=\"color: #f08a6c\">på</span> <span style=\"color: #d1493f\">norsk</span> <span style=\"color: #cb3e38\">,</span> <span style=\"color: #da5a49\">mens</span> <span style=\"color: #d44e41\">på</span> <span style=\"color: #de614d\">spansk</span> <span style=\"color: #e36b54\">er</span> <span style=\"color: #e36b54\">det</span> <span style=\"color: #e46e56\">reglene</span> <span style=\"color: #ef886b\">som</span> <span style=\"color: #f7b79b\">bestemmer</span> <span style=\"color: #eed0c0\">❓</span> <span style=\"color: #f4c5ad\">av</span> <span style=\"color: #dedcdb\">❓</span> <span style=\"color: #f7b194\">.</span> <span style=\"color: #f2cab5\">Når</span> <span style=\"color: #eed0c0\">det</span> <span style=\"color: #f7ad90\">gjelder</span> <span style=\"color: #dedcdb\">hvordan</span> <span style=\"color: #dcdddd\">man</span> <span style=\"color: #c0d4f5\">❓</span> <span style=\"color: #f5c4ac\">problemer</span> <span style=\"color: #f2cab5\">og</span> <span style=\"color: #dedcdb\">❓</span> <span style=\"color: #de614d\">situasjoner</span> <span style=\"color: #f18d6f\">er</span> <span style=\"color: #f18f71\">det</span> <span style=\"color: #f2cab5\">språket</span> <span style=\"color: #dddcdc\">som</span> <span style=\"color: #ccd9ed\">spiller</span> <span style=\"color: #a2c1ff\">en</span> <span style=\"color: #9abbff\">❓</span> <span style=\"color: #d6dce4\">.</span> <span style=\"color: #ead5c9\">Selvfølgelig</span> <span style=\"color: #e4d9d2\">er</span> <span style=\"color: #f7bca1\">det</span> <span style=\"color: #f59d7e\">ikke</span> <span style=\"color: #c0282f\">bare</span> <span style=\"color: #be242e\">språket</span> <span style=\"color: #ca3b37\">som</span> <span style=\"color: #b8122a\">fører</span> <span style=\"color: #bb1b2c\">til</span> <span style=\"color: #ba162b\">det</span> <span style=\"color: #c0282f\">,</span> <span style=\"color: #d65244\">men</span> <span style=\"color: #f29274\">jeg</span> <span style=\"color: #d9dce1\">mener</span> <span style=\"color: #b7cff9\">at</span> <span style=\"color: #a7c5fe\">man</span> <span style=\"color: #ebd3c6\">bør</span>"
      ],
      "text/plain": [
       "<IPython.core.display.HTML object>"
      ]
     },
     "metadata": {},
     "output_type": "display_data"
    }
   ],
   "source": [
    "file_with_attention(filenames[1], attention_model, w2i, maxlen=300)"
   ]
  },
  {
   "cell_type": "code",
   "execution_count": 12,
   "metadata": {},
   "outputs": [
    {
     "data": {
      "text/html": [
       "<span style=\"color: #dfdbd9\">Oppgave</span> <span style=\"color: #e9785d\">A</span> <span style=\"color: #d65244\">:</span> <span style=\"color: #e57058\">❓</span> <span style=\"color: #eb7d62\">og</span> <span style=\"color: #f2c9b4\">❓</span> <span style=\"color: #cdd9ec\">|</span> <span style=\"color: #f7b89c\">Det</span> <span style=\"color: #c4d5f3\">er</span> <span style=\"color: #b9d0f9\">ikke</span> <span style=\"color: #f5c2aa\">lett</span> <span style=\"color: #5d7ce6\">å</span> <span style=\"color: #da5a49\">leve</span> <span style=\"color: #e36c55\">i</span> <span style=\"color: #f7b79b\">denne</span> <span style=\"color: #b2ccfb\">verden</span> <span style=\"color: #5f7fe8\">,</span> <span style=\"color: #3d50c3\">der</span> <span style=\"color: #3e51c5\">alt</span> <span style=\"color: #3d50c3\">skal</span> <span style=\"color: #3b4cc0\">gå</span> <span style=\"color: #3b4cc0\">så</span> <span style=\"color: #3b4cc0\">utrolig</span> <span style=\"color: #3b4cc0\">fort</span> <span style=\"color: #3b4cc0\">og</span> <span style=\"color: #3c4ec2\">alt</span> <span style=\"color: #3c4ec2\">skal</span> <span style=\"color: #3b4cc0\">bli</span> <span style=\"color: #3b4cc0\">så</span> <span style=\"color: #3b4cc0\">❓</span> <span style=\"color: #465ecf\">perfekt</span> <span style=\"color: #6485ec\">.</span> <span style=\"color: #f7bca1\">Det</span> <span style=\"color: #bd1f2d\">fører</span> <span style=\"color: #ba162b\">til</span> <span style=\"color: #b50927\">stress</span> <span style=\"color: #b50927\">og</span> <span style=\"color: #b70d28\">❓</span> <span style=\"color: #b50927\">.</span> <span style=\"color: #b50927\">Folk</span> <span style=\"color: #b70d28\">føler</span> <span style=\"color: #b70d28\">seg</span> <span style=\"color: #bb1b2c\">❓</span> <span style=\"color: #be242e\">og</span> <span style=\"color: #cc403a\">lite</span> <span style=\"color: #ca3b37\">nyttig</span> <span style=\"color: #c32e31\">.</span> <span style=\"color: #f08a6c\">Hvis</span> <span style=\"color: #c5d6f2\">de</span> <span style=\"color: #8caffe\">er</span> <span style=\"color: #d5dbe5\">veldig</span> <span style=\"color: #7699f6\">❓</span> <span style=\"color: #8badfd\">i</span> <span style=\"color: #4358cb\">tillegg</span> <span style=\"color: #4961d2\">,</span> <span style=\"color: #5572df\">kan</span> <span style=\"color: #4358cb\">de</span> <span style=\"color: #3d50c3\">få</span> <span style=\"color: #485fd1\">alvorlige</span> <span style=\"color: #4961d2\">psykiske</span> <span style=\"color: #445acc\">problemer</span> <span style=\"color: #5d7ce6\">.</span> <span style=\"color: #a1c0ff\">Det</span> <span style=\"color: #d1dae9\">kan</span> <span style=\"color: #7ea1fa\">føre</span> <span style=\"color: #7699f6\">til</span> <span style=\"color: #5470de\">at</span> <span style=\"color: #4358cb\">de</span> <span style=\"color: #4961d2\">går</span> <span style=\"color: #4358cb\">til</span> <span style=\"color: #5673e0\">legen</span> <span style=\"color: #536edd\">,</span> <span style=\"color: #4b64d5\">og</span> <span style=\"color: #4358cb\">han</span> <span style=\"color: #3f53c6\">❓</span> <span style=\"color: #4a63d3\">dem</span> <span style=\"color: #5572df\">.</span> <span style=\"color: #455cce\">Etterhvert</span> <span style=\"color: #3f53c6\">får</span> <span style=\"color: #445acc\">dem</span> <span style=\"color: #3d50c3\">❓</span> <span style=\"color: #3c4ec2\">for</span> <span style=\"color: #3b4cc0\">å</span> <span style=\"color: #3b4cc0\">gå</span> <span style=\"color: #3b4cc0\">på</span> <span style=\"color: #3d50c3\">jobben</span> <span style=\"color: #3d50c3\">,</span> <span style=\"color: #3c4ec2\">vil</span> <span style=\"color: #3b4cc0\">de</span> <span style=\"color: #3c4ec2\">ikke</span> <span style=\"color: #3c4ec2\">ha</span> <span style=\"color: #3c4ec2\">kontakt</span> <span style=\"color: #3c4ec2\">med</span> <span style=\"color: #3d50c3\">andre</span> <span style=\"color: #3c4ec2\">mennesker</span> <span style=\"color: #3c4ec2\">og</span> <span style=\"color: #3d50c3\">kansje</span> <span style=\"color: #3c4ec2\">for</span> <span style=\"color: #3b4cc0\">å</span> <span style=\"color: #3b4cc0\">synes</span> <span style=\"color: #3b4cc0\">synd</span> <span style=\"color: #3b4cc0\">på</span> <span style=\"color: #3b4cc0\">seg</span> <span style=\"color: #3b4cc0\">selv</span> <span style=\"color: #3c4ec2\">begynner</span> <span style=\"color: #3c4ec2\">å</span> <span style=\"color: #3f53c6\">drikke</span> <span style=\"color: #4a63d3\">.</span> <span style=\"color: #3d50c3\">Dette</span> <span style=\"color: #4055c8\">kan</span> <span style=\"color: #3d50c3\">gå</span> <span style=\"color: #3c4ec2\">så</span> <span style=\"color: #3d50c3\">langt</span> <span style=\"color: #3d50c3\">at</span> <span style=\"color: #3b4cc0\">de</span> <span style=\"color: #3c4ec2\">må</span> <span style=\"color: #3b4cc0\">gå</span> <span style=\"color: #3b4cc0\">over</span> <span style=\"color: #3b4cc0\">på</span> <span style=\"color: #3b4cc0\">❓</span> <span style=\"color: #3b4cc0\">,</span> <span style=\"color: #3b4cc0\">og</span> <span style=\"color: #3b4cc0\">det</span> <span style=\"color: #3b4cc0\">er</span> <span style=\"color: #3b4cc0\">slett</span> <span style=\"color: #3b4cc0\">ikke</span> <span style=\"color: #3b4cc0\">billig</span> <span style=\"color: #3b4cc0\">for</span> <span style=\"color: #3b4cc0\">staten</span> <span style=\"color: #3b4cc0\">og</span> <span style=\"color: #3b4cc0\">❓</span> <span style=\"color: #3c4ec2\">.</span> <span style=\"color: #455cce\">Det</span> <span style=\"color: #4257c9\">er</span> <span style=\"color: #4f69d9\">også</span> <span style=\"color: #4055c8\">en</span> <span style=\"color: #3e51c5\">gruppe</span> <span style=\"color: #3d50c3\">som</span> <span style=\"color: #3c4ec2\">gå</span> <span style=\"color: #3b4cc0\">over</span> <span style=\"color: #3b4cc0\">på</span> <span style=\"color: #3b4cc0\">❓</span> <span style=\"color: #3b4cc0\">pga</span> <span style=\"color: #3b4cc0\">skader</span> <span style=\"color: #3d50c3\">.</span> <span style=\"color: #3e51c5\">De</span> <span style=\"color: #3c4ec2\">❓</span> <span style=\"color: #3e51c5\">kan</span> <span style=\"color: #3b4cc0\">bli</span> <span style=\"color: #3b4cc0\">❓</span> <span style=\"color: #3b4cc0\">både</span> <span style=\"color: #3b4cc0\">på</span> <span style=\"color: #3b4cc0\">arbeidsplassen</span> <span style=\"color: #3b4cc0\">men</span> <span style=\"color: #3b4cc0\">også</span> <span style=\"color: #3b4cc0\">hjemmet</span> <span style=\"color: #3b4cc0\">.</span> <span style=\"color: #3c4ec2\">Jeg</span> <span style=\"color: #3c4ec2\">er</span> <span style=\"color: #3f53c6\">veldig</span> <span style=\"color: #445acc\">god</span> <span style=\"color: #3d50c3\">eksempel</span> <span style=\"color: #3d50c3\">på</span> <span style=\"color: #3c4ec2\">det</span> <span style=\"color: #3f53c6\">.</span> <span style=\"color: #4257c9\">Jeg</span> <span style=\"color: #3c4ec2\">har</span> <span style=\"color: #3b4cc0\">vært</span> <span style=\"color: #3b4cc0\">skadet</span> <span style=\"color: #3b4cc0\">hjemmet</span> <span style=\"color: #3b4cc0\">for</span> <span style=\"color: #3b4cc0\">to</span> <span style=\"color: #3b4cc0\">år</span> <span style=\"color: #3b4cc0\">siden</span> <span style=\"color: #3b4cc0\">.</span> <span style=\"color: #3b4cc0\">Etter</span> <span style=\"color: #3b4cc0\">❓</span> <span style=\"color: #3e51c5\">hos</span> <span style=\"color: #6687ed\">legen</span> <span style=\"color: #f6a586\">fikk</span> <span style=\"color: #f59c7d\">jeg</span> <span style=\"color: #c83836\">beskjed</span> <span style=\"color: #c43032\">at</span> <span style=\"color: #cc403a\">jeg</span> <span style=\"color: #be242e\">hadde</span> <span style=\"color: #b50927\">alvorlige</span> <span style=\"color: #b50927\">❓</span> <span style=\"color: #b40426\">-</span> <span style=\"color: #b40426\">og</span> <span style=\"color: #b40426\">❓</span> <span style=\"color: #b40426\">og</span> <span style=\"color: #b40426\">at</span> <span style=\"color: #b40426\">det</span> <span style=\"color: #b40426\">trengs</span> <span style=\"color: #b40426\">komplisert</span> <span style=\"color: #b40426\">behandling</span> <span style=\"color: #b40426\">.</span> <span style=\"color: #b40426\">Det</span> <span style=\"color: #b40426\">har</span> <span style=\"color: #ba162b\">gått</span> <span style=\"color: #c53334\">to</span> <span style=\"color: #d65244\">år</span> <span style=\"color: #f7b99e\">,</span> <span style=\"color: #c7d7f0\">og</span> <span style=\"color: #5470de\">jeg</span> <span style=\"color: #4358cb\">er</span> <span style=\"color: #e26952\">fortsatt</span> <span style=\"color: #e8765c\">ikke</span> <span style=\"color: #da5a49\">bra</span> <span style=\"color: #e57058\">.</span> <span style=\"color: #e9785d\">Jeg</span> <span style=\"color: #f59c7d\">må</span> <span style=\"color: #bd1f2d\">r</span> <span style=\"color: #e36c55\">reise</span> <span style=\"color: #f29274\">til</span> <span style=\"color: #97b8ff\">Oslo</span> <span style=\"color: #88abfd\">hver</span> <span style=\"color: #6687ed\">tredje</span> <span style=\"color: #dd5f4b\">uke</span> <span style=\"color: #ed8366\">å</span> <span style=\"color: #f39778\">få</span> <span style=\"color: #f7ba9f\">❓</span> <span style=\"color: #b7cff9\">i</span> <span style=\"color: #f7b396\">ryggen</span> <span style=\"color: #f4c6af\">.</span> <span style=\"color: #eed0c0\">I</span> <span style=\"color: #aac7fd\">mellom</span> <span style=\"color: #cdd9ec\">tiden</span> <span style=\"color: #e6d7cf\">måtte</span> <span style=\"color: #82a6fb\">jeg</span> <span style=\"color: #4b64d5\">gå</span> <span style=\"color: #4358cb\">over</span> <span style=\"color: #4257c9\">til</span> <span style=\"color: #3e51c5\">❓</span> <span style=\"color: #3c4ec2\">og</span> <span style=\"color: #a7c5fe\">fortsatt</span> <span style=\"color: #7597f6\">har</span> <span style=\"color: #4f69d9\">jeg</span> <span style=\"color: #4257c9\">lite</span> <span style=\"color: #445acc\">håp</span> <span style=\"color: #4358cb\">for</span> <span style=\"color: #3d50c3\">å</span> <span style=\"color: #4257c9\">komme</span> <span style=\"color: #4e68d8\">ut</span> <span style=\"color: #4c66d6\">i</span> <span style=\"color: #4257c9\">arbeid</span> <span style=\"color: #4358cb\">igjen</span> <span style=\"color: #455cce\">.</span> <span style=\"color: #b5cdfa\">Og</span> <span style=\"color: #96b7ff\">hvis</span> <span style=\"color: #5b7ae5\">jeg</span> <span style=\"color: #4f69d9\">må</span> <span style=\"color: #3f53c6\">gå</span> <span style=\"color: #3c4ec2\">over</span> <span style=\"color: #3c4ec2\">på</span> <span style=\"color: #3b4cc0\">❓</span> <span style=\"color: #3b4cc0\">,</span> <span style=\"color: #4961d2\">skjer</span> <span style=\"color: #516ddb\">det</span> <span style=\"color: #3e51c5\">mot</span> <span style=\"color: #4b64d5\">mine</span> <span style=\"color: #8fb1fe\">vilje</span> <span style=\"color: #c3d5f4\">.</span> <span style=\"color: #d8dce2\">Jeg</span> <span style=\"color: #a6c4fe\">er</span> <span style=\"color: #6b8df0\">tross</span> <span style=\"color: #86a9fc\">alt</span> <span style=\"color: #d75445\">bare</span> <span style=\"color: #d24b40\">❓</span> <span style=\"color: #c0282f\">år</span> <span style=\"color: #b8122a\">gammel</span> <span style=\"color: #b70d28\">og</span> <span style=\"color: #bd1f2d\">har</span> <span style=\"color: #b40426\">heller</span> <span style=\"color: #b40426\">lyst</span> <span style=\"color: #b50927\">til</span> <span style=\"color: #ba162b\">å</span> <span style=\"color: #b8122a\">være</span> <span style=\"color: #b70d28\">ut</span> <span style=\"color: #b8122a\">i</span> <span style=\"color: #ca3b37\">arbeid</span> <span style=\"color: #f7af91\">enn</span> <span style=\"color: #8db0fe\">å</span> <span style=\"color: #7295f4\">være</span> <span style=\"color: #7597f6\">uten</span> <span style=\"color: #8fb1fe\">.</span> <span style=\"color: #e4d9d2\">Det</span> <span style=\"color: #a7c5fe\">finns</span> <span style=\"color: #f7ba9f\">også</span> <span style=\"color: #a6c4fe\">en</span> <span style=\"color: #6e90f2\">del</span> <span style=\"color: #6180e9\">folk</span> <span style=\"color: #5a78e4\">som</span> <span style=\"color: #aac7fd\">rett</span> <span style=\"color: #a5c3fe\">å</span> <span style=\"color: #b7cff9\">slett</span> <span style=\"color: #9bbcff\">❓</span> <span style=\"color: #b7cff9\">og</span> <span style=\"color: #7a9df8\">har</span> <span style=\"color: #89acfd\">ikke</span>"
      ],
      "text/plain": [
       "<IPython.core.display.HTML object>"
      ]
     },
     "metadata": {},
     "output_type": "display_data"
    }
   ],
   "source": [
    "file_with_attention(filenames[2], attention_model, w2i, maxlen=300)"
   ]
  },
  {
   "cell_type": "code",
   "execution_count": null,
   "metadata": {},
   "outputs": [],
   "source": []
  }
 ],
 "metadata": {
  "kernelspec": {
   "display_name": "Python (master thesis)",
   "language": "python",
   "name": "masterthesis"
  },
  "language_info": {
   "codemirror_mode": {
    "name": "ipython",
    "version": 3
   },
   "file_extension": ".py",
   "mimetype": "text/x-python",
   "name": "python",
   "nbconvert_exporter": "python",
   "pygments_lexer": "ipython3",
   "version": "3.5.2"
  }
 },
 "nbformat": 4,
 "nbformat_minor": 2
}
