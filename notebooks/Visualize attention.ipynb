{
 "cells": [
  {
   "cell_type": "code",
   "execution_count": 1,
   "metadata": {},
   "outputs": [],
   "source": [
    "%load_ext autoreload\n",
    "%autoreload 2"
   ]
  },
  {
   "cell_type": "code",
   "execution_count": 2,
   "metadata": {},
   "outputs": [
    {
     "name": "stderr",
     "output_type": "stream",
     "text": [
      "Using TensorFlow backend.\n"
     ]
    }
   ],
   "source": [
    "import pickle\n",
    "\n",
    "from IPython.display import display_html\n",
    "from keras.models import load_model, Model\n",
    "from matplotlib.colors import rgb2hex\n",
    "import matplotlib.pyplot as plt\n",
    "import numpy as np\n",
    "\n",
    "from masterthesis.features.build_features import file_to_sequence\n",
    "from masterthesis.utils import ATTENTION_LAYER, DATA_DIR, MODEL_DIR, RESULTS_DIR, load_split"
   ]
  },
  {
   "cell_type": "code",
   "execution_count": 3,
   "metadata": {},
   "outputs": [],
   "source": [
    "def show_weighted(tokens, weights):\n",
    "    cmap = plt.cm.coolwarm\n",
    "    ents = ['<p style=\"max-width: 80ch\">']\n",
    "    for token, weight in zip(tokens, weights):\n",
    "        col = rgb2hex(cmap(weight))\n",
    "        ent = '<span style=\"color: %s\">%s</span>' % (col, token)\n",
    "        ents.append(ent)\n",
    "    ents.append('</p>')\n",
    "    return ' '.join(ents)"
   ]
  },
  {
   "cell_type": "code",
   "execution_count": 4,
   "metadata": {},
   "outputs": [],
   "source": [
    "def tokens_in_file(filepath):\n",
    "    with filepath.open() as f:\n",
    "        for line in f:\n",
    "            for token in line.strip().split():\n",
    "                yield token"
   ]
  },
  {
   "cell_type": "code",
   "execution_count": 5,
   "metadata": {},
   "outputs": [],
   "source": [
    "def file_with_attention(filepath, attention_model, w2i, maxlen=None):\n",
    "    x = file_to_sequence(700, filepath, w2i)[np.newaxis, :]\n",
    "    weights = attention_model.predict(x)[0]\n",
    "    weights -= weights.min()\n",
    "    weights /= weights.max()\n",
    "    if maxlen is not None:\n",
    "        weights = weights[:maxlen]\n",
    "    unk_idx = w2i['__UNK__']\n",
    "    tokens = (token if idx != unk_idx else 'UNK' for token, idx in zip(tokens_in_file(filepath), x[0]))\n",
    "    return show_weighted(tokens, weights)"
   ]
  },
  {
   "cell_type": "code",
   "execution_count": 6,
   "metadata": {},
   "outputs": [],
   "source": [
    "model_name = 'rnn_nli-25740789'\n",
    "# model_name = 'rnn_nli-25717032'"
   ]
  },
  {
   "cell_type": "code",
   "execution_count": 7,
   "metadata": {},
   "outputs": [],
   "source": [
    "w2i = pickle.load((MODEL_DIR / (model_name + '_model_w2i.pkl')).open('rb'))\n",
    "model = load_model(str(MODEL_DIR / (model_name + '_model.h5')))"
   ]
  },
  {
   "cell_type": "code",
   "execution_count": 8,
   "metadata": {},
   "outputs": [],
   "source": [
    "attention_model = Model(inputs=model.input, outputs=model.get_layer(ATTENTION_LAYER).output)"
   ]
  },
  {
   "cell_type": "code",
   "execution_count": 9,
   "metadata": {
    "scrolled": true
   },
   "outputs": [
    {
     "data": {
      "text/html": [
       "<div>\n",
       "<style scoped>\n",
       "    .dataframe tbody tr th:only-of-type {\n",
       "        vertical-align: middle;\n",
       "    }\n",
       "\n",
       "    .dataframe tbody tr th {\n",
       "        vertical-align: top;\n",
       "    }\n",
       "\n",
       "    .dataframe thead th {\n",
       "        text-align: right;\n",
       "    }\n",
       "</style>\n",
       "<table border=\"1\" class=\"dataframe\">\n",
       "  <thead>\n",
       "    <tr style=\"text-align: right;\">\n",
       "      <th></th>\n",
       "      <th>age</th>\n",
       "      <th>cefr</th>\n",
       "      <th>filename</th>\n",
       "      <th>gender</th>\n",
       "      <th>lang</th>\n",
       "      <th>num_tokens</th>\n",
       "      <th>split</th>\n",
       "      <th>testlevel</th>\n",
       "      <th>title</th>\n",
       "      <th>topic</th>\n",
       "    </tr>\n",
       "  </thead>\n",
       "  <tbody>\n",
       "    <tr>\n",
       "      <th>183</th>\n",
       "      <td>29</td>\n",
       "      <td>B2</td>\n",
       "      <td>h0186</td>\n",
       "      <td>kvinne</td>\n",
       "      <td>russisk</td>\n",
       "      <td>551</td>\n",
       "      <td>dev</td>\n",
       "      <td>Høyere nivå</td>\n",
       "      <td>Helse og livskvalitet</td>\n",
       "      <td>helse</td>\n",
       "    </tr>\n",
       "    <tr>\n",
       "      <th>1014</th>\n",
       "      <td>29</td>\n",
       "      <td>A2/B1</td>\n",
       "      <td>s0180</td>\n",
       "      <td>kvinne</td>\n",
       "      <td>vietnamesisk</td>\n",
       "      <td>380</td>\n",
       "      <td>dev</td>\n",
       "      <td>Språkprøven</td>\n",
       "      <td>Røyking</td>\n",
       "      <td>helse røyking</td>\n",
       "    </tr>\n",
       "    <tr>\n",
       "      <th>186</th>\n",
       "      <td>51</td>\n",
       "      <td>C1</td>\n",
       "      <td>h0189</td>\n",
       "      <td>kvinne</td>\n",
       "      <td>engelsk</td>\n",
       "      <td>523</td>\n",
       "      <td>dev</td>\n",
       "      <td>Høyere nivå</td>\n",
       "      <td>Helse og livskvalitet</td>\n",
       "      <td>helse</td>\n",
       "    </tr>\n",
       "    <tr>\n",
       "      <th>1450</th>\n",
       "      <td>21</td>\n",
       "      <td>A2/B1</td>\n",
       "      <td>s0621</td>\n",
       "      <td>kvinne</td>\n",
       "      <td>somali</td>\n",
       "      <td>284</td>\n",
       "      <td>dev</td>\n",
       "      <td>Språkprøven</td>\n",
       "      <td>En hyggelig opplevelse</td>\n",
       "      <td>opplevelse</td>\n",
       "    </tr>\n",
       "  </tbody>\n",
       "</table>\n",
       "</div>"
      ],
      "text/plain": [
       "      age   cefr filename  gender          lang  num_tokens split  \\\n",
       "183    29     B2    h0186  kvinne       russisk         551   dev   \n",
       "1014   29  A2/B1    s0180  kvinne  vietnamesisk         380   dev   \n",
       "186    51     C1    h0189  kvinne       engelsk         523   dev   \n",
       "1450   21  A2/B1    s0621  kvinne        somali         284   dev   \n",
       "\n",
       "        testlevel                   title           topic  \n",
       "183   Høyere nivå   Helse og livskvalitet          helse   \n",
       "1014  Språkprøven                 Røyking  helse røyking   \n",
       "186   Høyere nivå   Helse og livskvalitet          helse   \n",
       "1450  Språkprøven  En hyggelig opplevelse     opplevelse   "
      ]
     },
     "metadata": {},
     "output_type": "display_data"
    }
   ],
   "source": [
    "dev = load_split('dev')\n",
    "\n",
    "results = pickle.load((RESULTS_DIR / (model_name + '.pkl')).open('rb'))\n",
    "correct_predictions = dev.iloc[np.where(results.true == results.predictions)]\n",
    "langs = ['russisk', 'vietnamesisk', 'engelsk', 'somali']\n",
    "sample_indices = [correct_predictions[correct_predictions.lang == l].index[0]\n",
    "                  for l in langs]\n",
    "samples = correct_predictions.loc[sample_indices]\n",
    "display(samples)\n",
    "filenames = [DATA_DIR / 'txt' / (fn + '.txt') for fn in samples.filename]"
   ]
  },
  {
   "cell_type": "code",
   "execution_count": 10,
   "metadata": {
    "scrolled": false
   },
   "outputs": [
    {
     "data": {
      "text/html": [
       "<h2>h0186</h2>"
      ]
     },
     "metadata": {},
     "output_type": "display_data"
    },
    {
     "data": {
      "text/html": [
       "<p style=\"max-width: 80ch\"> <span style=\"color: #4c66d6\">UNK</span> <span style=\"color: #4257c9\">og</span> <span style=\"color: #4257c9\">livskvalitet</span> <span style=\"color: #3d50c3\">|</span> <span style=\"color: #3b4cc0\">Undersøkelser</span> <span style=\"color: #4055c8\">viser</span> <span style=\"color: #3f53c6\">at</span> <span style=\"color: #3c4ec2\">mange</span> <span style=\"color: #3b4cc0\">mennesker</span> <span style=\"color: #3b4cc0\">ikke</span> <span style=\"color: #3c4ec2\">lever</span> <span style=\"color: #5470de\">sunt</span> <span style=\"color: #445acc\">verden</span> <span style=\"color: #3e51c5\">over</span> <span style=\"color: #445acc\">.</span> <span style=\"color: #465ecf\">Folk</span> <span style=\"color: #7ea1fa\">beveger</span> <span style=\"color: #f2c9b4\">seg</span> <span style=\"color: #f4987a\">mindre</span> <span style=\"color: #d9dce1\">enn</span> <span style=\"color: #f7b497\">før</span> <span style=\"color: #f6bfa6\">,</span> <span style=\"color: #a3c2fe\">bruker</span> <span style=\"color: #445acc\">bil</span> <span style=\"color: #3c4ec2\">eller</span> <span style=\"color: #3b4cc0\">bus</span> <span style=\"color: #3e51c5\">oftere</span> <span style=\"color: #3f53c6\">,</span> <span style=\"color: #455cce\">spiser</span> <span style=\"color: #efcebd\">usunn</span> <span style=\"color: #ba162b\">mat</span> <span style=\"color: #b40426\">.</span> <span style=\"color: #b40426\">Det</span> <span style=\"color: #b40426\">fører</span> <span style=\"color: #b40426\">til</span> <span style=\"color: #b40426\">økning</span> <span style=\"color: #b40426\">antall</span> <span style=\"color: #b40426\">av</span> <span style=\"color: #b40426\">forskjellige</span> <span style=\"color: #b40426\">sykdommer</span> <span style=\"color: #b40426\">blant</span> <span style=\"color: #b40426\">folk</span> <span style=\"color: #b40426\">.</span> <span style=\"color: #b40426\">Det</span> <span style=\"color: #b40426\">er</span> <span style=\"color: #b50927\">et</span> <span style=\"color: #bb1b2c\">internasjonal</span> <span style=\"color: #c53334\">problem</span> <span style=\"color: #c12b30\">.</span> <span style=\"color: #b70d28\">Forskere</span> <span style=\"color: #b70d28\">diskuterer</span> <span style=\"color: #b8122a\">problemet</span> <span style=\"color: #ba162b\">og</span> <span style=\"color: #b40426\">prøver</span> <span style=\"color: #b70d28\">å</span> <span style=\"color: #b40426\">finne</span> <span style=\"color: #ba162b\">noen</span> <span style=\"color: #d1493f\">løsninger</span> <span style=\"color: #c32e31\">.</span> <span style=\"color: #be242e\">De</span> <span style=\"color: #e8765c\">UNK</span> <span style=\"color: #f5c4ac\">menneskene</span> <span style=\"color: #779af7\">hvordan</span> <span style=\"color: #6c8ff1\">feil</span> <span style=\"color: #b9d0f9\">livsstil</span> <span style=\"color: #dbdcde\">kan</span> <span style=\"color: #edd1c2\">påvirke</span> <span style=\"color: #e36b54\">helse</span> <span style=\"color: #d65244\">.</span> <span style=\"color: #f7b99e\">I</span> <span style=\"color: #dadce0\">denne</span> <span style=\"color: #c3d5f4\">situasjonen</span> <span style=\"color: #b6cefa\">kan</span> <span style=\"color: #f7b093\">legene</span> <span style=\"color: #bd1f2d\">hjelpe</span> <span style=\"color: #b40426\">oss</span> <span style=\"color: #b50927\">med</span> <span style=\"color: #b40426\">god</span> <span style=\"color: #b40426\">råd</span> <span style=\"color: #b40426\">.</span> <span style=\"color: #b40426\">Men</span> <span style=\"color: #b40426\">det</span> <span style=\"color: #b40426\">finnes</span> <span style=\"color: #b40426\">ikke</span> <span style=\"color: #b50927\">UNK</span> <span style=\"color: #b8122a\">til</span> <span style=\"color: #b50927\">den</span> <span style=\"color: #b40426\">.</span> <span style=\"color: #b40426\">Vi</span> <span style=\"color: #b50927\">er</span> <span style=\"color: #c53334\">de</span> <span style=\"color: #ba162b\">eneste</span> <span style=\"color: #cb3e38\">som</span> <span style=\"color: #d75445\">kan</span> <span style=\"color: #be242e\">forbedre</span> <span style=\"color: #dc5d4a\">situasjonen</span> <span style=\"color: #f6a283\">og</span> <span style=\"color: #c32e31\">hjelpe</span> <span style=\"color: #ba162b\">seg</span> <span style=\"color: #d0473d\">selv</span> <span style=\"color: #c0282f\">.</span> <span style=\"color: #c0282f\">Først</span> <span style=\"color: #cc403a\">og</span> <span style=\"color: #b70d28\">fremst</span> <span style=\"color: #b8122a\">må</span> <span style=\"color: #ca3b37\">vi</span> <span style=\"color: #cd423b\">spise</span> <span style=\"color: #bb1b2c\">riktig</span> <span style=\"color: #b70d28\">.</span> <span style=\"color: #b8122a\">Mange</span> <span style=\"color: #bd1f2d\">mennesker</span> <span style=\"color: #c32e31\">spiser</span> <span style=\"color: #d0473d\">feil</span> <span style=\"color: #c83836\">.</span> <span style=\"color: #c12b30\">De</span> <span style=\"color: #c83836\">spiser</span> <span style=\"color: #c32e31\">mye</span> <span style=\"color: #cd423b\">fett</span> <span style=\"color: #ba162b\">mat</span> <span style=\"color: #b50927\">.</span> <span style=\"color: #b40426\">Spesielt</span> <span style=\"color: #b40426\">usunn</span> <span style=\"color: #b40426\">er</span> <span style=\"color: #b40426\">\"</span> <span style=\"color: #b40426\">UNK</span> <span style=\"color: #b40426\">\"</span> <span style=\"color: #b40426\">.</span> <span style=\"color: #b40426\">Den</span> <span style=\"color: #b40426\">er</span> <span style=\"color: #b40426\">den</span> <span style=\"color: #b40426\">UNK</span> <span style=\"color: #b40426\">mat</span> <span style=\"color: #b40426\">du</span> <span style=\"color: #b8122a\">kan</span> <span style=\"color: #b8122a\">finne</span> <span style=\"color: #b70d28\">.</span> <span style=\"color: #cf453c\">UNK</span> <span style=\"color: #dd5f4b\">må</span> <span style=\"color: #8db0fe\">bli</span> <span style=\"color: #6e90f2\">så</span> <span style=\"color: #4055c8\">UNK</span> <span style=\"color: #3d50c3\">så</span> <span style=\"color: #a6c4fe\">mulig</span> <span style=\"color: #b9d0f9\">.</span> <span style=\"color: #5d7ce6\">UNK</span> <span style=\"color: #4257c9\">du</span> <span style=\"color: #4961d2\">mer</span> <span style=\"color: #e6d7cf\">grønnsaker</span> <span style=\"color: #dfdbd9\">og</span> <span style=\"color: #d75445\">frukt</span> <span style=\"color: #b40426\">-</span> <span style=\"color: #b40426\">blir</span> <span style=\"color: #b40426\">du</span> <span style=\"color: #b70d28\">UNK</span> <span style=\"color: #be242e\">.</span> <span style=\"color: #c83836\">UNK</span> <span style=\"color: #c83836\">er</span> <span style=\"color: #b70d28\">også</span> <span style=\"color: #c53334\">lurt</span> <span style=\"color: #dc5d4a\">å</span> <span style=\"color: #f7a98b\">spise</span> <span style=\"color: #f4c5ad\">.</span> <span style=\"color: #f7b599\">Det</span> <span style=\"color: #f5c0a7\">er</span> <span style=\"color: #f39778\">bedre</span> <span style=\"color: #a3c2fe\">å</span> <span style=\"color: #9dbdff\">spise</span> <span style=\"color: #f08a6c\">flere</span> <span style=\"color: #aac7fd\">UNK</span> <span style=\"color: #5470de\">enn</span> <span style=\"color: #3e51c5\">du</span> <span style=\"color: #3c4ec2\">er</span> <span style=\"color: #3f53c6\">vant</span> <span style=\"color: #3e51c5\">til</span> <span style=\"color: #3e51c5\">.</span> <span style=\"color: #3d50c3\">Så</span> <span style=\"color: #3d50c3\">kan</span> <span style=\"color: #3d50c3\">det</span> <span style=\"color: #3b4cc0\">bli</span> <span style=\"color: #3b4cc0\">lurt</span> <span style=\"color: #3b4cc0\">å</span> <span style=\"color: #3b4cc0\">bytte</span> <span style=\"color: #3b4cc0\">ut</span> <span style=\"color: #3b4cc0\">UNK</span> <span style=\"color: #3b4cc0\">med</span> <span style=\"color: #3b4cc0\">UNK</span> <span style=\"color: #3b4cc0\">.</span> <span style=\"color: #3b4cc0\">Mange</span> <span style=\"color: #3b4cc0\">mennesker</span> <span style=\"color: #3b4cc0\">spiser</span> <span style=\"color: #3b4cc0\">UNK</span> <span style=\"color: #3b4cc0\">til</span> <span style=\"color: #3b4cc0\">middag</span> <span style=\"color: #3b4cc0\">.</span> <span style=\"color: #4055c8\">Det</span> <span style=\"color: #86a9fc\">fører</span> <span style=\"color: #c0d4f5\">til</span> <span style=\"color: #dbdcde\">forskjellige</span> <span style=\"color: #7396f5\">UNK</span> <span style=\"color: #ccd9ed\">.</span> <span style=\"color: #5d7ce6\">UNK</span> <span style=\"color: #6687ed\">viser</span> <span style=\"color: #5875e1\">at</span> <span style=\"color: #445acc\">over</span> <span style=\"color: #4055c8\">femti</span> <span style=\"color: #4c66d6\">prosent</span> <span style=\"color: #4b64d5\">av</span> <span style=\"color: #aac7fd\">nordmenn</span> <span style=\"color: #aec9fc\">ikke</span> <span style=\"color: #c1d4f4\">spiser</span> <span style=\"color: #dcdddd\">varm</span> <span style=\"color: #ef886b\">middag</span> <span style=\"color: #ca3b37\">hver</span> <span style=\"color: #e46e56\">dag</span> <span style=\"color: #d85646\">.</span> <span style=\"color: #cc403a\">De</span> <span style=\"color: #c83836\">er</span> <span style=\"color: #b40426\">vanligvis</span> <span style=\"color: #b40426\">unge</span> <span style=\"color: #b40426\">UNK</span> <span style=\"color: #b40426\">mennesker</span> <span style=\"color: #b40426\">med</span> <span style=\"color: #b40426\">barn</span> <span style=\"color: #b40426\">.</span> <span style=\"color: #b40426\">De</span> <span style=\"color: #b40426\">er</span> <span style=\"color: #b40426\">så</span> <span style=\"color: #b40426\">opptatt</span> <span style=\"color: #b40426\">av</span> <span style=\"color: #b8122a\">UNK</span> <span style=\"color: #c73635\">sine</span> <span style=\"color: #d24b40\">at</span> <span style=\"color: #cedaeb\">de</span> <span style=\"color: #a9c6fd\">ikke</span> <span style=\"color: #e6d7cf\">finner</span> <span style=\"color: #f1cdba\">tid</span> <span style=\"color: #d5dbe5\">til</span> <span style=\"color: #6788ee\">å</span> <span style=\"color: #9fbfff\">lage</span> <span style=\"color: #c73635\">mat</span> <span style=\"color: #c0282f\">.</span> <span style=\"color: #b50927\">Det</span> <span style=\"color: #b40426\">høres</span> <span style=\"color: #b40426\">forferdelig</span> <span style=\"color: #b40426\">ut</span> <span style=\"color: #b40426\">.</span> <span style=\"color: #b40426\">UNK</span> <span style=\"color: #b40426\">mat</span> <span style=\"color: #b40426\">er</span> <span style=\"color: #b40426\">nødvendig</span> <span style=\"color: #b40426\">til</span> <span style=\"color: #b40426\">kroppen</span> <span style=\"color: #b40426\">.</span> <span style=\"color: #b40426\">Spesielt</span> <span style=\"color: #b40426\">viktig</span> <span style=\"color: #b40426\">er</span> <span style=\"color: #b40426\">det</span> <span style=\"color: #b40426\">for</span> <span style=\"color: #b40426\">barn</span> <span style=\"color: #b40426\">.</span> <span style=\"color: #b40426\">Vi</span> <span style=\"color: #b40426\">må</span> <span style=\"color: #b40426\">prioritere</span> <span style=\"color: #b40426\">UNK</span> <span style=\"color: #b40426\">helse</span> <span style=\"color: #b8122a\">fordi</span> <span style=\"color: #ba162b\">det</span> <span style=\"color: #bd1f2d\">er</span> <span style=\"color: #ed8366\">de</span> <span style=\"color: #bed2f6\">som</span> <span style=\"color: #516ddb\">skal</span> <span style=\"color: #5f7fe8\">drive</span> <span style=\"color: #4f69d9\">samfunnet</span> <span style=\"color: #4055c8\">i</span> <span style=\"color: #3f53c6\">framtiden</span> <span style=\"color: #3f53c6\">.</span> <span style=\"color: #3f53c6\">Men</span> <span style=\"color: #4b64d5\">sunn</span> <span style=\"color: #b3cdfb\">mat</span> <span style=\"color: #e5d8d1\">er</span> <span style=\"color: #f59d7e\">ikke</span> <span style=\"color: #c0282f\">den</span> <span style=\"color: #b40426\">eneste</span> <span style=\"color: #b50927\">UNK</span> <span style=\"color: #b50927\">av</span> <span style=\"color: #b40426\">høy</span> <span style=\"color: #b40426\">livskvalitet</span> <span style=\"color: #b50927\">og</span> <span style=\"color: #b40426\">helse</span> <span style=\"color: #b40426\">.</span> <span style=\"color: #b8122a\">UNK</span> <span style=\"color: #c0282f\">aktivitet</span> <span style=\"color: #cd423b\">er</span> <span style=\"color: #d44e41\">like</span> <span style=\"color: #e7745b\">viktig</span> <span style=\"color: #eed0c0\">som</span> <span style=\"color: #f39778\">sunn</span> <span style=\"color: #c12b30\">mat</span> <span style=\"color: #b8122a\">.</span> <span style=\"color: #b40426\">Det</span> </p>"
      ]
     },
     "metadata": {},
     "output_type": "display_data"
    },
    {
     "data": {
      "text/html": [
       "<h2>s0180</h2>"
      ]
     },
     "metadata": {},
     "output_type": "display_data"
    },
    {
     "data": {
      "text/html": [
       "<p style=\"max-width: 80ch\"> <span style=\"color: #e7745b\">Oppgave</span> <span style=\"color: #b70d28\">1</span> <span style=\"color: #c53334\">:</span> <span style=\"color: #e7745b\">UNK</span> <span style=\"color: #e36c55\">.</span> <span style=\"color: #f7ba9f\">|</span> <span style=\"color: #ed8366\">Alle</span> <span style=\"color: #c73635\">tingene</span> <span style=\"color: #f49a7b\">har</span> <span style=\"color: #dbdcde\">to</span> <span style=\"color: #ead4c8\">sider</span> <span style=\"color: #e0dbd8\">,</span> <span style=\"color: #d9dce1\">ulemper</span> <span style=\"color: #a3c2fe\">og</span> <span style=\"color: #4961d2\">UNK</span> <span style=\"color: #4b64d5\">.</span> <span style=\"color: #3c4ec2\">UNK</span> <span style=\"color: #3b4cc0\">er</span> <span style=\"color: #3c4ec2\">også</span> <span style=\"color: #3b4cc0\">UNK</span> <span style=\"color: #3b4cc0\">situasjonen</span> <span style=\"color: #3b4cc0\">.</span> <span style=\"color: #3c4ec2\">Det</span> <span style=\"color: #3c4ec2\">er</span> <span style=\"color: #3c4ec2\">forskjellige</span> <span style=\"color: #3b4cc0\">holdninger</span> <span style=\"color: #3b4cc0\">til</span> <span style=\"color: #3c4ec2\">røyking</span> <span style=\"color: #3c4ec2\">i</span> <span style=\"color: #3c4ec2\">Norge</span> <span style=\"color: #3c4ec2\">og</span> <span style=\"color: #3b4cc0\">UNK</span> <span style=\"color: #3b4cc0\">UNK</span> <span style=\"color: #3b4cc0\">.</span> <span style=\"color: #3b4cc0\">Først</span> <span style=\"color: #3b4cc0\">vil</span> <span style=\"color: #3b4cc0\">jeg</span> <span style=\"color: #3b4cc0\">fortelle</span> <span style=\"color: #3b4cc0\">om</span> <span style=\"color: #3b4cc0\">UNK</span> <span style=\"color: #3b4cc0\">og</span> <span style=\"color: #3b4cc0\">ulemper</span> <span style=\"color: #3b4cc0\">av</span> <span style=\"color: #3b4cc0\">røyking</span> <span style=\"color: #3c4ec2\">.</span> <span style=\"color: #3b4cc0\">Hvis</span> <span style=\"color: #3b4cc0\">vi</span> <span style=\"color: #3b4cc0\">kan</span> <span style=\"color: #3c4ec2\">røyke</span> <span style=\"color: #3c4ec2\">i</span> <span style=\"color: #445acc\">riktig</span> <span style=\"color: #7093f3\">tid</span> <span style=\"color: #779af7\">og</span> <span style=\"color: #9abbff\">i</span> <span style=\"color: #f39778\">riktig</span> <span style=\"color: #dbdcde\">sted</span> <span style=\"color: #f7b79b\">,</span> <span style=\"color: #dedcdb\">får</span> <span style=\"color: #8fb1fe\">vi</span> <span style=\"color: #e2dad5\">ganske</span> <span style=\"color: #f7ba9f\">mye</span> <span style=\"color: #dddcdc\">gode</span> <span style=\"color: #dadce0\">resultater</span> <span style=\"color: #f39475\">.</span> <span style=\"color: #f5c0a7\">For</span> <span style=\"color: #a2c1ff\">UNK</span> <span style=\"color: #a3c2fe\">,</span> <span style=\"color: #5a78e4\">når</span> <span style=\"color: #445acc\">vi</span> <span style=\"color: #3f53c6\">jobber</span> <span style=\"color: #3f53c6\">mye</span> <span style=\"color: #3e51c5\">og</span> <span style=\"color: #3d50c3\">får</span> <span style=\"color: #3d50c3\">mye</span> <span style=\"color: #3c4ec2\">stress</span> <span style=\"color: #3d50c3\">,</span> <span style=\"color: #3b4cc0\">UNK</span> <span style=\"color: #3b4cc0\">vi</span> <span style=\"color: #3b4cc0\">en</span> <span style=\"color: #3b4cc0\">UNK</span> <span style=\"color: #3b4cc0\">.</span> <span style=\"color: #3b4cc0\">Da</span> <span style=\"color: #3b4cc0\">vi</span> <span style=\"color: #3b4cc0\">kan</span> <span style=\"color: #3c4ec2\">føle</span> <span style=\"color: #465ecf\">bedre</span> <span style=\"color: #4055c8\">fordi</span> <span style=\"color: #445acc\">det</span> <span style=\"color: #3e51c5\">har</span> <span style=\"color: #3b4cc0\">UNK</span> <span style=\"color: #3b4cc0\">i</span> <span style=\"color: #3b4cc0\">UNK</span> <span style=\"color: #3b4cc0\">og</span> <span style=\"color: #3b4cc0\">den</span> <span style=\"color: #3b4cc0\">kan</span> <span style=\"color: #3c4ec2\">hjelpe</span> <span style=\"color: #6e90f2\">oss</span> <span style=\"color: #5b7ae5\">når</span> <span style=\"color: #6a8bef\">vi</span> <span style=\"color: #6282ea\">er</span> <span style=\"color: #f7b599\">veldig</span> <span style=\"color: #f1ccb8\">sliten</span> <span style=\"color: #d44e41\">på</span> <span style=\"color: #d55042\">jobben</span> <span style=\"color: #c43032\">.</span> <span style=\"color: #f7a98b\">UNK</span> <span style=\"color: #cfdaea\">er</span> <span style=\"color: #94b6ff\">det</span> <span style=\"color: #7295f4\">mange</span> <span style=\"color: #445acc\">ulemper</span> <span style=\"color: #4055c8\">av</span> <span style=\"color: #445acc\">røyking</span> <span style=\"color: #5673e0\">.</span> <span style=\"color: #3e51c5\">Hvis</span> <span style=\"color: #3c4ec2\">noen</span> <span style=\"color: #3b4cc0\">UNK</span> <span style=\"color: #3b4cc0\">mye</span> <span style=\"color: #3b4cc0\">,</span> <span style=\"color: #3b4cc0\">kan</span> <span style=\"color: #3b4cc0\">de</span> <span style=\"color: #3b4cc0\">få</span> <span style=\"color: #3b4cc0\">sykdom</span> <span style=\"color: #3b4cc0\">fra</span> <span style=\"color: #3b4cc0\">røyking</span> <span style=\"color: #3b4cc0\">.</span> <span style=\"color: #3b4cc0\">Noen</span> <span style=\"color: #3b4cc0\">kan</span> <span style=\"color: #3b4cc0\">få</span> <span style=\"color: #3b4cc0\">UNK</span> <span style=\"color: #3b4cc0\">UNK</span> <span style=\"color: #3b4cc0\">etter</span> <span style=\"color: #3b4cc0\">UNK</span> <span style=\"color: #3b4cc0\">røyking</span> <span style=\"color: #3b4cc0\">.</span> <span style=\"color: #3b4cc0\">Noen</span> <span style=\"color: #3b4cc0\">blir</span> <span style=\"color: #3b4cc0\">død</span> <span style=\"color: #3b4cc0\">av</span> <span style=\"color: #3b4cc0\">den</span> <span style=\"color: #3b4cc0\">grunnen</span> <span style=\"color: #3b4cc0\">.</span> <span style=\"color: #3b4cc0\">UNK</span> <span style=\"color: #3b4cc0\">mye</span> <span style=\"color: #3b4cc0\">er</span> <span style=\"color: #3b4cc0\">ikke</span> <span style=\"color: #3b4cc0\">godt</span> <span style=\"color: #3b4cc0\">for</span> <span style=\"color: #4358cb\">helsa</span> <span style=\"color: #6180e9\">.</span> <span style=\"color: #d7dce3\">En</span> <span style=\"color: #f7b497\">ulempe</span> <span style=\"color: #e67259\">av</span> <span style=\"color: #b8122a\">røyking</span> <span style=\"color: #b70d28\">til</span> <span style=\"color: #b50927\">vil</span> <span style=\"color: #c32e31\">jeg</span> <span style=\"color: #e57058\">UNK</span> <span style=\"color: #cc403a\">om</span> <span style=\"color: #f7a889\">som</span> <span style=\"color: #f7a889\">er</span> <span style=\"color: #7ea1fa\">mange</span> <span style=\"color: #4257c9\">UNK</span> <span style=\"color: #3c4ec2\">fra</span> <span style=\"color: #3c4ec2\">røyking</span> <span style=\"color: #3c4ec2\">.</span> <span style=\"color: #3e51c5\">De</span> <span style=\"color: #3d50c3\">er</span> <span style=\"color: #3b4cc0\">bil</span> <span style=\"color: #3b4cc0\">UNK</span> <span style=\"color: #3b4cc0\">,</span> <span style=\"color: #3b4cc0\">UNK</span> <span style=\"color: #3b4cc0\">.</span> <span style=\"color: #3b4cc0\">Når</span> <span style=\"color: #3b4cc0\">mannen</span> <span style=\"color: #445acc\">kjører</span> <span style=\"color: #3d50c3\">bil</span> <span style=\"color: #3d50c3\">og</span> <span style=\"color: #3c4ec2\">UNK</span> <span style=\"color: #3c4ec2\">,</span> <span style=\"color: #3b4cc0\">vil</span> <span style=\"color: #3d50c3\">mannen</span> <span style=\"color: #4a63d3\">finne</span> <span style=\"color: #4055c8\">en</span> <span style=\"color: #3d50c3\">UNK</span> <span style=\"color: #3d50c3\">,</span> <span style=\"color: #3c4ec2\">Da</span> <span style=\"color: #3c4ec2\">etter</span> <span style=\"color: #3d50c3\">kan</span> <span style=\"color: #3c4ec2\">ikke</span> <span style=\"color: #3d50c3\">mannen</span> <span style=\"color: #3b4cc0\">UNK</span> <span style=\"color: #3c4ec2\">.</span> <span style=\"color: #3b4cc0\">Så</span> <span style=\"color: #3b4cc0\">man</span> <span style=\"color: #3b4cc0\">kan</span> <span style=\"color: #3b4cc0\">få</span> <span style=\"color: #3b4cc0\">bil</span> <span style=\"color: #3b4cc0\">ulike</span> <span style=\"color: #3b4cc0\">.</span> <span style=\"color: #3b4cc0\">Noen</span> <span style=\"color: #3b4cc0\">liker</span> <span style=\"color: #3b4cc0\">å</span> <span style=\"color: #3b4cc0\">røyke</span> <span style=\"color: #3b4cc0\">mens</span> <span style=\"color: #3b4cc0\">de</span> <span style=\"color: #3b4cc0\">ligger</span> <span style=\"color: #3b4cc0\">seg</span> <span style=\"color: #3b4cc0\">på</span> <span style=\"color: #3b4cc0\">UNK</span> <span style=\"color: #3b4cc0\">.</span> <span style=\"color: #3d50c3\">De</span> <span style=\"color: #4358cb\">sover</span> <span style=\"color: #455cce\">og</span> <span style=\"color: #f2c9b4\">glemmer</span> <span style=\"color: #c6d6f1\">å</span> <span style=\"color: #f5c4ac\">kaste</span> <span style=\"color: #9abbff\">UNK</span> <span style=\"color: #e6d7cf\">.</span> <span style=\"color: #d24b40\">Det</span> <span style=\"color: #e9785d\">er</span> <span style=\"color: #f6a586\">mange</span> <span style=\"color: #6282ea\">UNK</span> <span style=\"color: #4055c8\">UNK</span> <span style=\"color: #4961d2\">på</span> <span style=\"color: #3d50c3\">denne</span> <span style=\"color: #3b4cc0\">grunnen</span> <span style=\"color: #3b4cc0\">.</span> <span style=\"color: #3b4cc0\">Andre</span> <span style=\"color: #3b4cc0\">vil</span> <span style=\"color: #3b4cc0\">jeg</span> <span style=\"color: #3b4cc0\">UNK</span> <span style=\"color: #3b4cc0\">om</span> <span style=\"color: #3b4cc0\">det</span> <span style=\"color: #3b4cc0\">er</span> <span style=\"color: #3b4cc0\">mye</span> <span style=\"color: #3b4cc0\">forskjellige</span> <span style=\"color: #3b4cc0\">UNK</span> <span style=\"color: #3b4cc0\">til</span> <span style=\"color: #3b4cc0\">røyking</span> <span style=\"color: #3b4cc0\">i</span> <span style=\"color: #3b4cc0\">Norge</span> <span style=\"color: #3b4cc0\">og</span> <span style=\"color: #3b4cc0\">Vietnam</span> <span style=\"color: #3c4ec2\">.</span> <span style=\"color: #3b4cc0\">UNK</span> <span style=\"color: #3b4cc0\">UNK</span> <span style=\"color: #3b4cc0\">UNK</span> <span style=\"color: #3b4cc0\">mye</span> <span style=\"color: #3b4cc0\">.</span> <span style=\"color: #3b4cc0\">De</span> <span style=\"color: #3b4cc0\">UNK</span> <span style=\"color: #3b4cc0\">tidligere</span> <span style=\"color: #3b4cc0\">enn</span> <span style=\"color: #3b4cc0\">UNK</span> <span style=\"color: #3b4cc0\">.</span> <span style=\"color: #3b4cc0\">UNK</span> <span style=\"color: #3b4cc0\">kan</span> <span style=\"color: #3b4cc0\">røyke</span> <span style=\"color: #3b4cc0\">når</span> <span style=\"color: #3b4cc0\">de</span> <span style=\"color: #3b4cc0\">er</span> <span style=\"color: #3b4cc0\">barn</span> <span style=\"color: #3b4cc0\">UNK</span> <span style=\"color: #3b4cc0\">13</span> <span style=\"color: #3b4cc0\">årene</span> <span style=\"color: #3d50c3\">.</span> <span style=\"color: #3f53c6\">Men</span> <span style=\"color: #4961d2\">det</span> <span style=\"color: #5977e3\">er</span> <span style=\"color: #dd5f4b\">forbudt</span> <span style=\"color: #c32e31\">for</span> <span style=\"color: #b40426\">barna</span> <span style=\"color: #b50927\">som</span> <span style=\"color: #b40426\">er</span> <span style=\"color: #b40426\">under</span> <span style=\"color: #b40426\">18</span> <span style=\"color: #b40426\">år</span> <span style=\"color: #b40426\">i</span> <span style=\"color: #b40426\">Vietnam</span> <span style=\"color: #b40426\">.</span> <span style=\"color: #b40426\">Norsk</span> <span style=\"color: #b40426\">kvinner</span> <span style=\"color: #b8122a\">UNK</span> <span style=\"color: #cb3e38\">UNK</span> <span style=\"color: #b70d28\">mest</span> <span style=\"color: #bb1b2c\">i</span> <span style=\"color: #f7a98b\">verden</span> <span style=\"color: #e67259\">.</span> <span style=\"color: #e97a5f\">I</span> <span style=\"color: #f4987a\">Vietnam</span> <span style=\"color: #efcfbf\">er</span> <span style=\"color: #f0cdbb\">det</span> <span style=\"color: #7396f5\">få</span> <span style=\"color: #82a6fb\">kvinner</span> <span style=\"color: #4c66d6\">som</span> <span style=\"color: #465ecf\">kan</span> <span style=\"color: #6485ec\">røyke</span> <span style=\"color: #f7b497\">r</span> <span style=\"color: #f39778\">.</span> <span style=\"color: #de614d\">De</span> </p>"
      ]
     },
     "metadata": {},
     "output_type": "display_data"
    },
    {
     "data": {
      "text/html": [
       "<h2>h0189</h2>"
      ]
     },
     "metadata": {},
     "output_type": "display_data"
    },
    {
     "data": {
      "text/html": [
       "<p style=\"max-width: 80ch\"> <span style=\"color: #e8765c\">Oppgave</span> <span style=\"color: #cc403a\">A</span> <span style=\"color: #dc5d4a\">|</span> <span style=\"color: #b50927\">Hvert</span> <span style=\"color: #b40426\">menneske</span> <span style=\"color: #b40426\">kan</span> <span style=\"color: #b40426\">bidra</span> <span style=\"color: #b40426\">til</span> <span style=\"color: #b50927\">å</span> <span style=\"color: #b50927\">bedre</span> <span style=\"color: #b40426\">sin</span> <span style=\"color: #b40426\">egen</span> <span style=\"color: #b40426\">helse</span> <span style=\"color: #b40426\">og</span> <span style=\"color: #b40426\">dette</span> <span style=\"color: #b40426\">kan</span> <span style=\"color: #b8122a\">UNK</span> <span style=\"color: #b40426\">på</span> <span style=\"color: #b40426\">flere</span> <span style=\"color: #ba162b\">måter</span> <span style=\"color: #b50927\">.</span> <span style=\"color: #b40426\">Samtidig</span> <span style=\"color: #b50927\">er</span> <span style=\"color: #b50927\">det</span> <span style=\"color: #b50927\">viktig</span> <span style=\"color: #c53334\">å</span> <span style=\"color: #b50927\">huske</span> <span style=\"color: #b8122a\">at</span> <span style=\"color: #b8122a\">et</span> <span style=\"color: #ba162b\">menneske</span> <span style=\"color: #be242e\">er</span> <span style=\"color: #b50927\">også</span> <span style=\"color: #b40426\">et</span> <span style=\"color: #bd1f2d\">UNK</span> <span style=\"color: #c83836\">og</span> <span style=\"color: #d75445\">at</span> <span style=\"color: #d24b40\">det</span> <span style=\"color: #b8122a\">finnes</span> <span style=\"color: #be242e\">ikke</span> <span style=\"color: #e7745b\">noen</span> <span style=\"color: #f1cdba\">UNK</span> <span style=\"color: #f1cdba\">for</span> <span style=\"color: #90b2fe\">alle</span> <span style=\"color: #7b9ff9\">.</span> <span style=\"color: #4a63d3\">UNK</span> <span style=\"color: #4358cb\">helse</span> <span style=\"color: #4257c9\">for</span> <span style=\"color: #3c4ec2\">de</span> <span style=\"color: #3b4cc0\">alle</span> <span style=\"color: #3d50c3\">fleste</span> <span style=\"color: #3d50c3\">vil</span> <span style=\"color: #485fd1\">være</span> <span style=\"color: #82a6fb\">et</span> <span style=\"color: #96b7ff\">resultat</span> <span style=\"color: #c9d7f0\">av</span> <span style=\"color: #dcdddd\">en</span> <span style=\"color: #88abfd\">UNK</span> <span style=\"color: #85a8fc\">av</span> <span style=\"color: #5673e0\">hvordan</span> <span style=\"color: #5f7fe8\">man</span> <span style=\"color: #7295f4\">lever</span> <span style=\"color: #4f69d9\">i</span> <span style=\"color: #3f53c6\">dag</span> <span style=\"color: #3c4ec2\">og</span> <span style=\"color: #3c4ec2\">hvor</span> <span style=\"color: #3b4cc0\">UNK</span> <span style=\"color: #3b4cc0\">UNK</span> <span style=\"color: #3b4cc0\">ligger</span> <span style=\"color: #3b4cc0\">.</span> <span style=\"color: #3b4cc0\">Å</span> <span style=\"color: #3b4cc0\">endre</span> <span style=\"color: #3b4cc0\">UNK</span> <span style=\"color: #3b4cc0\">har</span> <span style=\"color: #3b4cc0\">visst</span> <span style=\"color: #3c4ec2\">seg</span> <span style=\"color: #3b4cc0\">å</span> <span style=\"color: #4358cb\">være</span> <span style=\"color: #6788ee\">vanskelig</span> <span style=\"color: #bbd1f8\">for</span> <span style=\"color: #6b8df0\">mange</span> <span style=\"color: #89acfd\">.</span> <span style=\"color: #c9d7f0\">Et</span> <span style=\"color: #f7b79b\">eksempel</span> <span style=\"color: #cd423b\">på</span> <span style=\"color: #e8765c\">dette</span> <span style=\"color: #dc5d4a\">er</span> <span style=\"color: #f5c4ac\">UNK</span> <span style=\"color: #d0473d\">holdning</span> <span style=\"color: #d85646\">til</span> <span style=\"color: #f7a688\">bruk</span> <span style=\"color: #f7b89c\">av</span> <span style=\"color: #98b9ff\">UNK</span> <span style=\"color: #688aef\">og</span> <span style=\"color: #a1c0ff\">alkohol</span> <span style=\"color: #b9d0f9\">.</span> <span style=\"color: #536edd\">Selv</span> <span style=\"color: #4f69d9\">om</span> <span style=\"color: #4b64d5\">det</span> <span style=\"color: #465ecf\">er</span> <span style=\"color: #3c4ec2\">UNK</span> <span style=\"color: #3b4cc0\">UNK</span> <span style=\"color: #3b4cc0\">at</span> <span style=\"color: #3b4cc0\">både</span> <span style=\"color: #3b4cc0\">UNK</span> <span style=\"color: #3b4cc0\">og</span> <span style=\"color: #3b4cc0\">UNK</span> <span style=\"color: #3b4cc0\">reduserer</span> <span style=\"color: #3b4cc0\">bade</span> <span style=\"color: #3b4cc0\">UNK</span> <span style=\"color: #3b4cc0\">og</span> <span style=\"color: #3b4cc0\">UNK</span> <span style=\"color: #3b4cc0\">velger</span> <span style=\"color: #3b4cc0\">mange</span> <span style=\"color: #3b4cc0\">å</span> <span style=\"color: #3b4cc0\">fortsette</span> <span style=\"color: #3b4cc0\">å</span> <span style=\"color: #3b4cc0\">bruke</span> <span style=\"color: #3b4cc0\">de</span> <span style=\"color: #3b4cc0\">daglig</span> <span style=\"color: #3b4cc0\">.</span> <span style=\"color: #3b4cc0\">Hvis</span> <span style=\"color: #3b4cc0\">vi</span> <span style=\"color: #3b4cc0\">tar</span> <span style=\"color: #3b4cc0\">UNK</span> <span style=\"color: #3b4cc0\">i</span> <span style=\"color: #3b4cc0\">vårt</span> <span style=\"color: #3b4cc0\">vestlige</span> <span style=\"color: #3b4cc0\">samfunnet</span> <span style=\"color: #3b4cc0\">er</span> <span style=\"color: #3b4cc0\">det</span> <span style=\"color: #3b4cc0\">å</span> <span style=\"color: #3b4cc0\">ikke</span> <span style=\"color: #3b4cc0\">røyke</span> <span style=\"color: #3b4cc0\">sentralt</span> <span style=\"color: #3b4cc0\">i</span> <span style=\"color: #3c4ec2\">et</span> <span style=\"color: #3f53c6\">hvert</span> <span style=\"color: #7b9ff9\">forsøk</span> <span style=\"color: #dadce0\">for</span> <span style=\"color: #ee8669\">med</span> <span style=\"color: #f18d6f\">å</span> <span style=\"color: #c32e31\">bedre</span> <span style=\"color: #b50927\">egen</span> <span style=\"color: #b70d28\">helse</span> <span style=\"color: #b50927\">.</span> <span style=\"color: #b40426\">Et</span> <span style=\"color: #b40426\">annet</span> <span style=\"color: #b40426\">viktig</span> <span style=\"color: #b40426\">UNK</span> <span style=\"color: #b40426\">er</span> <span style=\"color: #b40426\">hva</span> <span style=\"color: #b40426\">vi</span> <span style=\"color: #b40426\">spiser</span> <span style=\"color: #b50927\">og</span> <span style=\"color: #b70d28\">ikke</span> <span style=\"color: #b40426\">minst</span> <span style=\"color: #b40426\">hvor</span> <span style=\"color: #b40426\">mye</span> <span style=\"color: #b40426\">.</span> <span style=\"color: #b40426\">En</span> <span style=\"color: #b40426\">diet</span> <span style=\"color: #b40426\">med</span> <span style=\"color: #b40426\">et</span> <span style=\"color: #b40426\">større</span> <span style=\"color: #b40426\">UNK</span> <span style=\"color: #b40426\">av</span> <span style=\"color: #b40426\">frukt</span> <span style=\"color: #b40426\">og</span> <span style=\"color: #b40426\">grønnsaker</span> <span style=\"color: #b40426\">er</span> <span style=\"color: #b40426\">en</span> <span style=\"color: #b40426\">av</span> <span style=\"color: #b50927\">de</span> <span style=\"color: #b40426\">mest</span> <span style=\"color: #b40426\">UNK</span> <span style=\"color: #b40426\">av</span> <span style=\"color: #b70d28\">UNK</span> <span style=\"color: #be242e\">i</span> <span style=\"color: #d24b40\">alle</span> <span style=\"color: #e9785d\">UNK</span> <span style=\"color: #f5c4ac\">UNK</span> <span style=\"color: #d5dbe5\">.</span> <span style=\"color: #8badfd\">UNK</span> <span style=\"color: #4b64d5\">innen</span> <span style=\"color: #3f53c6\">UNK</span> <span style=\"color: #3c4ec2\">har</span> <span style=\"color: #3b4cc0\">i</span> <span style=\"color: #3c4ec2\">økende</span> <span style=\"color: #3f53c6\">grad</span> <span style=\"color: #3c4ec2\">UNK</span> <span style=\"color: #3d50c3\">om</span> <span style=\"color: #4961d2\">på</span> <span style=\"color: #3f53c6\">UNK</span> <span style=\"color: #3f53c6\">av</span> <span style=\"color: #4a63d3\">mosjon</span> <span style=\"color: #4b64d5\">i</span> <span style=\"color: #445acc\">forholdet</span> <span style=\"color: #4257c9\">til</span> <span style=\"color: #445acc\">både</span> <span style=\"color: #445acc\">fysiske</span> <span style=\"color: #4257c9\">og</span> <span style=\"color: #3f53c6\">psykiske</span> <span style=\"color: #5875e1\">helse</span> <span style=\"color: #8badfd\">.</span> <span style=\"color: #e36c55\">Det</span> <span style=\"color: #f59f80\">er</span> <span style=\"color: #f39577\">kosthold</span> <span style=\"color: #f7b599\">og</span> <span style=\"color: #ee8468\">mosjon</span> <span style=\"color: #f6bda2\">som</span> <span style=\"color: #e26952\">bør</span> <span style=\"color: #c1d4f4\">stå</span> <span style=\"color: #f1ccb8\">mest</span> <span style=\"color: #f4c5ad\">sentralt</span> <span style=\"color: #7a9df8\">hvis</span> <span style=\"color: #4358cb\">en</span> <span style=\"color: #3d50c3\">skal</span> <span style=\"color: #3b4cc0\">ta</span> <span style=\"color: #3b4cc0\">vare</span> <span style=\"color: #3d50c3\">på</span> <span style=\"color: #3d50c3\">egen</span> <span style=\"color: #4a63d3\">helse</span> <span style=\"color: #6e90f2\">.</span> <span style=\"color: #bed2f6\">Men</span> <span style=\"color: #dedcdb\">det</span> <span style=\"color: #dcdddd\">er</span> <span style=\"color: #ee8468\">også</span> <span style=\"color: #e36c55\">viktig</span> <span style=\"color: #e5d8d1\">å</span> <span style=\"color: #6788ee\">UNK</span> <span style=\"color: #5d7ce6\">over</span> <span style=\"color: #3f53c6\">de</span> <span style=\"color: #4358cb\">sosiale</span> <span style=\"color: #3d50c3\">UNK</span> <span style=\"color: #3d50c3\">en</span> <span style=\"color: #3b4cc0\">har</span> <span style=\"color: #3b4cc0\">,</span> <span style=\"color: #3f53c6\">arbeidsledigheten</span> <span style=\"color: #5977e3\">over</span> <span style=\"color: #5d7ce6\">lang</span> <span style=\"color: #84a7fc\">tid</span> <span style=\"color: #c5d6f2\">for</span> <span style=\"color: #ed8366\">eksempel</span> <span style=\"color: #d75445\">er</span> <span style=\"color: #d0473d\">ikke</span> <span style=\"color: #c0282f\">en</span> <span style=\"color: #c73635\">situasjon</span> <span style=\"color: #ee8468\">som</span> <span style=\"color: #bb1b2c\">bidrar</span> <span style=\"color: #c12b30\">til</span> <span style=\"color: #b8122a\">bedre</span> <span style=\"color: #cf453c\">UNK</span> <span style=\"color: #bd1f2d\">over</span> <span style=\"color: #dc5d4a\">UNK</span> <span style=\"color: #cf453c\">Den</span> <span style=\"color: #f7a98b\">UNK</span> <span style=\"color: #9ebeff\">UNK</span> <span style=\"color: #7597f6\">av</span> <span style=\"color: #465ecf\">UNK</span> <span style=\"color: #3d50c3\">UNK</span> <span style=\"color: #3b4cc0\">i</span> <span style=\"color: #3c4ec2\">befolkningen</span> <span style=\"color: #3b4cc0\">har</span> <span style=\"color: #3b4cc0\">lenge</span> <span style=\"color: #3b4cc0\">vært</span> <span style=\"color: #3d50c3\">brukt</span> <span style=\"color: #3c4ec2\">som</span> <span style=\"color: #4358cb\">et</span> <span style=\"color: #6180e9\">mål</span> <span style=\"color: #abc8fd\">for</span> <span style=\"color: #a9c6fd\">UNK</span> <span style=\"color: #b5cdfa\">.</span> <span style=\"color: #6180e9\">Hvis</span> <span style=\"color: #799cf8\">en</span> <span style=\"color: #9ebeff\">mann</span> <span style=\"color: #cedaeb\">kunne</span> <span style=\"color: #f08a6c\">forvente</span> <span style=\"color: #f7b79b\">å</span> <span style=\"color: #cc403a\">leve</span> <span style=\"color: #d0473d\">til</span> <span style=\"color: #b40426\">50</span> <span style=\"color: #b40426\">år</span> <span style=\"color: #b50927\">i</span> <span style=\"color: #b40426\">et</span> <span style=\"color: #b8122a\">UNK</span> <span style=\"color: #c32e31\">land</span> <span style=\"color: #cd423b\">mens</span> <span style=\"color: #ba162b\">den</span> <span style=\"color: #b40426\">tilsvarende</span> <span style=\"color: #b40426\">UNK</span> <span style=\"color: #b40426\">UNK</span> <span style=\"color: #b50927\">var</span> <span style=\"color: #ba162b\">UNK</span> <span style=\"color: #bb1b2c\">år</span> <span style=\"color: #cf453c\">i</span> <span style=\"color: #e0654f\">Norge</span> <span style=\"color: #f7b093\">var</span> <span style=\"color: #9bbcff\">UNK</span> <span style=\"color: #6e90f2\">at</span> <span style=\"color: #86a9fc\">en</span> </p>"
      ]
     },
     "metadata": {},
     "output_type": "display_data"
    },
    {
     "data": {
      "text/html": [
       "<h2>s0621</h2>"
      ]
     },
     "metadata": {},
     "output_type": "display_data"
    },
    {
     "data": {
      "text/html": [
       "<p style=\"max-width: 80ch\"> <span style=\"color: #dadce0\">Om</span> <span style=\"color: #e0dbd8\">en</span> <span style=\"color: #f29072\">hyggelig</span> <span style=\"color: #bb1b2c\">opplevelse</span> <span style=\"color: #c12b30\">|</span> <span style=\"color: #c83836\">Jeg</span> <span style=\"color: #b8122a\">hadde</span> <span style=\"color: #b70d28\">en</span> <span style=\"color: #b50927\">hyggelig</span> <span style=\"color: #b8122a\">og</span> <span style=\"color: #cb3e38\">UNK</span> <span style=\"color: #bb1b2c\">da</span> <span style=\"color: #e67259\">jeg</span> <span style=\"color: #f7b79b\">var</span> <span style=\"color: #f0cdbb\">liten</span> <span style=\"color: #a5c3fe\">,</span> <span style=\"color: #7da0f9\">fordi</span> <span style=\"color: #e2dad5\">faren</span> <span style=\"color: #dd5f4b\">min</span> <span style=\"color: #f39778\">var</span> <span style=\"color: #f59f80\">rik</span> <span style=\"color: #f7aa8c\">og</span> <span style=\"color: #f7b599\">han</span> <span style=\"color: #cf453c\">hadde</span> <span style=\"color: #d1493f\">stor</span> <span style=\"color: #b70d28\">butikk</span> <span style=\"color: #d65244\">som</span> <span style=\"color: #f7ba9f\">selger</span> <span style=\"color: #cb3e38\">nesten</span> <span style=\"color: #f6a586\">alle</span> <span style=\"color: #97b8ff\">ting</span> <span style=\"color: #4b64d5\">som</span> <span style=\"color: #4f69d9\">man</span> <span style=\"color: #5572df\">trenger</span> <span style=\"color: #516ddb\">.</span> <span style=\"color: #90b2fe\">I</span> <span style=\"color: #6687ed\">tilleg</span> <span style=\"color: #4c66d6\">var</span> <span style=\"color: #4b64d5\">han</span> <span style=\"color: #9fbfff\">medlem</span> <span style=\"color: #9bbcff\">av</span> <span style=\"color: #f7b396\">en</span> <span style=\"color: #f7a98b\">stor</span> <span style=\"color: #ecd3c5\">UNK</span> <span style=\"color: #7093f3\">som</span> <span style=\"color: #abc8fd\">lager</span> <span style=\"color: #6687ed\">møbler</span> <span style=\"color: #4f69d9\">,</span> <span style=\"color: #ead4c8\">også</span> <span style=\"color: #f7b599\">han</span> <span style=\"color: #cb3e38\">hadde</span> <span style=\"color: #ba162b\">en</span> <span style=\"color: #b70d28\">gård</span> <span style=\"color: #d1493f\">som</span> <span style=\"color: #cc403a\">han</span> <span style=\"color: #e57058\">UNK</span> <span style=\"color: #edd1c2\">forskjellig</span> <span style=\"color: #ca3b37\">grønnsaker</span> <span style=\"color: #d65244\">og</span> <span style=\"color: #cb3e38\">det</span> <span style=\"color: #e16751\">var</span> <span style=\"color: #e1dad6\">noen</span> <span style=\"color: #6c8ff1\">som</span> <span style=\"color: #3e51c5\">jobbet</span> <span style=\"color: #3b4cc0\">der</span> <span style=\"color: #3b4cc0\">men</span> <span style=\"color: #3b4cc0\">han</span> <span style=\"color: #3b4cc0\">går</span> <span style=\"color: #3b4cc0\">av</span> <span style=\"color: #3b4cc0\">og</span> <span style=\"color: #3b4cc0\">til</span> <span style=\"color: #3b4cc0\">for</span> <span style=\"color: #3b4cc0\">å</span> <span style=\"color: #3b4cc0\">se</span> <span style=\"color: #3b4cc0\">hvordan</span> <span style=\"color: #3b4cc0\">det</span> <span style=\"color: #3b4cc0\">er</span> <span style=\"color: #3b4cc0\">.</span> <span style=\"color: #3b4cc0\">Han</span> <span style=\"color: #3b4cc0\">UNK</span> <span style=\"color: #3b4cc0\">de</span> <span style=\"color: #3b4cc0\">som</span> <span style=\"color: #3b4cc0\">arbeider</span> <span style=\"color: #3c4ec2\">på</span> <span style=\"color: #3b4cc0\">UNK</span> <span style=\"color: #3b4cc0\">.</span> <span style=\"color: #3b4cc0\">Dessuten</span> <span style=\"color: #3b4cc0\">bodde</span> <span style=\"color: #3b4cc0\">vi</span> <span style=\"color: #3b4cc0\">en</span> <span style=\"color: #3b4cc0\">stort</span> <span style=\"color: #3c4ec2\">rekke</span> <span style=\"color: #3f53c6\">hus</span> <span style=\"color: #4055c8\">og</span> <span style=\"color: #4055c8\">vi</span> <span style=\"color: #465ecf\">hadde</span> <span style=\"color: #3e51c5\">UNK</span> <span style=\"color: #3c4ec2\">som</span> <span style=\"color: #3b4cc0\">UNK</span> <span style=\"color: #3b4cc0\">barna</span> <span style=\"color: #3b4cc0\">,</span> <span style=\"color: #3b4cc0\">UNK</span> <span style=\"color: #3b4cc0\">,</span> <span style=\"color: #3b4cc0\">lager</span> <span style=\"color: #3b4cc0\">og</span> <span style=\"color: #3b4cc0\">UNK</span> <span style=\"color: #3b4cc0\">hjemme</span> <span style=\"color: #3b4cc0\">.</span> <span style=\"color: #3b4cc0\">moren</span> <span style=\"color: #3b4cc0\">min</span> <span style=\"color: #3b4cc0\">jobbet</span> <span style=\"color: #3b4cc0\">ikke</span> <span style=\"color: #3b4cc0\">,</span> <span style=\"color: #3b4cc0\">hun</span> <span style=\"color: #3b4cc0\">var</span> <span style=\"color: #3b4cc0\">UNK</span> <span style=\"color: #3b4cc0\">men</span> <span style=\"color: #3b4cc0\">hun</span> <span style=\"color: #3b4cc0\">kunne</span> <span style=\"color: #3b4cc0\">skrive</span> <span style=\"color: #3b4cc0\">og</span> <span style=\"color: #3b4cc0\">lese</span> <span style=\"color: #3b4cc0\">så</span> <span style=\"color: #3c4ec2\">hjelper</span> <span style=\"color: #3c4ec2\">hun</span> <span style=\"color: #516ddb\">oss</span> <span style=\"color: #f7aa8c\">på</span> <span style=\"color: #efcfbf\">UNK</span> <span style=\"color: #d0473d\">.</span> <span style=\"color: #f49a7b\">UNK</span> <span style=\"color: #e5d8d1\">min</span> <span style=\"color: #f5c1a9\">søsken</span> <span style=\"color: #bbd1f8\">vi</span> <span style=\"color: #86a9fc\">går</span> <span style=\"color: #edd2c3\">på</span> <span style=\"color: #adc9fd\">skolen</span> <span style=\"color: #536edd\">fra</span> <span style=\"color: #b6cefa\">mandag</span> <span style=\"color: #9abbff\">til</span> <span style=\"color: #d1dae9\">fredag</span> <span style=\"color: #d7dce3\">og</span> <span style=\"color: #bcd2f7\">det</span> <span style=\"color: #8caffe\">var</span> <span style=\"color: #4358cb\">moren</span> <span style=\"color: #3d50c3\">min</span> <span style=\"color: #3c4ec2\">som</span> <span style=\"color: #465ecf\">kjørte</span> <span style=\"color: #97b8ff\">oss</span> <span style=\"color: #96b7ff\">til</span> <span style=\"color: #799cf8\">skolen</span> <span style=\"color: #ccd9ed\">.</span> <span style=\"color: #a7c5fe\">I</span> <span style=\"color: #5f7fe8\">tilleg</span> <span style=\"color: #506bda\">vi</span> <span style=\"color: #465ecf\">går</span> <span style=\"color: #7093f3\">på</span> <span style=\"color: #7093f3\">privat</span> <span style=\"color: #a5c3fe\">skole</span> <span style=\"color: #f3c8b2\">på</span> <span style=\"color: #da5a49\">bare</span> <span style=\"color: #f59c7d\">engelsk</span> <span style=\"color: #97b8ff\">fordi</span> <span style=\"color: #5673e0\">denne</span> <span style=\"color: #4b64d5\">skolen</span> <span style=\"color: #3e51c5\">vi</span> <span style=\"color: #3b4cc0\">har</span> <span style=\"color: #3c4ec2\">bare</span> <span style=\"color: #3b4cc0\">UNK</span> <span style=\"color: #3c4ec2\">på</span> <span style=\"color: #3c4ec2\">alle</span> <span style=\"color: #3b4cc0\">UNK</span> <span style=\"color: #3b4cc0\">derfor</span> <span style=\"color: #3b4cc0\">vi</span> <span style=\"color: #3b4cc0\">gikk</span> <span style=\"color: #3d50c3\">på</span> <span style=\"color: #3b4cc0\">engelsk</span> <span style=\"color: #3b4cc0\">privat</span> <span style=\"color: #3c4ec2\">skole</span> <span style=\"color: #3c4ec2\">det</span> <span style=\"color: #3b4cc0\">var</span> <span style=\"color: #3b4cc0\">mange</span> <span style=\"color: #3b4cc0\">mennesker</span> <span style=\"color: #3b4cc0\">som</span> <span style=\"color: #3b4cc0\">kunne</span> <span style=\"color: #3b4cc0\">ikke</span> <span style=\"color: #3b4cc0\">dette</span> <span style=\"color: #3b4cc0\">,</span> <span style=\"color: #3b4cc0\">fordi</span> <span style=\"color: #3b4cc0\">de</span> <span style=\"color: #3b4cc0\">hadde</span> <span style=\"color: #3b4cc0\">ikke</span> <span style=\"color: #3b4cc0\">råd</span> <span style=\"color: #3b4cc0\">til</span> <span style=\"color: #3b4cc0\">å</span> <span style=\"color: #3b4cc0\">betale</span> <span style=\"color: #3b4cc0\">men</span> <span style=\"color: #3b4cc0\">heldigvis</span> <span style=\"color: #3b4cc0\">vi</span> <span style=\"color: #3b4cc0\">hadde</span> <span style=\"color: #3c4ec2\">på</span> <span style=\"color: #3d50c3\">grunn</span> <span style=\"color: #3d50c3\">av</span> <span style=\"color: #3d50c3\">faren</span> <span style=\"color: #5f7fe8\">oss</span> <span style=\"color: #485fd1\">var</span> <span style=\"color: #7699f6\">rik</span> <span style=\"color: #d2dbe8\">.</span> <span style=\"color: #6384eb\">Dessuten</span> <span style=\"color: #4358cb\">har</span> <span style=\"color: #3e51c5\">vi</span> <span style=\"color: #4055c8\">også</span> <span style=\"color: #3f53c6\">lært</span> <span style=\"color: #3c4ec2\">UNK</span> <span style=\"color: #3c4ec2\">(</span> <span style=\"color: #3d50c3\">religion</span> <span style=\"color: #3f53c6\">)</span> <span style=\"color: #4055c8\">hjemme</span> <span style=\"color: #3f53c6\">og</span> <span style=\"color: #465ecf\">det</span> <span style=\"color: #4358cb\">var</span> <span style=\"color: #465ecf\">en</span> <span style=\"color: #5673e0\">mann</span> <span style=\"color: #465ecf\">som</span> <span style=\"color: #4257c9\">kom</span> <span style=\"color: #3e51c5\">til</span> <span style=\"color: #5b7ae5\">oss</span> <span style=\"color: #516ddb\">for</span> <span style=\"color: #4055c8\">å</span> <span style=\"color: #5572df\">undervise</span> <span style=\"color: #f7b396\">oss</span> <span style=\"color: #d85646\">.</span> <span style=\"color: #b40426\">Det</span> <span style=\"color: #ba162b\">var</span> <span style=\"color: #ea7b60\">en</span> <span style=\"color: #cd423b\">fantastisk</span> <span style=\"color: #e36c55\">og</span> <span style=\"color: #cc403a\">hyggelig</span> <span style=\"color: #be242e\">opplevelse</span> <span style=\"color: #ca3b37\">som</span> <span style=\"color: #f3c7b1\">jeg</span> <span style=\"color: #84a7fc\">skal</span> <span style=\"color: #7093f3\">aldri</span> <span style=\"color: #4961d2\">gleme</span> <span style=\"color: #4257c9\">i</span> <span style=\"color: #5e7de7\">forhold</span> <span style=\"color: #5673e0\">til</span> <span style=\"color: #4a63d3\">hvor</span> <span style=\"color: #3d50c3\">jeg</span> <span style=\"color: #3b4cc0\">har</span> <span style=\"color: #3b4cc0\">kommet</span> <span style=\"color: #3b4cc0\">men</span> <span style=\"color: #3b4cc0\">har</span> <span style=\"color: #3b4cc0\">UNK</span> <span style=\"color: #3b4cc0\">det</span> <span style=\"color: #3b4cc0\">er</span> <span style=\"color: #3b4cc0\">vanlig</span> <span style=\"color: #3b4cc0\">opplevelse</span> <span style=\"color: #3c4ec2\">.</span> <span style=\"color: #455cce\">Det</span> <span style=\"color: #6485ec\">betyr</span> <span style=\"color: #a6c4fe\">at</span> <span style=\"color: #e8d6cc\">hjemmelandet</span> <span style=\"color: #cd423b\">mit</span> <span style=\"color: #c0282f\">er</span> <span style=\"color: #b8122a\">ikke</span> <span style=\"color: #b70d28\">så</span> <span style=\"color: #b40426\">rik</span> <span style=\"color: #b70d28\">som</span> <span style=\"color: #de614d\">norge</span> <span style=\"color: #e36c55\">er</span> <span style=\"color: #e7745b\">,</span> <span style=\"color: #cf453c\">derfor</span> <span style=\"color: #f0cdbb\">jeg</span> <span style=\"color: #ead4c8\">sier</span> <span style=\"color: #c7d7f0\">at</span> <span style=\"color: #5673e0\">jeg</span> <span style=\"color: #3f53c6\">har</span> <span style=\"color: #3b4cc0\">UNK</span> <span style=\"color: #3b4cc0\">en</span> <span style=\"color: #3b4cc0\">hyggelig</span> <span style=\"color: #3b4cc0\">og</span> <span style=\"color: #3b4cc0\">godt</span> <span style=\"color: #3c4ec2\">opplevelse</span> <span style=\"color: #3d50c3\">.</span> </p>"
      ]
     },
     "metadata": {},
     "output_type": "display_data"
    }
   ],
   "source": [
    "for filename in filenames:\n",
    "    display_html('<h2>%s</h2>' % filename.stem, raw=True)\n",
    "    html = file_with_attention(filename, attention_model, w2i, maxlen=300)\n",
    "    with open(filename.stem + '.html', 'w') as f:\n",
    "        print(\"\"\"\n",
    "<!DOCTYPE html>\n",
    "<html lang=\"nb\">\n",
    "<head>\n",
    "  <meta charset=\"utf-8\">\n",
    "  <title>%s</title>\n",
    "  <style>\n",
    "  body {\n",
    "    font-family: \"Helvetica Neue\", Helvetica, Arial, sans-serif;\n",
    "    font-size: 14px;\n",
    "    line-height: 20px;\n",
    "    text-align: left;\n",
    "  }\n",
    "  </style>\n",
    "</head>\n",
    "<body>\n",
    "\"\"\" % filename.stem, file=f)\n",
    "        print(html, file=f)\n",
    "        print('</body></html>', file=f)\n",
    "    display_html(html, raw=True)"
   ]
  }
 ],
 "metadata": {
  "kernelspec": {
   "display_name": "Python (master thesis)",
   "language": "python",
   "name": "masterthesis"
  },
  "language_info": {
   "codemirror_mode": {
    "name": "ipython",
    "version": 3
   },
   "file_extension": ".py",
   "mimetype": "text/x-python",
   "name": "python",
   "nbconvert_exporter": "python",
   "pygments_lexer": "ipython3",
   "version": "3.5.2"
  }
 },
 "nbformat": 4,
 "nbformat_minor": 2
}
