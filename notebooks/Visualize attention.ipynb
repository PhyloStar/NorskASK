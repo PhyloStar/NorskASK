{
 "cells": [
  {
   "cell_type": "code",
   "execution_count": 1,
   "metadata": {},
   "outputs": [],
   "source": [
    "%load_ext autoreload\n",
    "%autoreload 2"
   ]
  },
  {
   "cell_type": "code",
   "execution_count": 2,
   "metadata": {},
   "outputs": [
    {
     "name": "stderr",
     "output_type": "stream",
     "text": [
      "Using TensorFlow backend.\n"
     ]
    }
   ],
   "source": [
    "import pickle\n",
    "\n",
    "from IPython.display import display_html\n",
    "from keras.models import load_model, Model\n",
    "from matplotlib.colors import rgb2hex\n",
    "import matplotlib.pyplot as plt\n",
    "import numpy as np\n",
    "\n",
    "from masterthesis.features.build_features import file_to_sequence\n",
    "from masterthesis.utils import ATTENTION_LAYER, DATA_DIR, MODEL_DIR, RESULTS_DIR, load_split"
   ]
  },
  {
   "cell_type": "code",
   "execution_count": 3,
   "metadata": {},
   "outputs": [],
   "source": [
    "def show_weighted(tokens, weights):\n",
    "    cmap = plt.cm.coolwarm\n",
    "    ents = ['<p style=\"max-width: 80ch\">']\n",
    "    for token, weight in zip(tokens, weights):\n",
    "        col = rgb2hex(cmap(weight))\n",
    "        ent = '<span style=\"color: %s\">%s</span>' % (col, token)\n",
    "        ents.append(ent)\n",
    "    ents.append('</p>')\n",
    "    return ' '.join(ents)"
   ]
  },
  {
   "cell_type": "code",
   "execution_count": 4,
   "metadata": {},
   "outputs": [],
   "source": [
    "def tokens_in_file(filepath):\n",
    "    with filepath.open() as f:\n",
    "        for line in f:\n",
    "            for token in line.strip().split():\n",
    "                yield token"
   ]
  },
  {
   "cell_type": "code",
   "execution_count": 5,
   "metadata": {},
   "outputs": [],
   "source": [
    "def file_with_attention(filepath, attention_model, w2i, maxlen=None):\n",
    "    x = file_to_sequence(700, filepath, w2i)[np.newaxis, :]\n",
    "    weights = attention_model.predict(x)[0]\n",
    "    weights -= weights.min()\n",
    "    weights /= weights.max()\n",
    "    if maxlen is not None:\n",
    "        weights = weights[:maxlen]\n",
    "    unk_idx = w2i['__UNK__']\n",
    "    tokens = (token if idx != unk_idx else 'UNK' for token, idx in zip(tokens_in_file(filepath), x[0]))\n",
    "    return show_weighted(tokens, weights)"
   ]
  },
  {
   "cell_type": "code",
   "execution_count": 6,
   "metadata": {},
   "outputs": [],
   "source": [
    "model_name = 'rnn-nli-26542571_9'\n",
    "\n",
    "# model_name = 'rnn_nli-25717032'"
   ]
  },
  {
   "cell_type": "code",
   "execution_count": 7,
   "metadata": {},
   "outputs": [],
   "source": [
    "w2i = pickle.load((MODEL_DIR / (model_name + '_model_w2i.pkl')).open('rb'))\n",
    "model = load_model(str(MODEL_DIR / (model_name + '_model.h5')))"
   ]
  },
  {
   "cell_type": "code",
   "execution_count": 8,
   "metadata": {},
   "outputs": [],
   "source": [
    "attention_model = Model(inputs=model.input, outputs=model.get_layer(ATTENTION_LAYER).output)"
   ]
  },
  {
   "cell_type": "code",
   "execution_count": 15,
   "metadata": {
    "scrolled": true
   },
   "outputs": [
    {
     "name": "stdout",
     "output_type": "stream",
     "text": [
      "Accuracy: 0.463\n"
     ]
    },
    {
     "data": {
      "text/html": [
       "<div>\n",
       "<style scoped>\n",
       "    .dataframe tbody tr th:only-of-type {\n",
       "        vertical-align: middle;\n",
       "    }\n",
       "\n",
       "    .dataframe tbody tr th {\n",
       "        vertical-align: top;\n",
       "    }\n",
       "\n",
       "    .dataframe thead th {\n",
       "        text-align: right;\n",
       "    }\n",
       "</style>\n",
       "<table border=\"1\" class=\"dataframe\">\n",
       "  <thead>\n",
       "    <tr style=\"text-align: right;\">\n",
       "      <th></th>\n",
       "      <th>age</th>\n",
       "      <th>cefr</th>\n",
       "      <th>filename</th>\n",
       "      <th>gender</th>\n",
       "      <th>lang</th>\n",
       "      <th>num_tokens</th>\n",
       "      <th>split</th>\n",
       "      <th>testlevel</th>\n",
       "      <th>title</th>\n",
       "      <th>topic</th>\n",
       "    </tr>\n",
       "  </thead>\n",
       "  <tbody>\n",
       "    <tr>\n",
       "      <th>182</th>\n",
       "      <td>32</td>\n",
       "      <td>B1/B2</td>\n",
       "      <td>h0185</td>\n",
       "      <td>kvinne</td>\n",
       "      <td>russisk</td>\n",
       "      <td>536</td>\n",
       "      <td>dev</td>\n",
       "      <td>Høyere nivå</td>\n",
       "      <td>Helse og livskvalitet</td>\n",
       "      <td>helse</td>\n",
       "    </tr>\n",
       "    <tr>\n",
       "      <th>1457</th>\n",
       "      <td>24</td>\n",
       "      <td>B1/B2</td>\n",
       "      <td>s0628</td>\n",
       "      <td>kvinne</td>\n",
       "      <td>vietnamesisk</td>\n",
       "      <td>420</td>\n",
       "      <td>dev</td>\n",
       "      <td>Språkprøven</td>\n",
       "      <td>En hyggelig opplevelse</td>\n",
       "      <td>opplevelse</td>\n",
       "    </tr>\n",
       "    <tr>\n",
       "      <th>167</th>\n",
       "      <td>39</td>\n",
       "      <td>B2</td>\n",
       "      <td>h0169</td>\n",
       "      <td>kvinne</td>\n",
       "      <td>engelsk</td>\n",
       "      <td>595</td>\n",
       "      <td>dev</td>\n",
       "      <td>Høyere nivå</td>\n",
       "      <td>Helse og livskvalitet</td>\n",
       "      <td>helse</td>\n",
       "    </tr>\n",
       "    <tr>\n",
       "      <th>1375</th>\n",
       "      <td>26</td>\n",
       "      <td>A2</td>\n",
       "      <td>s0546</td>\n",
       "      <td>mann</td>\n",
       "      <td>somali</td>\n",
       "      <td>176</td>\n",
       "      <td>dev</td>\n",
       "      <td>Språkprøven</td>\n",
       "      <td>Flytting</td>\n",
       "      <td>familie flytting</td>\n",
       "    </tr>\n",
       "  </tbody>\n",
       "</table>\n",
       "</div>"
      ],
      "text/plain": [
       "      age   cefr filename  gender          lang  num_tokens split  \\\n",
       "182    32  B1/B2    h0185  kvinne       russisk         536   dev   \n",
       "1457   24  B1/B2    s0628  kvinne  vietnamesisk         420   dev   \n",
       "167    39     B2    h0169  kvinne       engelsk         595   dev   \n",
       "1375   26     A2    s0546    mann        somali         176   dev   \n",
       "\n",
       "        testlevel                   title              topic  \n",
       "182   Høyere nivå   Helse og livskvalitet             helse   \n",
       "1457  Språkprøven  En hyggelig opplevelse        opplevelse   \n",
       "167   Høyere nivå   Helse og livskvalitet             helse   \n",
       "1375  Språkprøven                Flytting  familie flytting   "
      ]
     },
     "metadata": {},
     "output_type": "display_data"
    }
   ],
   "source": [
    "dev = load_split('dev')\n",
    "\n",
    "results = pickle.load((RESULTS_DIR / (model_name + '.pkl')).open('rb'))\n",
    "correct_predictions = dev[results.true == results.predictions]\n",
    "print('Accuracy: %.3f' % (len(correct_predictions) / len(dev)))\n",
    "langs = ['russisk', 'vietnamesisk', 'engelsk', 'somali']\n",
    "sample_indices = [correct_predictions[correct_predictions.lang == l].index[0]\n",
    "                  for l in langs]\n",
    "samples = correct_predictions.loc[sample_indices]\n",
    "display(samples)\n",
    "filenames = [DATA_DIR / 'txt' / (fn + '.txt') for fn in samples.filename]"
   ]
  },
  {
   "cell_type": "code",
   "execution_count": 16,
   "metadata": {
    "scrolled": false
   },
   "outputs": [
    {
     "data": {
      "text/html": [
       "<h2>h0185</h2>"
      ]
     },
     "metadata": {},
     "output_type": "display_data"
    },
    {
     "data": {
      "text/html": [
       "<p style=\"max-width: 80ch\"> <span style=\"color: #f7b194\">Oppgave</span> <span style=\"color: #d4dbe6\">A</span> <span style=\"color: #e3d9d3\">|</span> <span style=\"color: #f2c9b4\">I</span> <span style=\"color: #f7bca1\">dag</span> <span style=\"color: #c43032\">bor</span> <span style=\"color: #b70d28\">vi</span> <span style=\"color: #b40426\">i</span> <span style=\"color: #b50927\">en</span> <span style=\"color: #b40426\">fantastisk</span> <span style=\"color: #b40426\">tid</span> <span style=\"color: #b40426\">.</span> <span style=\"color: #b40426\">Man</span> <span style=\"color: #b40426\">får</span> <span style=\"color: #b40426\">masse</span> <span style=\"color: #b40426\">muligheter</span> <span style=\"color: #b40426\">.</span> <span style=\"color: #b40426\">Vi</span> <span style=\"color: #b40426\">har</span> <span style=\"color: #b40426\">mye</span> <span style=\"color: #b40426\">av</span> <span style=\"color: #b40426\">det</span> <span style=\"color: #b40426\">som</span> <span style=\"color: #b40426\">besteforeldrene</span> <span style=\"color: #b40426\">våre</span> <span style=\"color: #b40426\">kunne</span> <span style=\"color: #b40426\">bare</span> <span style=\"color: #b40426\">drømme</span> <span style=\"color: #b40426\">om</span> <span style=\"color: #b40426\">.</span> <span style=\"color: #b40426\">Det</span> <span style=\"color: #b40426\">er</span> <span style=\"color: #b40426\">helt</span> <span style=\"color: #b40426\">utrolig</span> <span style=\"color: #b40426\">å</span> <span style=\"color: #b40426\">tenke</span> <span style=\"color: #b40426\">på</span> <span style=\"color: #b50927\">hva</span> <span style=\"color: #b40426\">vi</span> <span style=\"color: #b40426\">har</span> <span style=\"color: #b40426\">oppnådd</span> <span style=\"color: #b40426\">.</span> <span style=\"color: #b40426\">Men</span> <span style=\"color: #b40426\">samtidig</span> <span style=\"color: #b40426\">har</span> <span style=\"color: #b40426\">vi</span> <span style=\"color: #b40426\">fått</span> <span style=\"color: #b40426\">mange</span> <span style=\"color: #b40426\">problemer</span> <span style=\"color: #b40426\">.</span> <span style=\"color: #b40426\">En</span> <span style=\"color: #b40426\">av</span> <span style=\"color: #b40426\">de</span> <span style=\"color: #b40426\">problemene</span> <span style=\"color: #b50927\">er</span> <span style=\"color: #b40426\">vår</span> <span style=\"color: #b40426\">egen</span> <span style=\"color: #b40426\">helse</span> <span style=\"color: #b40426\">.</span> <span style=\"color: #b50927\">I</span> <span style=\"color: #bd1f2d\">dag</span> <span style=\"color: #b8122a\">har</span> <span style=\"color: #b50927\">vi</span> <span style=\"color: #b50927\">et</span> <span style=\"color: #b70d28\">godt</span> <span style=\"color: #b40426\">utviklet</span> <span style=\"color: #b40426\">UNK</span> <span style=\"color: #b40426\">og</span> <span style=\"color: #b40426\">mange</span> <span style=\"color: #b40426\">forskjellige</span> <span style=\"color: #b40426\">UNK</span> <span style=\"color: #b40426\">.</span> <span style=\"color: #b40426\">Men</span> <span style=\"color: #b40426\">alt</span> <span style=\"color: #b40426\">dette</span> <span style=\"color: #b40426\">hjelper</span> <span style=\"color: #b40426\">neppe</span> <span style=\"color: #b40426\">så</span> <span style=\"color: #b40426\">mye</span> <span style=\"color: #b40426\">hvis</span> <span style=\"color: #b40426\">hvert</span> <span style=\"color: #b40426\">enkeltmenneske</span> <span style=\"color: #b40426\">ikke</span> <span style=\"color: #b40426\">tenker</span> <span style=\"color: #b40426\">på</span> <span style=\"color: #b40426\">sin</span> <span style=\"color: #b40426\">egen</span> <span style=\"color: #b40426\">helse</span> <span style=\"color: #b40426\">.</span> <span style=\"color: #b40426\">Vi</span> <span style=\"color: #b40426\">må</span> <span style=\"color: #b40426\">huske</span> <span style=\"color: #b40426\">at</span> <span style=\"color: #b40426\">livet</span> <span style=\"color: #b40426\">er</span> <span style=\"color: #b50927\">en</span> <span style=\"color: #b70d28\">gave</span> <span style=\"color: #b8122a\">og</span> <span style=\"color: #b70d28\">en</span> <span style=\"color: #b40426\">god</span> <span style=\"color: #b40426\">helse</span> <span style=\"color: #b40426\">hjeper</span> <span style=\"color: #b40426\">veldig</span> <span style=\"color: #b40426\">mye</span> <span style=\"color: #b40426\">for</span> <span style=\"color: #b40426\">å</span> <span style=\"color: #b40426\">nytte</span> <span style=\"color: #b40426\">livet</span> <span style=\"color: #b40426\">.</span> <span style=\"color: #b40426\">Derfor</span> <span style=\"color: #b40426\">er</span> <span style=\"color: #b40426\">det</span> <span style=\"color: #b40426\">viktig</span> <span style=\"color: #b40426\">å</span> <span style=\"color: #b40426\">tenke</span> <span style=\"color: #b40426\">på</span> <span style=\"color: #b50927\">den</span> <span style=\"color: #df634e\">måten</span> <span style=\"color: #c43032\">vi</span> <span style=\"color: #b50927\">lever</span> <span style=\"color: #b40426\">på</span> <span style=\"color: #b40426\">.</span> <span style=\"color: #b40426\">Først</span> <span style=\"color: #b40426\">og</span> <span style=\"color: #b40426\">fremst</span> <span style=\"color: #b40426\">bør</span> <span style=\"color: #b40426\">man</span> <span style=\"color: #b40426\">tenke</span> <span style=\"color: #b40426\">på</span> <span style=\"color: #b50927\">hva</span> <span style=\"color: #b50927\">man</span> <span style=\"color: #b40426\">spiser</span> <span style=\"color: #b40426\">.</span> <span style=\"color: #b40426\">Undersøkelser</span> <span style=\"color: #b40426\">viser</span> <span style=\"color: #b40426\">at</span> <span style=\"color: #b50927\">folk</span> <span style=\"color: #b70d28\">har</span> <span style=\"color: #be242e\">færre</span> <span style=\"color: #dc5d4a\">UNK</span> <span style=\"color: #bd1f2d\">i</span> <span style=\"color: #b8122a\">de</span> <span style=\"color: #b40426\">landene</span> <span style=\"color: #b40426\">hvor</span> <span style=\"color: #b40426\">man</span> <span style=\"color: #b40426\">spiser</span> <span style=\"color: #b40426\">mye</span> <span style=\"color: #b40426\">grønnsaker</span> <span style=\"color: #b50927\">og</span> <span style=\"color: #b70d28\">frukt</span> <span style=\"color: #b50927\">.</span> <span style=\"color: #b8122a\">Å</span> <span style=\"color: #b40426\">ha</span> <span style=\"color: #b40426\">UNK</span> <span style=\"color: #b40426\">UNK</span> <span style=\"color: #b40426\">til</span> <span style=\"color: #b40426\">middag</span> <span style=\"color: #b40426\">UNK</span> <span style=\"color: #b40426\">for</span> <span style=\"color: #b40426\">brus</span> <span style=\"color: #b40426\">er</span> <span style=\"color: #b40426\">også</span> <span style=\"color: #b40426\">veldig</span> <span style=\"color: #b40426\">sunt</span> <span style=\"color: #b40426\">.</span> <span style=\"color: #b40426\">Ikke</span> <span style=\"color: #b40426\">minst</span> <span style=\"color: #b40426\">viktig</span> <span style=\"color: #b40426\">er</span> <span style=\"color: #b40426\">det</span> <span style=\"color: #b40426\">å</span> <span style=\"color: #b40426\">ha</span> <span style=\"color: #b40426\">litt</span> <span style=\"color: #b40426\">mosjon</span> <span style=\"color: #c73635\">og</span> <span style=\"color: #e26952\">trim</span> <span style=\"color: #ec7f63\">.</span> <span style=\"color: #f5c4ac\">I</span> <span style=\"color: #9bbcff\">dag</span> <span style=\"color: #a2c1ff\">bruker</span> <span style=\"color: #dedcdb\">man</span> <span style=\"color: #f7b89c\">mye</span> <span style=\"color: #86a9fc\">transport</span> <span style=\"color: #86a9fc\">.</span> <span style=\"color: #5a78e4\">Vi</span> <span style=\"color: #5875e1\">kjører</span> <span style=\"color: #445acc\">veldig</span> <span style=\"color: #3c4ec2\">mye</span> <span style=\"color: #3b4cc0\">selv</span> <span style=\"color: #3b4cc0\">om</span> <span style=\"color: #3b4cc0\">vi</span> <span style=\"color: #3b4cc0\">ikke</span> <span style=\"color: #3b4cc0\">trenger</span> <span style=\"color: #3b4cc0\">det</span> <span style=\"color: #3b4cc0\">.</span> <span style=\"color: #3b4cc0\">Jeg</span> <span style=\"color: #3b4cc0\">var</span> <span style=\"color: #3b4cc0\">veldig</span> <span style=\"color: #3b4cc0\">overasket</span> <span style=\"color: #3b4cc0\">da</span> <span style=\"color: #3b4cc0\">jeg</span> <span style=\"color: #3b4cc0\">kom</span> <span style=\"color: #3b4cc0\">første</span> <span style=\"color: #3b4cc0\">gang</span> <span style=\"color: #3b4cc0\">til</span> <span style=\"color: #3b4cc0\">Norge</span> <span style=\"color: #3b4cc0\">og</span> <span style=\"color: #3b4cc0\">oppdaget</span> <span style=\"color: #3b4cc0\">at</span> <span style=\"color: #3b4cc0\">mennesker</span> <span style=\"color: #3b4cc0\">bruker</span> <span style=\"color: #3b4cc0\">bil</span> <span style=\"color: #3b4cc0\">for</span> <span style=\"color: #3b4cc0\">å</span> <span style=\"color: #3b4cc0\">komme</span> <span style=\"color: #3b4cc0\">Mange</span> <span style=\"color: #3b4cc0\">har</span> <span style=\"color: #3b4cc0\">sånn</span> <span style=\"color: #3b4cc0\">jobb</span> <span style=\"color: #485fd1\">som</span> <span style=\"color: #9ebeff\">at</span> <span style=\"color: #bed2f6\">de</span> <span style=\"color: #d44e41\">trenger</span> <span style=\"color: #ba162b\">å</span> <span style=\"color: #b40426\">sitte</span> <span style=\"color: #b40426\">hele</span> <span style=\"color: #b40426\">arbeidsdag</span> <span style=\"color: #b40426\">.</span> <span style=\"color: #b40426\">Da</span> <span style=\"color: #b40426\">må</span> <span style=\"color: #b40426\">man</span> <span style=\"color: #b40426\">begynne</span> <span style=\"color: #b40426\">å</span> <span style=\"color: #b40426\">bli</span> <span style=\"color: #b40426\">bekymret</span> <span style=\"color: #b40426\">for</span> <span style=\"color: #b40426\">sin</span> <span style=\"color: #b40426\">kropp</span> <span style=\"color: #b40426\">.</span> <span style=\"color: #b40426\">Det</span> <span style=\"color: #b40426\">er</span> <span style=\"color: #b40426\">best</span> <span style=\"color: #b40426\">å</span> <span style=\"color: #b40426\">gå</span> <span style=\"color: #b40426\">på</span> <span style=\"color: #b40426\">tur</span> <span style=\"color: #b40426\">eller</span> <span style=\"color: #b40426\">sykle</span> <span style=\"color: #b40426\">.</span> <span style=\"color: #b50927\">Noen</span> <span style=\"color: #b40426\">trener</span> <span style=\"color: #b40426\">på</span> <span style=\"color: #bd1f2d\">sportklub</span> <span style=\"color: #c32e31\">eller</span> <span style=\"color: #b40426\">svømmer</span> <span style=\"color: #b40426\">i</span> <span style=\"color: #b40426\">UNK</span> <span style=\"color: #b40426\">.</span> <span style=\"color: #b40426\">Godt</span> <span style=\"color: #b40426\">UNK</span> <span style=\"color: #b40426\">er</span> <span style=\"color: #b40426\">også</span> <span style=\"color: #b40426\">en</span> <span style=\"color: #b40426\">av</span> <span style=\"color: #b40426\">de</span> <span style=\"color: #b40426\">viktigste</span> <span style=\"color: #b40426\">momentene</span> <span style=\"color: #b40426\">.</span> <span style=\"color: #b40426\">Vi</span> <span style=\"color: #b40426\">forlenger</span> <span style=\"color: #b40426\">livet</span> <span style=\"color: #b40426\">når</span> <span style=\"color: #b40426\">vi</span> <span style=\"color: #b40426\">smiler</span> <span style=\"color: #b40426\">eller</span> <span style=\"color: #b40426\">tenker</span> <span style=\"color: #b40426\">positivt</span> <span style=\"color: #b40426\">.</span> <span style=\"color: #b40426\">Det</span> <span style=\"color: #b40426\">virker</span> <span style=\"color: #b40426\">veldig</span> <span style=\"color: #b40426\">UNK</span> <span style=\"color: #b40426\">å</span> <span style=\"color: #b40426\">ha</span> <span style=\"color: #b40426\">en</span> <span style=\"color: #b40426\">god</span> <span style=\"color: #b40426\">helse</span> <span style=\"color: #b40426\">og</span> <span style=\"color: #b40426\">leve</span> <span style=\"color: #b40426\">lengre</span> <span style=\"color: #b40426\">.</span> <span style=\"color: #b40426\">Livet</span> <span style=\"color: #b40426\">er</span> <span style=\"color: #b70d28\">spent</span> <span style=\"color: #ba162b\">.</span> <span style=\"color: #c43032\">Man</span> <span style=\"color: #cf453c\">kommer</span> <span style=\"color: #c83836\">i</span> <span style=\"color: #d75445\">verden</span> <span style=\"color: #c83836\">,</span> </p>"
      ]
     },
     "metadata": {},
     "output_type": "display_data"
    },
    {
     "data": {
      "text/html": [
       "<h2>s0628</h2>"
      ]
     },
     "metadata": {},
     "output_type": "display_data"
    },
    {
     "data": {
      "text/html": [
       "<p style=\"max-width: 80ch\"> <span style=\"color: #b50927\">UNK</span> <span style=\"color: #b50927\">UNK</span> <span style=\"color: #b50927\">.</span> <span style=\"color: #b50927\">|</span> <span style=\"color: #b40426\">Jeg</span> <span style=\"color: #b40426\">skal</span> <span style=\"color: #b40426\">fortelle</span> <span style=\"color: #be242e\">deg</span> <span style=\"color: #e26952\">om</span> <span style=\"color: #f18d6f\">en</span> <span style=\"color: #be242e\">hyggelig</span> <span style=\"color: #bd1f2d\">opplevelse</span> <span style=\"color: #cf453c\">jeg</span> <span style=\"color: #bb1b2c\">har</span> <span style=\"color: #b70d28\">hatt</span> <span style=\"color: #b40426\">–</span> <span style=\"color: #b40426\">et</span> <span style=\"color: #dd5f4b\">lykkelig</span> <span style=\"color: #4257c9\">minne</span> <span style=\"color: #4055c8\">.</span> <span style=\"color: #455cce\">Jeg</span> <span style=\"color: #455cce\">tror</span> <span style=\"color: #465ecf\">at</span> <span style=\"color: #4c66d6\">alle</span> <span style=\"color: #7b9ff9\">mennesker</span> <span style=\"color: #a9c6fd\">har</span> <span style=\"color: #e0dbd8\">hatt</span> <span style=\"color: #c83836\">sine</span> <span style=\"color: #be242e\">hyggelige</span> <span style=\"color: #d75445\">opplevelser</span> <span style=\"color: #cfdaea\">.</span> <span style=\"color: #465ecf\">Men</span> <span style=\"color: #3d50c3\">for</span> <span style=\"color: #3b4cc0\">meg</span> <span style=\"color: #3b4cc0\">er</span> <span style=\"color: #3b4cc0\">det</span> <span style=\"color: #3b4cc0\">ikke</span> <span style=\"color: #3b4cc0\">så</span> <span style=\"color: #3b4cc0\">mange</span> <span style=\"color: #3e51c5\">.</span> <span style=\"color: #3c4ec2\">Jeg</span> <span style=\"color: #3b4cc0\">vokste</span> <span style=\"color: #3b4cc0\">opp</span> <span style=\"color: #3b4cc0\">i</span> <span style=\"color: #3b4cc0\">en</span> <span style=\"color: #3b4cc0\">liten</span> <span style=\"color: #3b4cc0\">UNK</span> <span style=\"color: #3b4cc0\">i</span> <span style=\"color: #3b4cc0\">en</span> <span style=\"color: #3b4cc0\">liten</span> <span style=\"color: #3b4cc0\">landsby</span> <span style=\"color: #3b4cc0\">i</span> <span style=\"color: #3b4cc0\">Vietnam</span> <span style=\"color: #3b4cc0\">.</span> <span style=\"color: #3b4cc0\">Familien</span> <span style=\"color: #3b4cc0\">min</span> <span style=\"color: #3b4cc0\">var</span> <span style=\"color: #3b4cc0\">far</span> <span style=\"color: #3b4cc0\">,</span> <span style=\"color: #3b4cc0\">mor</span> <span style=\"color: #3b4cc0\">,</span> <span style=\"color: #3b4cc0\">jeg</span> <span style=\"color: #3b4cc0\">og</span> <span style=\"color: #3b4cc0\">de</span> <span style=\"color: #3b4cc0\">andre</span> <span style=\"color: #3b4cc0\">fire</span> <span style=\"color: #3c4ec2\">søsken</span> <span style=\"color: #4257c9\">.</span> <span style=\"color: #465ecf\">Vi</span> <span style=\"color: #516ddb\">var</span> <span style=\"color: #c4d5f3\">fattige</span> <span style=\"color: #f39475\">mennesker</span> <span style=\"color: #e26952\">.</span> <span style=\"color: #dfdbd9\">Foreldrene</span> <span style=\"color: #465ecf\">mine</span> <span style=\"color: #3d50c3\">måtte</span> <span style=\"color: #3b4cc0\">jobbe</span> <span style=\"color: #3b4cc0\">hele</span> <span style=\"color: #3b4cc0\">tiden</span> <span style=\"color: #3b4cc0\">i</span> <span style=\"color: #3b4cc0\">vår</span> <span style=\"color: #3b4cc0\">gård</span> <span style=\"color: #3b4cc0\">for</span> <span style=\"color: #3b4cc0\">å</span> <span style=\"color: #3b4cc0\">gi</span> <span style=\"color: #3b4cc0\">oss</span> <span style=\"color: #3b4cc0\">mat</span> <span style=\"color: #3b4cc0\">,</span> <span style=\"color: #3b4cc0\">klær</span> <span style=\"color: #3b4cc0\">,</span> <span style=\"color: #3d50c3\">osv.</span> <span style=\"color: #3f53c6\">.</span> <span style=\"color: #3f53c6\">Selv</span> <span style=\"color: #7295f4\">om</span> <span style=\"color: #6a8bef\">vi</span> <span style=\"color: #7b9ff9\">hadde</span> <span style=\"color: #d5dbe5\">et</span> <span style=\"color: #c12b30\">hardt</span> <span style=\"color: #b40426\">live</span> <span style=\"color: #b70d28\">t</span> <span style=\"color: #d44e41\">,</span> <span style=\"color: #f7b79b\">ville</span> <span style=\"color: #3f53c6\">foreldrene</span> <span style=\"color: #3b4cc0\">mine</span> <span style=\"color: #3b4cc0\">at</span> <span style=\"color: #3b4cc0\">barna</span> <span style=\"color: #3b4cc0\">kunne</span> <span style=\"color: #3b4cc0\">gå</span> <span style=\"color: #3b4cc0\">på</span> <span style=\"color: #3b4cc0\">skolen</span> <span style=\"color: #3b4cc0\">.</span> <span style=\"color: #3b4cc0\">Derfor</span> <span style=\"color: #3b4cc0\">måtte</span> <span style=\"color: #3b4cc0\">jeg</span> <span style=\"color: #3b4cc0\">og</span> <span style=\"color: #3b4cc0\">fire</span> <span style=\"color: #3b4cc0\">søsken</span> <span style=\"color: #3b4cc0\">ga</span> <span style=\"color: #3b4cc0\">både</span> <span style=\"color: #3b4cc0\">gå</span> <span style=\"color: #3b4cc0\">på</span> <span style=\"color: #3b4cc0\">skolen</span> <span style=\"color: #3b4cc0\">og</span> <span style=\"color: #3b4cc0\">jobbe</span> <span style=\"color: #3b4cc0\">.</span> <span style=\"color: #3b4cc0\">Men</span> <span style=\"color: #3b4cc0\">i</span> <span style=\"color: #3b4cc0\">Vietnam</span> <span style=\"color: #3b4cc0\">må</span> <span style=\"color: #3b4cc0\">man</span> <span style=\"color: #3b4cc0\">UNK</span> <span style=\"color: #3b4cc0\">selv</span> <span style=\"color: #3b4cc0\">hvis</span> <span style=\"color: #3b4cc0\">man</span> <span style=\"color: #3d50c3\">går</span> <span style=\"color: #89acfd\">på</span> <span style=\"color: #f7b79b\">skolen</span> <span style=\"color: #b50927\">:</span> <span style=\"color: #b40426\">Det</span> <span style=\"color: #b40426\">er</span> <span style=\"color: #b40426\">alt</span> <span style=\"color: #c0282f\">:</span> <span style=\"color: #b40426\">UNK</span> <span style=\"color: #b40426\">,</span> <span style=\"color: #b40426\">bøker</span> <span style=\"color: #b40426\">,</span> <span style=\"color: #b50927\">UNK</span> <span style=\"color: #b40426\">.</span> <span style=\"color: #b40426\">Det</span> <span style=\"color: #b40426\">var</span> <span style=\"color: #b70d28\">alt</span> <span style=\"color: #dddcdc\">for</span> <span style=\"color: #bfd3f6\">mye</span> <span style=\"color: #6180e9\">for</span> <span style=\"color: #7b9ff9\">oss</span> <span style=\"color: #4961d2\">.</span> <span style=\"color: #3f53c6\">Vi</span> <span style=\"color: #3c4ec2\">hadde</span> <span style=\"color: #3c4ec2\">liten</span> <span style=\"color: #455cce\">inntekt</span> <span style=\"color: #3c4ec2\">for</span> <span style=\"color: #3b4cc0\">masse</span> <span style=\"color: #3b4cc0\">ting</span> <span style=\"color: #3b4cc0\">.</span> <span style=\"color: #3b4cc0\">Så</span> <span style=\"color: #3b4cc0\">måtte</span> <span style=\"color: #3b4cc0\">to</span> <span style=\"color: #3b4cc0\">av</span> <span style=\"color: #3b4cc0\">de</span> <span style=\"color: #3b4cc0\">eldste</span> <span style=\"color: #3b4cc0\">søsken</span> <span style=\"color: #3b4cc0\">slutte</span> <span style=\"color: #3b4cc0\">skolen</span> <span style=\"color: #3b4cc0\">.</span> <span style=\"color: #3b4cc0\">Det</span> <span style=\"color: #3b4cc0\">var</span> <span style=\"color: #3b4cc0\">bare</span> <span style=\"color: #3b4cc0\">jeg</span> <span style=\"color: #3b4cc0\">og</span> <span style=\"color: #3b4cc0\">de</span> <span style=\"color: #3e51c5\">andre</span> <span style=\"color: #d8dce2\">som</span> <span style=\"color: #bd1f2d\">gikk</span> <span style=\"color: #b50927\">videre</span> <span style=\"color: #b40426\">.</span> <span style=\"color: #b40426\">Da</span> <span style=\"color: #b50927\">jeg</span> <span style=\"color: #b40426\">var</span> <span style=\"color: #b40426\">bare</span> <span style=\"color: #b70d28\">ti</span> <span style=\"color: #b40426\">år</span> <span style=\"color: #b40426\">gammel</span> <span style=\"color: #b40426\">men</span> <span style=\"color: #b40426\">jeg</span> <span style=\"color: #b40426\">forstod</span> <span style=\"color: #b40426\">at</span> <span style=\"color: #b40426\">foreldrene</span> <span style=\"color: #b8122a\">mine</span> <span style=\"color: #b50927\">ønsket</span> <span style=\"color: #b40426\">at</span> <span style=\"color: #b40426\">barna</span> <span style=\"color: #b40426\">sine</span> <span style=\"color: #b40426\">kunne</span> <span style=\"color: #b40426\">gå</span> <span style=\"color: #b40426\">på</span> <span style=\"color: #b40426\">universitet</span> <span style=\"color: #b40426\">og</span> <span style=\"color: #b40426\">det</span> <span style=\"color: #b40426\">førte</span> <span style=\"color: #b40426\">til</span> <span style=\"color: #b40426\">at</span> <span style=\"color: #b40426\">de</span> <span style=\"color: #b40426\">kunne</span> <span style=\"color: #b40426\">finne</span> <span style=\"color: #b40426\">bedre</span> <span style=\"color: #b40426\">bra</span> <span style=\"color: #b40426\">jobb</span> <span style=\"color: #b40426\">og</span> <span style=\"color: #b40426\">bedre</span> <span style=\"color: #b40426\">live</span> <span style=\"color: #b40426\">etterpå</span> <span style=\"color: #b40426\">.</span> <span style=\"color: #b40426\">Jeg</span> <span style=\"color: #b40426\">prøvde</span> <span style=\"color: #b40426\">å</span> <span style=\"color: #b40426\">studere</span> <span style=\"color: #b40426\">,</span> <span style=\"color: #b40426\">prøvde</span> <span style=\"color: #b40426\">å</span> <span style=\"color: #b40426\">gjøre</span> <span style=\"color: #b40426\">være</span> <span style=\"color: #b40426\">flink</span> <span style=\"color: #b40426\">på</span> <span style=\"color: #b40426\">skolen</span> <span style=\"color: #b40426\">for</span> <span style=\"color: #b40426\">å</span> <span style=\"color: #b40426\">kunne</span> <span style=\"color: #b40426\">se</span> <span style=\"color: #b40426\">foreldrene</span> <span style=\"color: #bb1b2c\">skulle</span> <span style=\"color: #ca3b37\">være</span> <span style=\"color: #ee8669\">glad</span> <span style=\"color: #f2cbb7\">.</span> <span style=\"color: #f59d7e\">Jeg</span> <span style=\"color: #ec7f63\">prøvde</span> <span style=\"color: #de614d\">,</span> <span style=\"color: #e26952\">prøvde</span> <span style=\"color: #cd423b\">...</span> <span style=\"color: #b70d28\">Da</span> <span style=\"color: #dc5d4a\">jeg</span> <span style=\"color: #de614d\">fikk</span> <span style=\"color: #a2c1ff\">et</span> <span style=\"color: #4257c9\">brev</span> <span style=\"color: #3b4cc0\">fra</span> <span style=\"color: #3b4cc0\">et</span> <span style=\"color: #3b4cc0\">universitet</span> <span style=\"color: #3b4cc0\">i</span> <span style=\"color: #3b4cc0\">hjemmelandet</span> <span style=\"color: #3b4cc0\">mitt</span> <span style=\"color: #3c4ec2\">,</span> <span style=\"color: #3b4cc0\">UNK</span> <span style=\"color: #3b4cc0\">mitt</span> <span style=\"color: #4c66d6\">hjerte</span> <span style=\"color: #3c4ec2\">så</span> <span style=\"color: #3f53c6\">fort</span> <span style=\"color: #3b4cc0\">.</span> <span style=\"color: #3b4cc0\">Dette</span> <span style=\"color: #3b4cc0\">brevet</span> <span style=\"color: #3d50c3\">viste</span> <span style=\"color: #3d50c3\">at</span> <span style=\"color: #3d50c3\">jeg</span> <span style=\"color: #516ddb\">har</span> <span style=\"color: #ead5c9\">bestått</span> <span style=\"color: #d0473d\">UNK</span> <span style=\"color: #f39778\">på</span> <span style=\"color: #f3c8b2\">universitetet</span> <span style=\"color: #5673e0\">(</span> <span style=\"color: #4e68d8\">I</span> <span style=\"color: #cd423b\">Vietnam</span> <span style=\"color: #b40426\">må</span> <span style=\"color: #b40426\">du</span> <span style=\"color: #b40426\">ta</span> <span style=\"color: #b40426\">en</span> <span style=\"color: #b40426\">veldig</span> <span style=\"color: #b40426\">vanskelig</span> <span style=\"color: #b40426\">prøve</span> <span style=\"color: #b40426\">for</span> <span style=\"color: #b40426\">å</span> <span style=\"color: #b40426\">søke</span> <span style=\"color: #b40426\">universitet</span> <span style=\"color: #b40426\">)</span> <span style=\"color: #b40426\">.</span> <span style=\"color: #b40426\">Det</span> <span style=\"color: #b40426\">var</span> <span style=\"color: #b40426\">så</span> <span style=\"color: #b40426\">glad</span> <span style=\"color: #b40426\">jeg</span> <span style=\"color: #b40426\">kan</span> <span style=\"color: #b40426\">være</span> <span style=\"color: #b40426\">.</span> </p>"
      ]
     },
     "metadata": {},
     "output_type": "display_data"
    },
    {
     "data": {
      "text/html": [
       "<h2>h0169</h2>"
      ]
     },
     "metadata": {},
     "output_type": "display_data"
    },
    {
     "data": {
      "text/html": [
       "<p style=\"max-width: 80ch\"> <span style=\"color: #3d50c3\">Oppgave</span> <span style=\"color: #3c4ec2\">A</span> <span style=\"color: #3f53c6\">|</span> <span style=\"color: #96b7ff\">Din</span> <span style=\"color: #e8d6cc\">helsetilstand</span> <span style=\"color: #5470de\">har</span> <span style=\"color: #84a7fc\">mye</span> <span style=\"color: #6180e9\">å</span> <span style=\"color: #e46e56\">si</span> <span style=\"color: #d55042\">om</span> <span style=\"color: #f7af91\">hvordan</span> <span style=\"color: #f39475\">du</span> <span style=\"color: #d95847\">opplever</span> <span style=\"color: #85a8fc\">dit</span> <span style=\"color: #9abbff\">livskvalitet</span> <span style=\"color: #a6c4fe\">.</span> <span style=\"color: #f7a889\">Det</span> <span style=\"color: #eed0c0\">er</span> <span style=\"color: #ea7b60\">mange</span> <span style=\"color: #b70d28\">moter</span> <span style=\"color: #b40426\">å</span> <span style=\"color: #b40426\">ta</span> <span style=\"color: #b40426\">være</span> <span style=\"color: #b40426\">på</span> <span style=\"color: #b40426\">sin</span> <span style=\"color: #b40426\">egen</span> <span style=\"color: #b40426\">helse</span> <span style=\"color: #b40426\">og</span> <span style=\"color: #b40426\">UNK</span> <span style=\"color: #b50927\">viser</span> <span style=\"color: #b8122a\">at</span> <span style=\"color: #b70d28\">mange</span> <span style=\"color: #b40426\">mennesker</span> <span style=\"color: #b40426\">lever</span> <span style=\"color: #b70d28\">lenger</span> <span style=\"color: #bd1f2d\">enn</span> <span style=\"color: #ba162b\">tidligere</span> <span style=\"color: #be242e\">på</span> <span style=\"color: #bb1b2c\">grunn</span> <span style=\"color: #b40426\">av</span> <span style=\"color: #b40426\">ny</span> <span style=\"color: #b40426\">kunnskap</span> <span style=\"color: #b40426\">og</span> <span style=\"color: #b40426\">utvikling</span> <span style=\"color: #e16751\">innenfor</span> <span style=\"color: #6485ec\">medisin</span> <span style=\"color: #4961d2\">og</span> <span style=\"color: #536edd\">teknologi</span> <span style=\"color: #86a9fc\">.</span> <span style=\"color: #7699f6\">Spørsmålet</span> <span style=\"color: #f59c7d\">er</span> <span style=\"color: #d95847\">:</span> <span style=\"color: #bb1b2c\">hvordan</span> <span style=\"color: #b40426\">kan</span> <span style=\"color: #b40426\">vi</span> <span style=\"color: #b40426\">ta</span> <span style=\"color: #b40426\">være</span> <span style=\"color: #b40426\">på</span> <span style=\"color: #b40426\">vår</span> <span style=\"color: #b40426\">helse</span> <span style=\"color: #b40426\">og</span> <span style=\"color: #b50927\">er</span> <span style=\"color: #ba162b\">det</span> <span style=\"color: #cf453c\">greit</span> <span style=\"color: #ec7f63\">å</span> <span style=\"color: #c12b30\">oppnå</span> <span style=\"color: #c53334\">en</span> <span style=\"color: #ba162b\">høy</span> <span style=\"color: #dc5d4a\">alder</span> <span style=\"color: #e4d9d2\">?</span> <span style=\"color: #f29274\">Det</span> <span style=\"color: #f1cdba\">er</span> <span style=\"color: #f6a283\">flere</span> <span style=\"color: #d65244\">moter</span> <span style=\"color: #ba162b\">at</span> <span style=\"color: #c43032\">du</span> <span style=\"color: #b40426\">kan</span> <span style=\"color: #b40426\">ta</span> <span style=\"color: #b40426\">være</span> <span style=\"color: #b50927\">på</span> <span style=\"color: #b70d28\">din</span> <span style=\"color: #be242e\">egen</span> <span style=\"color: #b40426\">helse</span> <span style=\"color: #b40426\">.</span> <span style=\"color: #b40426\">Først</span> <span style=\"color: #b40426\">kan</span> <span style=\"color: #b50927\">du</span> <span style=\"color: #b40426\">passe</span> <span style=\"color: #b40426\">på</span> <span style=\"color: #b40426\">det</span> <span style=\"color: #b40426\">du</span> <span style=\"color: #b40426\">spiser</span> <span style=\"color: #b40426\">.</span> <span style=\"color: #b40426\">Alle</span> <span style=\"color: #b40426\">vet</span> <span style=\"color: #b40426\">nå</span> <span style=\"color: #b40426\">at</span> <span style=\"color: #b40426\">fett</span> <span style=\"color: #b40426\">er</span> <span style=\"color: #b40426\">usunt</span> <span style=\"color: #b40426\">,</span> <span style=\"color: #b40426\">men</span> <span style=\"color: #b40426\">hvor</span> <span style=\"color: #b40426\">mange</span> <span style=\"color: #b40426\">leser</span> <span style=\"color: #b40426\">UNK</span> <span style=\"color: #b40426\">for</span> <span style=\"color: #b40426\">å</span> <span style=\"color: #b40426\">vite</span> <span style=\"color: #b40426\">om</span> <span style=\"color: #b40426\">UNK</span> <span style=\"color: #b40426\">av</span> <span style=\"color: #b40426\">maten</span> <span style=\"color: #b40426\">de</span> <span style=\"color: #b40426\">spiser</span> <span style=\"color: #b40426\">?</span> <span style=\"color: #b40426\">Å</span> <span style=\"color: #b40426\">bli</span> <span style=\"color: #b40426\">kjent</span> <span style=\"color: #b40426\">med</span> <span style=\"color: #b40426\">kunstige</span> <span style=\"color: #b40426\">UNK</span> <span style=\"color: #b40426\">er</span> <span style=\"color: #b40426\">også</span> <span style=\"color: #b40426\">viktig</span> <span style=\"color: #b40426\">.</span> <span style=\"color: #b40426\">Noen</span> <span style=\"color: #b40426\">av</span> <span style=\"color: #b50927\">disse</span> <span style=\"color: #b40426\">midler</span> <span style=\"color: #b40426\">er</span> <span style=\"color: #b40426\">ikke</span> <span style=\"color: #b40426\">farlig</span> <span style=\"color: #b40426\">men</span> <span style=\"color: #b40426\">,</span> <span style=\"color: #b40426\">på</span> <span style=\"color: #b40426\">den</span> <span style=\"color: #b70d28\">andre</span> <span style=\"color: #b70d28\">siden</span> <span style=\"color: #b70d28\">,</span> <span style=\"color: #c0282f\">er</span> <span style=\"color: #b8122a\">andre</span> <span style=\"color: #b50927\">UNK</span> <span style=\"color: #b50927\">.</span> <span style=\"color: #b40426\">Annen</span> <span style=\"color: #b40426\">kan</span> <span style=\"color: #b40426\">du</span> <span style=\"color: #b40426\">lærer</span> <span style=\"color: #b40426\">om</span> <span style=\"color: #b40426\">de</span> <span style=\"color: #b40426\">tingene</span> <span style=\"color: #b40426\">du</span> <span style=\"color: #b40426\">trenger</span> <span style=\"color: #b40426\">for</span> <span style=\"color: #b40426\">å</span> <span style=\"color: #b40426\">bli</span> <span style=\"color: #b40426\">sterk</span> <span style=\"color: #b40426\">og</span> <span style=\"color: #b40426\">sunt</span> <span style=\"color: #b40426\">i</span> <span style=\"color: #b40426\">kroppen</span> <span style=\"color: #b40426\">.</span> <span style=\"color: #b40426\">Mye</span> <span style=\"color: #b40426\">er</span> <span style=\"color: #b40426\">skrevet</span> <span style=\"color: #b40426\">i</span> <span style=\"color: #b40426\">det</span> <span style=\"color: #b40426\">siste</span> <span style=\"color: #b40426\">om</span> <span style=\"color: #b40426\">,</span> <span style=\"color: #b70d28\">f.eks.</span> <span style=\"color: #b40426\">vitaminer</span> <span style=\"color: #b40426\">og</span> <span style=\"color: #b40426\">god</span> <span style=\"color: #b40426\">og</span> <span style=\"color: #b40426\">skadelig</span> <span style=\"color: #b40426\">kolesterol</span> <span style=\"color: #b40426\">.</span> <span style=\"color: #b40426\">Les</span> <span style=\"color: #b40426\">!</span> <span style=\"color: #b40426\">Hvis</span> <span style=\"color: #b50927\">du</span> <span style=\"color: #b8122a\">tar</span> <span style=\"color: #c12b30\">være</span> <span style=\"color: #f7b89c\">på</span> <span style=\"color: #90b2fe\">kroppen</span> <span style=\"color: #5470de\">din</span> <span style=\"color: #84a7fc\">,</span> <span style=\"color: #445acc\">skal</span> <span style=\"color: #5572df\">du</span> <span style=\"color: #6687ed\">kanskje</span> <span style=\"color: #3c4ec2\">oppnå</span> <span style=\"color: #3f53c6\">en</span> <span style=\"color: #4055c8\">høy</span> <span style=\"color: #3e51c5\">alder</span> <span style=\"color: #3b4cc0\">.</span> <span style=\"color: #3b4cc0\">Men</span> <span style=\"color: #3b4cc0\">,</span> <span style=\"color: #3b4cc0\">er</span> <span style=\"color: #3b4cc0\">dette</span> <span style=\"color: #3b4cc0\">nødvendigvis</span> <span style=\"color: #3b4cc0\">en</span> <span style=\"color: #3b4cc0\">god</span> <span style=\"color: #3b4cc0\">ting</span> <span style=\"color: #3d50c3\">?</span> <span style=\"color: #3b4cc0\">Jeg</span> <span style=\"color: #3b4cc0\">synes</span> <span style=\"color: #3b4cc0\">det</span> <span style=\"color: #3b4cc0\">har</span> <span style=\"color: #3b4cc0\">mye</span> <span style=\"color: #3b4cc0\">å</span> <span style=\"color: #3b4cc0\">si</span> <span style=\"color: #3b4cc0\">for</span> <span style=\"color: #3b4cc0\">samfunnet</span> <span style=\"color: #3d50c3\">.</span> <span style=\"color: #3b4cc0\">For</span> <span style=\"color: #3b4cc0\">det</span> <span style=\"color: #3b4cc0\">første</span> <span style=\"color: #3b4cc0\">,</span> <span style=\"color: #3b4cc0\">å</span> <span style=\"color: #3b4cc0\">ha</span> <span style=\"color: #3b4cc0\">eldre</span> <span style=\"color: #3b4cc0\">mennesker</span> <span style=\"color: #3b4cc0\">som</span> <span style=\"color: #3b4cc0\">en</span> <span style=\"color: #3b4cc0\">del</span> <span style=\"color: #3b4cc0\">av</span> <span style=\"color: #3b4cc0\">samfunnet</span> <span style=\"color: #3b4cc0\">er</span> <span style=\"color: #3b4cc0\">bra</span> <span style=\"color: #3b4cc0\">for</span> <span style=\"color: #3b4cc0\">samfunnet</span> <span style=\"color: #3b4cc0\">når</span> <span style=\"color: #3b4cc0\">det</span> <span style=\"color: #3b4cc0\">gjelder</span> <span style=\"color: #3b4cc0\">livserfaring</span> <span style=\"color: #4a63d3\">.</span> <span style=\"color: #4961d2\">Vi</span> <span style=\"color: #485fd1\">har</span> <span style=\"color: #aac7fd\">,</span> <span style=\"color: #6a8bef\">eller</span> <span style=\"color: #dd5f4b\">kan</span> <span style=\"color: #d0473d\">,</span> <span style=\"color: #f59d7e\">lære</span> <span style=\"color: #d1493f\">mye</span> <span style=\"color: #f59d7e\">fra</span> <span style=\"color: #f6bea4\">de</span> <span style=\"color: #d1dae9\">eldre</span> <span style=\"color: #a5c3fe\">.</span> <span style=\"color: #4c66d6\">På</span> <span style=\"color: #93b5fe\">den</span> <span style=\"color: #5572df\">andre</span> <span style=\"color: #92b4fe\">siden</span> <span style=\"color: #4961d2\">,</span> <span style=\"color: #3c4ec2\">er</span> <span style=\"color: #3b4cc0\">det</span> <span style=\"color: #3b4cc0\">en</span> <span style=\"color: #3b4cc0\">stor</span> <span style=\"color: #3b4cc0\">belastning</span> <span style=\"color: #3e51c5\">for</span> <span style=\"color: #4358cb\">samfunnet</span> <span style=\"color: #84a7fc\">(</span> <span style=\"color: #5a78e4\">på</span> <span style=\"color: #506bda\">grunn</span> <span style=\"color: #dbdcde\">av</span> <span style=\"color: #f6a586\">bekostningen</span> <span style=\"color: #e16751\">til</span> <span style=\"color: #be242e\">helsevesen</span> <span style=\"color: #b40426\">)</span> <span style=\"color: #b40426\">å</span> <span style=\"color: #b40426\">ha</span> <span style=\"color: #b40426\">så</span> <span style=\"color: #b40426\">mange</span> <span style=\"color: #b40426\">eldre</span> <span style=\"color: #b40426\">mennesker</span> <span style=\"color: #b40426\">.</span> <span style=\"color: #b40426\">Ofte</span> <span style=\"color: #b40426\">trenger</span> <span style=\"color: #b40426\">eldre</span> <span style=\"color: #b40426\">mennesker</span> <span style=\"color: #b40426\">mye</span> <span style=\"color: #b40426\">omsorg</span> <span style=\"color: #b40426\">senere</span> <span style=\"color: #b40426\">i</span> <span style=\"color: #b40426\">livet</span> <span style=\"color: #b40426\">og</span> <span style=\"color: #b50927\">mange</span> <span style=\"color: #b40426\">opplever</span> <span style=\"color: #c73635\">langvarig</span> <span style=\"color: #f59f80\">opphold</span> <span style=\"color: #c0282f\">i</span> <span style=\"color: #ba162b\">sykehus</span> <span style=\"color: #bd1f2d\">eller</span> <span style=\"color: #b50927\">i</span> <span style=\"color: #b70d28\">UNK</span> <span style=\"color: #ba162b\">For</span> <span style=\"color: #cc403a\">de</span> <span style=\"color: #c53334\">eldre</span> <span style=\"color: #f39778\">selv</span> <span style=\"color: #d85646\">er</span> </p>"
      ]
     },
     "metadata": {},
     "output_type": "display_data"
    },
    {
     "data": {
      "text/html": [
       "<h2>s0546</h2>"
      ]
     },
     "metadata": {},
     "output_type": "display_data"
    },
    {
     "data": {
      "text/html": [
       "<p style=\"max-width: 80ch\"> <span style=\"color: #b8122a\">En</span> <span style=\"color: #d55042\">tekst</span> <span style=\"color: #be242e\">om</span> <span style=\"color: #be242e\">å</span> <span style=\"color: #bb1b2c\">flytte</span> <span style=\"color: #bb1b2c\">.</span> <span style=\"color: #cf453c\">|</span> <span style=\"color: #cf453c\">Jeg</span> <span style=\"color: #f7b89c\">har</span> <span style=\"color: #6e90f2\">flyttet</span> <span style=\"color: #5e7de7\">mange</span> <span style=\"color: #8badfd\">ganger</span> <span style=\"color: #f7aa8c\">da</span> <span style=\"color: #e5d8d1\">jeg</span> <span style=\"color: #f4c5ad\">bodde</span> <span style=\"color: #f59f80\">i</span> <span style=\"color: #5f7fe8\">@sted</span> <span style=\"color: #5470de\">.</span> <span style=\"color: #5d7ce6\">Jeg</span> <span style=\"color: #485fd1\">har</span> <span style=\"color: #4055c8\">også</span> <span style=\"color: #5f7fe8\">UNK</span> <span style=\"color: #aac7fd\">par</span> <span style=\"color: #dbdcde\">ganger</span> <span style=\"color: #d24b40\">på</span> <span style=\"color: #e46e56\">grunn</span> <span style=\"color: #c12b30\">av</span> <span style=\"color: #bb1b2c\">krig</span> <span style=\"color: #b50927\">som</span> <span style=\"color: #b70d28\">er</span> <span style=\"color: #be242e\">en</span> <span style=\"color: #b40426\">del</span> <span style=\"color: #b8122a\">av</span> <span style=\"color: #a3c2fe\">flytting</span> <span style=\"color: #e4d9d2\">.</span> <span style=\"color: #f4987a\">Jeg</span> <span style=\"color: #f3c7b1\">har</span> <span style=\"color: #efcfbf\">flytet</span> <span style=\"color: #f7a889\">fra</span> <span style=\"color: #6a8bef\">@sted</span> <span style=\"color: #6687ed\">til</span> <span style=\"color: #c4d5f3\">Norge</span> <span style=\"color: #c3d5f4\">UNK</span> <span style=\"color: #adc9fd\">jeg</span> <span style=\"color: #dadce0\">har</span> <span style=\"color: #f6bea4\">ikke</span> <span style=\"color: #f6a586\">flytet</span> <span style=\"color: #c32e31\">,</span> <span style=\"color: #df634e\">jeg</span> <span style=\"color: #da5a49\">har</span> <span style=\"color: #d85646\">UNK</span> <span style=\"color: #dd5f4b\">til</span> <span style=\"color: #ca3b37\">Norge</span> <span style=\"color: #dd5f4b\">men</span> <span style=\"color: #86a9fc\">ja</span> <span style=\"color: #aac7fd\">å</span> <span style=\"color: #d3dbe7\">UNK</span> <span style=\"color: #c7d7f0\">er</span> <span style=\"color: #c7d7f0\">nesten</span> <span style=\"color: #d85646\">same</span> <span style=\"color: #c83836\">som</span> <span style=\"color: #be242e\">å</span> <span style=\"color: #b8122a\">flytte</span> <span style=\"color: #bb1b2c\">.</span> <span style=\"color: #ee8468\">I</span> <span style=\"color: #f7b79b\">UNK</span> <span style=\"color: #f2cbb7\">å</span> <span style=\"color: #f08b6e\">flytte</span> <span style=\"color: #d1dae9\">fra</span> <span style=\"color: #516ddb\">et</span> <span style=\"color: #4055c8\">sted</span> <span style=\"color: #3d50c3\">til</span> <span style=\"color: #3b4cc0\">annet</span> <span style=\"color: #3b4cc0\">sted</span> <span style=\"color: #3b4cc0\">er</span> <span style=\"color: #3c4ec2\">ikke</span> <span style=\"color: #3e51c5\">lett</span> <span style=\"color: #7da0f9\">det</span> <span style=\"color: #abc8fd\">koster</span> <span style=\"color: #be242e\">mye</span> <span style=\"color: #b8122a\">tid</span> <span style=\"color: #b40426\">,</span> <span style=\"color: #b40426\">kraft</span> <span style=\"color: #ba162b\">og</span> <span style=\"color: #f39577\">kanskje</span> <span style=\"color: #6282ea\">mye</span> <span style=\"color: #5e7de7\">penger</span> <span style=\"color: #9fbfff\">.</span> <span style=\"color: #e4d9d2\">Det</span> <span style=\"color: #abc8fd\">UNK</span> <span style=\"color: #a5c3fe\">om</span> <span style=\"color: #7ea1fa\">å</span> <span style=\"color: #d1dae9\">flytte</span> <span style=\"color: #dfdbd9\">er</span> <span style=\"color: #adc9fd\">at</span> <span style=\"color: #5d7ce6\">det</span> <span style=\"color: #4b64d5\">jobben</span> <span style=\"color: #3d50c3\">ikke</span> <span style=\"color: #3c4ec2\">blir</span> <span style=\"color: #3b4cc0\">bare</span> <span style=\"color: #3b4cc0\">dagen</span> <span style=\"color: #3b4cc0\">som</span> <span style=\"color: #3b4cc0\">du</span> <span style=\"color: #3c4ec2\">flytter</span> <span style=\"color: #3b4cc0\">men</span> <span style=\"color: #3b4cc0\">-</span> <span style=\"color: #3b4cc0\">fortsetter</span> <span style=\"color: #3b4cc0\">dager</span> <span style=\"color: #3b4cc0\">,</span> <span style=\"color: #3b4cc0\">uker</span> <span style=\"color: #3b4cc0\">eller</span> <span style=\"color: #3b4cc0\">måneder</span> <span style=\"color: #3b4cc0\">etter</span> <span style=\"color: #3b4cc0\">at</span> <span style=\"color: #3b4cc0\">du</span> <span style=\"color: #3d50c3\">flytet</span> <span style=\"color: #bed2f6\">.</span> <span style=\"color: #e8d6cc\">Du</span> <span style=\"color: #90b2fe\">må</span> <span style=\"color: #d7dce3\">sette</span> <span style=\"color: #dd5f4b\">alt</span> <span style=\"color: #506bda\">på</span> <span style=\"color: #4961d2\">plass</span> <span style=\"color: #4055c8\">eller</span> <span style=\"color: #799cf8\">ordne</span> <span style=\"color: #6f92f3\">mange</span> <span style=\"color: #f6bea4\">ting</span> <span style=\"color: #c83836\">som</span> <span style=\"color: #b8122a\">må</span> <span style=\"color: #bd1f2d\">UNK</span> <span style=\"color: #c53334\">.</span> <span style=\"color: #c32e31\">Og</span> <span style=\"color: #df634e\">når</span> <span style=\"color: #f7b194\">du</span> <span style=\"color: #c9d7f0\">kommer</span> <span style=\"color: #7093f3\">et</span> <span style=\"color: #6180e9\">land</span> <span style=\"color: #4b64d5\">eller</span> <span style=\"color: #5977e3\">et</span> <span style=\"color: #4e68d8\">sted</span> <span style=\"color: #5875e1\">som</span> <span style=\"color: #dedcdb\">bor</span> <span style=\"color: #e5d8d1\">folk</span> <span style=\"color: #f5c2aa\">som</span> <span style=\"color: #e6d7cf\">har</span> <span style=\"color: #799cf8\">en</span> <span style=\"color: #6788ee\">UNK</span> <span style=\"color: #4055c8\">kultur</span> <span style=\"color: #3b4cc0\">enn</span> <span style=\"color: #3b4cc0\">du</span> <span style=\"color: #3d50c3\">har</span> <span style=\"color: #3d50c3\">er</span> <span style=\"color: #3b4cc0\">det</span> <span style=\"color: #3b4cc0\">mest</span> <span style=\"color: #3b4cc0\">vanskeligst</span> <span style=\"color: #3b4cc0\">av</span> <span style=\"color: #3b4cc0\">UNK</span> <span style=\"color: #3b4cc0\">.</span> <span style=\"color: #3b4cc0\">Det</span> <span style=\"color: #3b4cc0\">forstår</span> <span style=\"color: #3b4cc0\">bare</span> <span style=\"color: #3b4cc0\">de</span> <span style=\"color: #3b4cc0\">som</span> <span style=\"color: #3b4cc0\">har</span> <span style=\"color: #3b4cc0\">opplevd</span> <span style=\"color: #3b4cc0\">.</span> <span style=\"color: #3b4cc0\">Jeg</span> <span style=\"color: #3b4cc0\">har</span> <span style=\"color: #3b4cc0\">selv</span> <span style=\"color: #3b4cc0\">opplevd</span> <span style=\"color: #3b4cc0\">men</span> <span style=\"color: #3b4cc0\">nå</span> <span style=\"color: #3b4cc0\">går</span> <span style=\"color: #3b4cc0\">det</span> <span style=\"color: #3b4cc0\">bra</span> <span style=\"color: #3b4cc0\">.</span> </p>"
      ]
     },
     "metadata": {},
     "output_type": "display_data"
    }
   ],
   "source": [
    "for filename in filenames:\n",
    "    display_html('<h2>%s</h2>' % filename.stem, raw=True)\n",
    "    html = file_with_attention(filename, attention_model, w2i, maxlen=300)\n",
    "    with open(filename.stem + '.html', 'w') as f:\n",
    "        print(\"\"\"\n",
    "<!DOCTYPE html>\n",
    "<html lang=\"nb\">\n",
    "<head>\n",
    "  <meta charset=\"utf-8\">\n",
    "  <title>%s</title>\n",
    "  <style>\n",
    "  body {\n",
    "    font-family: \"Helvetica Neue\", Helvetica, Arial, sans-serif;\n",
    "    font-size: 14px;\n",
    "    line-height: 20px;\n",
    "    text-align: left;\n",
    "  }\n",
    "  </style>\n",
    "</head>\n",
    "<body>\n",
    "\"\"\" % filename.stem, file=f)\n",
    "        print(html, file=f)\n",
    "        print('</body></html>', file=f)\n",
    "    display_html(html, raw=True)"
   ]
  },
  {
   "cell_type": "code",
   "execution_count": null,
   "metadata": {},
   "outputs": [],
   "source": []
  }
 ],
 "metadata": {
  "kernelspec": {
   "display_name": "Python (master thesis)",
   "language": "python",
   "name": "masterthesis"
  },
  "language_info": {
   "codemirror_mode": {
    "name": "ipython",
    "version": 3
   },
   "file_extension": ".py",
   "mimetype": "text/x-python",
   "name": "python",
   "nbconvert_exporter": "python",
   "pygments_lexer": "ipython3",
   "version": "3.5.2"
  }
 },
 "nbformat": 4,
 "nbformat_minor": 2
}
