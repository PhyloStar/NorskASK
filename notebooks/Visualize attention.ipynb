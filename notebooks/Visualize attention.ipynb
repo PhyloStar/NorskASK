{
 "cells": [
  {
   "cell_type": "code",
   "execution_count": 1,
   "metadata": {
    "collapsed": true
   },
   "outputs": [],
   "source": [
    "%load_ext autoreload\n",
    "%autoreload 2"
   ]
  },
  {
   "cell_type": "code",
   "execution_count": 32,
   "metadata": {},
   "outputs": [
    {
     "name": "stderr",
     "output_type": "stream",
     "text": [
      "Using TensorFlow backend.\n"
     ]
    }
   ],
   "source": [
    "from IPython.display import HTML\n",
    "from keras.models import Model, load_model\n",
    "import numpy as np\n",
    "\n",
    "from masterthesis.utils import DATA_DIR, ATTENTION_LAYER"
   ]
  },
  {
   "cell_type": "code",
   "execution_count": 29,
   "metadata": {},
   "outputs": [],
   "source": [
    "def show_weighted(tokens, weights):\n",
    "    ents = []\n",
    "    for token, weight in zip(tokens, weights):\n",
    "        ent = '<span style=\"opacity: %f\">%s</span>' % (weight, token)\n",
    "        ents.append(ent)\n",
    "    display(HTML(' '.join(ents)))"
   ]
  },
  {
   "cell_type": "code",
   "execution_count": 31,
   "metadata": {},
   "outputs": [
    {
     "data": {
      "text/html": [
       "<span style=\"opacity: 0.819407\">Dette</span> <span style=\"opacity: 0.980769\">er</span> <span style=\"opacity: 0.080334\">en</span> <span style=\"opacity: 0.906845\">setning</span> <span style=\"opacity: 0.323153\">med</span> <span style=\"opacity: 0.723526\">flere</span> <span style=\"opacity: 0.665290\">ord</span>"
      ],
      "text/plain": [
       "<IPython.core.display.HTML object>"
      ]
     },
     "metadata": {},
     "output_type": "display_data"
    }
   ],
   "source": [
    "show_weighted(\"Dette er en setning med flere ord\".split(), np.random.random(10))"
   ]
  },
  {
   "cell_type": "code",
   "execution_count": 34,
   "metadata": {},
   "outputs": [],
   "source": [
    "def tokens_in_file(filepath):\n",
    "    with filepath.open() as f:\n",
    "        for line in f:\n",
    "            for token in line.strip().split():\n",
    "                yield token"
   ]
  },
  {
   "cell_type": "code",
   "execution_count": 38,
   "metadata": {},
   "outputs": [
    {
     "data": {
      "text/html": [
       "<span style=\"opacity: 0.269075\">Oppgave</span> <span style=\"opacity: 0.427231\">A.</span> <span style=\"opacity: 0.159613\">.</span> <span style=\"opacity: 0.549208\">Om</span> <span style=\"opacity: 0.314154\">helse</span> <span style=\"opacity: 0.359749\">og</span> <span style=\"opacity: 0.201769\">livskvalitet</span> <span style=\"opacity: 0.139128\">.</span> <span style=\"opacity: 0.738915\">|</span> <span style=\"opacity: 0.145645\">Jeg</span> <span style=\"opacity: 0.503079\">tror</span> <span style=\"opacity: 0.952721\">at</span> <span style=\"opacity: 0.692608\">det</span> <span style=\"opacity: 0.440639\">har</span> <span style=\"opacity: 0.764267\">vært</span> <span style=\"opacity: 0.362589\">her</span> <span style=\"opacity: 0.990074\">i</span> <span style=\"opacity: 0.172350\">Norge</span> <span style=\"opacity: 0.520482\">hvor</span> <span style=\"opacity: 0.140957\">jeg</span> <span style=\"opacity: 0.398580\">har</span> <span style=\"opacity: 0.222841\">lest</span> <span style=\"opacity: 0.700357\">flest</span> <span style=\"opacity: 0.059406\">artikler</span> <span style=\"opacity: 0.357929\">om</span> <span style=\"opacity: 0.578100\">helse</span> <span style=\"opacity: 0.372006\">,</span> <span style=\"opacity: 0.433441\">matlaging</span> <span style=\"opacity: 0.453399\">,</span> <span style=\"opacity: 0.106292\">trimm</span> <span style=\"opacity: 0.604621\">og</span> <span style=\"opacity: 0.648539\">mosjon</span> <span style=\"opacity: 0.445802\">,</span> <span style=\"opacity: 0.661188\">trening</span> <span style=\"opacity: 0.203187\">og</span> <span style=\"opacity: 0.363515\">slankekurer</span> <span style=\"opacity: 0.818988\">.</span> <span style=\"opacity: 0.114580\">Det</span> <span style=\"opacity: 0.996575\">overasker</span> <span style=\"opacity: 0.393504\">meg</span> <span style=\"opacity: 0.477841\">ikke</span> <span style=\"opacity: 0.280611\">at</span> <span style=\"opacity: 0.605409\">folk</span> <span style=\"opacity: 0.327576\">har</span> <span style=\"opacity: 0.045517\">vilje</span> <span style=\"opacity: 0.930800\">til</span> <span style=\"opacity: 0.371979\">å</span> <span style=\"opacity: 0.847006\">øke</span> <span style=\"opacity: 0.875955\">livskvaliteten</span> <span style=\"opacity: 0.044918\">sin</span> <span style=\"opacity: 0.147694\">,</span> <span style=\"opacity: 0.881594\">men</span> <span style=\"opacity: 0.637335\">hvorfor</span> <span style=\"opacity: 0.971647\">er</span> <span style=\"opacity: 0.760307\">det</span> <span style=\"opacity: 0.146434\">blitt</span> <span style=\"opacity: 0.036239\">på</span> <span style=\"opacity: 0.526314\">denne</span> <span style=\"opacity: 0.735704\">måten</span> <span style=\"opacity: 0.835995\">?</span> <span style=\"opacity: 0.919378\">Når</span> <span style=\"opacity: 0.757045\">begynte</span> <span style=\"opacity: 0.607929\">vi</span> <span style=\"opacity: 0.402640\">å</span> <span style=\"opacity: 0.596436\">lurer</span> <span style=\"opacity: 0.369522\">på</span> <span style=\"opacity: 0.881429\">hvor</span> <span style=\"opacity: 0.258202\">mye</span> <span style=\"opacity: 0.338517\">salt</span> <span style=\"opacity: 0.380707\">eller</span> <span style=\"opacity: 0.140822\">fett</span> <span style=\"opacity: 0.315293\">må</span> <span style=\"opacity: 0.496288\">vi</span> <span style=\"opacity: 0.172143\">spise</span> <span style=\"opacity: 0.465311\">?</span> <span style=\"opacity: 0.766133\">Hvorfor</span> <span style=\"opacity: 0.021178\">omfatter</span> <span style=\"opacity: 0.422442\">vi</span> <span style=\"opacity: 0.046342\">at</span> <span style=\"opacity: 0.805856\">et</span> <span style=\"opacity: 0.457976\">sunt</span> <span style=\"opacity: 0.798282\">liv</span> <span style=\"opacity: 0.716129\">er</span> <span style=\"opacity: 0.408240\">nødvendigvis</span> <span style=\"opacity: 0.783823\">kjedølig</span> <span style=\"opacity: 0.647618\">?</span> <span style=\"opacity: 0.707841\">Jeg</span> <span style=\"opacity: 0.536916\">har</span> <span style=\"opacity: 0.935407\">reflektert</span> <span style=\"opacity: 0.839488\">alvorlig</span> <span style=\"opacity: 0.071119\">på</span> <span style=\"opacity: 0.873392\">dette</span> <span style=\"opacity: 0.781789\">.</span> <span style=\"opacity: 0.895589\">Utenfor</span> <span style=\"opacity: 0.141862\">de</span> <span style=\"opacity: 0.820949\">store</span> <span style=\"opacity: 0.844850\">butikksetere</span> <span style=\"opacity: 0.872553\">i</span> <span style=\"opacity: 0.763438\">@sted</span> <span style=\"opacity: 0.595883\">har</span> <span style=\"opacity: 0.045735\">jeg</span> <span style=\"opacity: 0.415049\">funnet</span> <span style=\"opacity: 0.498879\">ut</span> <span style=\"opacity: 0.408193\">at</span> <span style=\"opacity: 0.414275\">det</span> <span style=\"opacity: 0.800137\">er</span> <span style=\"opacity: 0.880879\">\"</span> <span style=\"opacity: 0.433294\">tøft</span> <span style=\"opacity: 0.661302\">\"</span> <span style=\"opacity: 0.064838\">å</span> <span style=\"opacity: 0.171701\">røyke</span> <span style=\"opacity: 0.009839\">,</span> <span style=\"opacity: 0.593722\">å</span> <span style=\"opacity: 0.179235\">spise</span> <span style=\"opacity: 0.686583\">McDonalds</span> <span style=\"opacity: 0.711502\">,</span> <span style=\"opacity: 0.183842\">å</span> <span style=\"opacity: 0.914823\">drikke</span> <span style=\"opacity: 0.013971\">brus</span> <span style=\"opacity: 0.532472\">og</span> <span style=\"opacity: 0.765674\">å</span> <span style=\"opacity: 0.638190\">sitte</span> <span style=\"opacity: 0.481671\">seg</span> <span style=\"opacity: 0.250260\">timesvis</span> <span style=\"opacity: 0.767739\">helt</span> <span style=\"opacity: 0.850099\">passive</span> <span style=\"opacity: 0.842154\">.</span> <span style=\"opacity: 0.341553\">Hvis</span> <span style=\"opacity: 0.972833\">jeg</span> <span style=\"opacity: 0.966024\">tar</span> <span style=\"opacity: 0.495153\">et</span> <span style=\"opacity: 0.732526\">lite</span> <span style=\"opacity: 0.031428\">rund</span> <span style=\"opacity: 0.293888\">om</span> <span style=\"opacity: 0.506022\">kvelden</span> <span style=\"opacity: 0.109537\">finner</span> <span style=\"opacity: 0.920025\">jeg</span> <span style=\"opacity: 0.123764\">at</span> <span style=\"opacity: 0.524296\">det</span> <span style=\"opacity: 0.696288\">er</span> <span style=\"opacity: 0.701976\">kjekkt</span> <span style=\"opacity: 0.916330\">å</span> <span style=\"opacity: 0.114189\">drikke</span> <span style=\"opacity: 0.985903\">seg</span> <span style=\"opacity: 0.288035\">full</span> <span style=\"opacity: 0.684099\">,</span> <span style=\"opacity: 0.154389\">å</span> <span style=\"opacity: 0.282729\">spise</span> <span style=\"opacity: 0.066852\">pølser</span> <span style=\"opacity: 0.789502\">og</span> <span style=\"opacity: 0.262543\">å</span> <span style=\"opacity: 0.547887\">dykke</span> <span style=\"opacity: 0.534270\">i</span> <span style=\"opacity: 0.137109\">narkotikas</span> <span style=\"opacity: 0.895149\">verden</span> <span style=\"opacity: 0.017384\">...</span> <span style=\"opacity: 0.867853\">Jeg</span> <span style=\"opacity: 0.104786\">er</span> <span style=\"opacity: 0.401866\">bekymret</span> <span style=\"opacity: 0.998566\">over</span> <span style=\"opacity: 0.919512\">dette</span> <span style=\"opacity: 0.750162\">fordi</span> <span style=\"opacity: 0.420745\">jeg</span> <span style=\"opacity: 0.123995\">vet</span> <span style=\"opacity: 0.294044\">at</span> <span style=\"opacity: 0.975853\">det</span> <span style=\"opacity: 0.555913\">er</span> <span style=\"opacity: 0.231138\">ikke</span> <span style=\"opacity: 0.391901\">bare</span> <span style=\"opacity: 0.988963\">i</span> <span style=\"opacity: 0.100483\">@sted</span> <span style=\"opacity: 0.779784\">eller</span> <span style=\"opacity: 0.877539\">@sted</span> <span style=\"opacity: 0.801791\">;</span> <span style=\"opacity: 0.713005\">det</span> <span style=\"opacity: 0.119315\">skjer</span> <span style=\"opacity: 0.966990\">i</span> <span style=\"opacity: 0.054965\">Amsterdam</span> <span style=\"opacity: 0.241772\">,</span> <span style=\"opacity: 0.972568\">Tokyo</span> <span style=\"opacity: 0.609001\">,</span> <span style=\"opacity: 0.517493\">Buenos</span> <span style=\"opacity: 0.861104\">Aires</span> <span style=\"opacity: 0.378099\">,</span> <span style=\"opacity: 0.679195\">New</span> <span style=\"opacity: 0.252197\">York</span> <span style=\"opacity: 0.426388\">og</span> <span style=\"opacity: 0.344855\">Rome</span> <span style=\"opacity: 0.002410\">.</span> <span style=\"opacity: 0.738305\">Dette</span> <span style=\"opacity: 0.810052\">er</span> <span style=\"opacity: 0.810393\">nåtidens</span> <span style=\"opacity: 0.471929\">sorg</span> <span style=\"opacity: 0.336188\">og</span> <span style=\"opacity: 0.156934\">fremtidens</span> <span style=\"opacity: 0.296937\">mareritt</span> <span style=\"opacity: 0.167717\">.</span> <span style=\"opacity: 0.684868\">Jeg</span> <span style=\"opacity: 0.016018\">ønsker</span> <span style=\"opacity: 0.871774\">ikke</span>"
      ],
      "text/plain": [
       "<IPython.core.display.HTML object>"
      ]
     },
     "metadata": {},
     "output_type": "display_data"
    }
   ],
   "source": [
    "show_weighted(tokens_in_file(DATA_DIR / 'txt' / 'h0200.txt'), np.random.random(200))"
   ]
  },
  {
   "cell_type": "code",
   "execution_count": null,
   "metadata": {
    "collapsed": true
   },
   "outputs": [],
   "source": []
  }
 ],
 "metadata": {
  "kernelspec": {
   "display_name": "Python (master thesis)",
   "language": "python",
   "name": "thesis"
  },
  "language_info": {
   "codemirror_mode": {
    "name": "ipython",
    "version": 3
   },
   "file_extension": ".py",
   "mimetype": "text/x-python",
   "name": "python",
   "nbconvert_exporter": "python",
   "pygments_lexer": "ipython3",
   "version": "3.5.6"
  }
 },
 "nbformat": 4,
 "nbformat_minor": 2
}
