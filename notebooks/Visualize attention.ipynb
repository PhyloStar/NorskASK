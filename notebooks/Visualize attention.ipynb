{
 "cells": [
  {
   "cell_type": "code",
   "execution_count": 1,
   "metadata": {
    "collapsed": true
   },
   "outputs": [],
   "source": [
    "%load_ext autoreload\n",
    "%autoreload 2"
   ]
  },
  {
   "cell_type": "code",
   "execution_count": 2,
   "metadata": {},
   "outputs": [
    {
     "name": "stderr",
     "output_type": "stream",
     "text": [
      "Using TensorFlow backend.\n"
     ]
    }
   ],
   "source": [
    "import pickle\n",
    "\n",
    "from IPython.display import HTML\n",
    "from keras.models import Model, load_model\n",
    "import numpy as np\n",
    "\n",
    "from masterthesis.features.build_features import file_to_sequence\n",
    "from masterthesis.utils import DATA_DIR, ATTENTION_LAYER, MODEL_DIR, load_split"
   ]
  },
  {
   "cell_type": "code",
   "execution_count": 3,
   "metadata": {
    "collapsed": true
   },
   "outputs": [],
   "source": [
    "def weight2color(w):\n",
    "    if w < 0.5:\n",
    "        ang = 240\n",
    "        sat = int(50 - 100 * w)\n",
    "    else:\n",
    "        ang = 0\n",
    "        sat = int(200 * w - 100)\n",
    "    return 'hsl(%d %d%% 50%%)' % (ang, sat)"
   ]
  },
  {
   "cell_type": "code",
   "execution_count": 4,
   "metadata": {},
   "outputs": [],
   "source": [
    "def show_weighted(tokens, weights):\n",
    "    ents = []\n",
    "    for token, weight in zip(tokens, weights):\n",
    "        col = weight2color(weight)\n",
    "        ent = '<span style=\"color: %s\">%s</span>' % (col, token)\n",
    "        ents.append(ent)\n",
    "    display(HTML(' '.join(ents)))"
   ]
  },
  {
   "cell_type": "code",
   "execution_count": 5,
   "metadata": {},
   "outputs": [],
   "source": [
    "def tokens_in_file(filepath):\n",
    "    with filepath.open() as f:\n",
    "        for line in f:\n",
    "            for token in line.strip().split():\n",
    "                yield token"
   ]
  },
  {
   "cell_type": "code",
   "execution_count": 6,
   "metadata": {
    "collapsed": true
   },
   "outputs": [],
   "source": [
    "def file_with_attention(filepath, attention_model, w2i):\n",
    "    x = file_to_sequence(700, filepath, w2i)[np.newaxis, :]\n",
    "    weights = attention_model.predict(x)[0]\n",
    "    weights -= weights.min()\n",
    "    weights /= weights.max()\n",
    "    show_weighted(tokens_in_file(filepath), weights)"
   ]
  },
  {
   "cell_type": "code",
   "execution_count": 7,
   "metadata": {},
   "outputs": [],
   "source": [
    "w2i = pickle.load((MODEL_DIR / 'rnn_model_w2i.pkl').open('rb'))\n",
    "\n",
    "model = load_model(str(MODEL_DIR / 'rnn_model.h5'))\n",
    "\n",
    "attention_model = Model(inputs=model.input, outputs=model.get_layer(ATTENTION_LAYER).output)"
   ]
  },
  {
   "cell_type": "code",
   "execution_count": 8,
   "metadata": {
    "scrolled": true
   },
   "outputs": [
    {
     "data": {
      "text/html": [
       "<div>\n",
       "<style scoped>\n",
       "    .dataframe tbody tr th:only-of-type {\n",
       "        vertical-align: middle;\n",
       "    }\n",
       "\n",
       "    .dataframe tbody tr th {\n",
       "        vertical-align: top;\n",
       "    }\n",
       "\n",
       "    .dataframe thead th {\n",
       "        text-align: right;\n",
       "    }\n",
       "</style>\n",
       "<table border=\"1\" class=\"dataframe\">\n",
       "  <thead>\n",
       "    <tr style=\"text-align: right;\">\n",
       "      <th></th>\n",
       "      <th>age</th>\n",
       "      <th>cefr</th>\n",
       "      <th>filename</th>\n",
       "      <th>gender</th>\n",
       "      <th>lang</th>\n",
       "      <th>num_tokens</th>\n",
       "      <th>split</th>\n",
       "      <th>testlevel</th>\n",
       "      <th>title</th>\n",
       "      <th>topic</th>\n",
       "    </tr>\n",
       "  </thead>\n",
       "  <tbody>\n",
       "    <tr>\n",
       "      <th>156</th>\n",
       "      <td>32</td>\n",
       "      <td>C1</td>\n",
       "      <td>h0157</td>\n",
       "      <td>kvinne</td>\n",
       "      <td>polsk</td>\n",
       "      <td>651</td>\n",
       "      <td>dev</td>\n",
       "      <td>Høyere nivå</td>\n",
       "      <td>Barn og fysiske aktiviteter</td>\n",
       "      <td>barn idrett/sport</td>\n",
       "    </tr>\n",
       "    <tr>\n",
       "      <th>186</th>\n",
       "      <td>51</td>\n",
       "      <td>C1</td>\n",
       "      <td>h0189</td>\n",
       "      <td>kvinne</td>\n",
       "      <td>engelsk</td>\n",
       "      <td>523</td>\n",
       "      <td>dev</td>\n",
       "      <td>Høyere nivå</td>\n",
       "      <td>Helse og livskvalitet</td>\n",
       "      <td>helse</td>\n",
       "    </tr>\n",
       "    <tr>\n",
       "      <th>598</th>\n",
       "      <td>31</td>\n",
       "      <td>C1</td>\n",
       "      <td>h0603</td>\n",
       "      <td>kvinne</td>\n",
       "      <td>russisk</td>\n",
       "      <td>487</td>\n",
       "      <td>dev</td>\n",
       "      <td>Høyere nivå</td>\n",
       "      <td>Adopsjon</td>\n",
       "      <td>barn familie</td>\n",
       "    </tr>\n",
       "    <tr>\n",
       "      <th>1375</th>\n",
       "      <td>26</td>\n",
       "      <td>A2</td>\n",
       "      <td>s0546</td>\n",
       "      <td>mann</td>\n",
       "      <td>somali</td>\n",
       "      <td>176</td>\n",
       "      <td>dev</td>\n",
       "      <td>Språkprøven</td>\n",
       "      <td>Flytting</td>\n",
       "      <td>familie flytting</td>\n",
       "    </tr>\n",
       "  </tbody>\n",
       "</table>\n",
       "</div>"
      ],
      "text/plain": [
       "      age cefr filename  gender     lang  num_tokens split    testlevel  \\\n",
       "156    32   C1    h0157  kvinne    polsk         651   dev  Høyere nivå   \n",
       "186    51   C1    h0189  kvinne  engelsk         523   dev  Høyere nivå   \n",
       "598    31   C1    h0603  kvinne  russisk         487   dev  Høyere nivå   \n",
       "1375   26   A2    s0546    mann   somali         176   dev  Språkprøven   \n",
       "\n",
       "                            title               topic  \n",
       "156   Barn og fysiske aktiviteter  barn idrett/sport   \n",
       "186         Helse og livskvalitet              helse   \n",
       "598                      Adopsjon       barn familie   \n",
       "1375                     Flytting   familie flytting   "
      ]
     },
     "execution_count": 8,
     "metadata": {},
     "output_type": "execute_result"
    }
   ],
   "source": [
    "dev = load_split('dev')\n",
    "dev[dev.cefr.isin(['A2', 'C1'])].head()"
   ]
  },
  {
   "cell_type": "code",
   "execution_count": 9,
   "metadata": {
    "scrolled": true
   },
   "outputs": [
    {
     "data": {
      "text/html": [
       "<span style=\"color: hsl(0 100% 50%)\">Oppgave</span> <span style=\"color: hsl(0 69% 50%)\">C</span> <span style=\"color: hsl(0 44% 50%)\">|</span> <span style=\"color: hsl(0 17% 50%)\">I</span> <span style=\"color: hsl(0 2% 50%)\">følge</span> <span style=\"color: hsl(240 1% 50%)\">statistikken</span> <span style=\"color: hsl(240 15% 50%)\">er</span> <span style=\"color: hsl(240 28% 50%)\">det</span> <span style=\"color: hsl(240 33% 50%)\">ca.</span> <span style=\"color: hsl(240 33% 50%)\">15-20</span> <span style=\"color: hsl(240 35% 50%)\">%</span> <span style=\"color: hsl(240 40% 50%)\">av</span> <span style=\"color: hsl(240 44% 50%)\">alle</span> <span style=\"color: hsl(240 46% 50%)\">par</span> <span style=\"color: hsl(240 47% 50%)\">i</span> <span style=\"color: hsl(240 47% 50%)\">Norge</span> <span style=\"color: hsl(240 47% 50%)\">som</span> <span style=\"color: hsl(240 48% 50%)\">er</span> <span style=\"color: hsl(240 47% 50%)\">ufrivillig</span> <span style=\"color: hsl(240 47% 50%)\">barnløse</span> <span style=\"color: hsl(240 48% 50%)\">av</span> <span style=\"color: hsl(240 48% 50%)\">en</span> <span style=\"color: hsl(240 48% 50%)\">eller</span> <span style=\"color: hsl(240 49% 50%)\">annen</span> <span style=\"color: hsl(240 49% 50%)\">grunn</span> <span style=\"color: hsl(240 49% 50%)\">.</span> <span style=\"color: hsl(240 49% 50%)\">Mange</span> <span style=\"color: hsl(240 49% 50%)\">av</span> <span style=\"color: hsl(240 49% 50%)\">dem</span> <span style=\"color: hsl(240 49% 50%)\">får</span> <span style=\"color: hsl(240 49% 50%)\">hjelp</span> <span style=\"color: hsl(240 49% 50%)\">av</span> <span style=\"color: hsl(240 49% 50%)\">assistert</span> <span style=\"color: hsl(240 49% 50%)\">befruktning</span> <span style=\"color: hsl(240 49% 50%)\">,</span> <span style=\"color: hsl(240 49% 50%)\">men</span> <span style=\"color: hsl(240 49% 50%)\">for</span> <span style=\"color: hsl(240 49% 50%)\">dem</span> <span style=\"color: hsl(240 49% 50%)\">som</span> <span style=\"color: hsl(240 49% 50%)\">mislykkes</span> <span style=\"color: hsl(240 49% 50%)\">med</span> <span style=\"color: hsl(240 49% 50%)\">IVF</span> <span style=\"color: hsl(240 49% 50%)\">blir</span> <span style=\"color: hsl(240 49% 50%)\">adopsjon</span> <span style=\"color: hsl(240 49% 50%)\">den</span> <span style=\"color: hsl(240 49% 50%)\">eneste</span> <span style=\"color: hsl(240 49% 50%)\">muligheten</span> <span style=\"color: hsl(240 49% 50%)\">å</span> <span style=\"color: hsl(240 49% 50%)\">få</span> <span style=\"color: hsl(240 49% 50%)\">barn</span> <span style=\"color: hsl(240 49% 50%)\">.</span> <span style=\"color: hsl(240 49% 50%)\">Det</span> <span style=\"color: hsl(240 49% 50%)\">er</span> <span style=\"color: hsl(240 49% 50%)\">vanskelig</span> <span style=\"color: hsl(240 49% 50%)\">å</span> <span style=\"color: hsl(240 49% 50%)\">få</span> <span style=\"color: hsl(240 49% 50%)\">adoptert</span> <span style=\"color: hsl(240 49% 50%)\">et</span> <span style=\"color: hsl(240 49% 50%)\">barn</span> <span style=\"color: hsl(240 49% 50%)\">fra</span> <span style=\"color: hsl(240 49% 50%)\">Norge</span> <span style=\"color: hsl(240 49% 50%)\">,</span> <span style=\"color: hsl(240 48% 50%)\">så</span> <span style=\"color: hsl(240 49% 50%)\">de</span> <span style=\"color: hsl(240 49% 50%)\">fleste</span> <span style=\"color: hsl(240 49% 50%)\">velger</span> <span style=\"color: hsl(240 49% 50%)\">å</span> <span style=\"color: hsl(240 49% 50%)\">adoptere</span> <span style=\"color: hsl(240 49% 50%)\">fra</span> <span style=\"color: hsl(240 49% 50%)\">et</span> <span style=\"color: hsl(240 49% 50%)\">annet</span> <span style=\"color: hsl(240 49% 50%)\">land</span> <span style=\"color: hsl(240 49% 50%)\">.</span> <span style=\"color: hsl(240 48% 50%)\">Adopsjonen</span> <span style=\"color: hsl(240 49% 50%)\">er</span> <span style=\"color: hsl(240 49% 50%)\">en</span> <span style=\"color: hsl(240 49% 50%)\">lang</span> <span style=\"color: hsl(240 49% 50%)\">og</span> <span style=\"color: hsl(240 49% 50%)\">vanskelig</span> <span style=\"color: hsl(240 48% 50%)\">prosess</span> <span style=\"color: hsl(240 49% 50%)\">som</span> <span style=\"color: hsl(240 49% 50%)\">kan</span> <span style=\"color: hsl(240 49% 50%)\">ta</span> <span style=\"color: hsl(240 49% 50%)\">flere</span> <span style=\"color: hsl(240 49% 50%)\">år</span> <span style=\"color: hsl(240 49% 50%)\">.</span> <span style=\"color: hsl(240 49% 50%)\">Jeg</span> <span style=\"color: hsl(240 49% 50%)\">tror</span> <span style=\"color: hsl(240 49% 50%)\">at</span> <span style=\"color: hsl(240 49% 50%)\">de</span> <span style=\"color: hsl(240 49% 50%)\">fleste</span> <span style=\"color: hsl(240 49% 50%)\">adoptivforeldrene</span> <span style=\"color: hsl(240 49% 50%)\">blir</span> <span style=\"color: hsl(240 49% 50%)\">godt</span> <span style=\"color: hsl(240 49% 50%)\">forberedt</span> <span style=\"color: hsl(240 49% 50%)\">til</span> <span style=\"color: hsl(240 49% 50%)\">å</span> <span style=\"color: hsl(240 49% 50%)\">ta</span> <span style=\"color: hsl(240 49% 50%)\">imot</span> <span style=\"color: hsl(240 49% 50%)\">et</span> <span style=\"color: hsl(240 49% 50%)\">barn</span> <span style=\"color: hsl(240 49% 50%)\">fra</span> <span style=\"color: hsl(240 49% 50%)\">et</span> <span style=\"color: hsl(240 49% 50%)\">fremmed</span> <span style=\"color: hsl(240 49% 50%)\">land</span> <span style=\"color: hsl(240 49% 50%)\">med</span> <span style=\"color: hsl(240 49% 50%)\">språk</span> <span style=\"color: hsl(240 49% 50%)\">og</span> <span style=\"color: hsl(240 49% 50%)\">kultur</span> <span style=\"color: hsl(240 49% 50%)\">som</span> <span style=\"color: hsl(240 49% 50%)\">er</span> <span style=\"color: hsl(240 49% 50%)\">ulike</span> <span style=\"color: hsl(240 49% 50%)\">norsk</span> <span style=\"color: hsl(240 49% 50%)\">.</span> <span style=\"color: hsl(240 48% 50%)\">Adopterte</span> <span style=\"color: hsl(240 49% 50%)\">barn</span> <span style=\"color: hsl(240 49% 50%)\">som</span> <span style=\"color: hsl(240 49% 50%)\">kommer</span> <span style=\"color: hsl(240 49% 50%)\">til</span> <span style=\"color: hsl(240 49% 50%)\">Norge</span> <span style=\"color: hsl(240 49% 50%)\">i</span> <span style=\"color: hsl(240 49% 50%)\">en</span> <span style=\"color: hsl(240 49% 50%)\">ung</span> <span style=\"color: hsl(240 49% 50%)\">alder</span> <span style=\"color: hsl(240 49% 50%)\">klarer</span> <span style=\"color: hsl(240 49% 50%)\">seg</span> <span style=\"color: hsl(240 49% 50%)\">vanligvis</span> <span style=\"color: hsl(240 49% 50%)\">fint</span> <span style=\"color: hsl(240 49% 50%)\">da</span> <span style=\"color: hsl(240 49% 50%)\">det</span> <span style=\"color: hsl(240 49% 50%)\">er</span> <span style=\"color: hsl(240 49% 50%)\">lett</span> <span style=\"color: hsl(240 49% 50%)\">for</span> <span style=\"color: hsl(240 49% 50%)\">små</span> <span style=\"color: hsl(240 49% 50%)\">barn</span> <span style=\"color: hsl(240 49% 50%)\">å</span> <span style=\"color: hsl(240 49% 50%)\">lære</span> <span style=\"color: hsl(240 49% 50%)\">seg</span> <span style=\"color: hsl(240 49% 50%)\">et</span> <span style=\"color: hsl(240 49% 50%)\">annet</span> <span style=\"color: hsl(240 49% 50%)\">språk</span> <span style=\"color: hsl(240 49% 50%)\">på</span> <span style=\"color: hsl(240 49% 50%)\">kort</span> <span style=\"color: hsl(240 49% 50%)\">tid</span> <span style=\"color: hsl(240 49% 50%)\">,</span> <span style=\"color: hsl(240 49% 50%)\">de</span> <span style=\"color: hsl(240 49% 50%)\">får</span> <span style=\"color: hsl(240 49% 50%)\">seg</span> <span style=\"color: hsl(240 49% 50%)\">fort</span> <span style=\"color: hsl(240 49% 50%)\">nye</span> <span style=\"color: hsl(240 49% 50%)\">venner</span> <span style=\"color: hsl(240 49% 50%)\">og</span> <span style=\"color: hsl(240 49% 50%)\">blir</span> <span style=\"color: hsl(240 49% 50%)\">lett</span> <span style=\"color: hsl(240 49% 50%)\">integrert</span> <span style=\"color: hsl(240 49% 50%)\">i</span> <span style=\"color: hsl(240 49% 50%)\">det</span> <span style=\"color: hsl(240 49% 50%)\">norske</span> <span style=\"color: hsl(240 49% 50%)\">samfunn</span> <span style=\"color: hsl(240 49% 50%)\">.</span> <span style=\"color: hsl(240 49% 50%)\">Det</span> <span style=\"color: hsl(240 49% 50%)\">kan</span> <span style=\"color: hsl(240 49% 50%)\">være</span> <span style=\"color: hsl(240 49% 50%)\">fint</span> <span style=\"color: hsl(240 49% 50%)\">for</span> <span style=\"color: hsl(240 49% 50%)\">barnet</span> <span style=\"color: hsl(240 49% 50%)\">hvis</span> <span style=\"color: hsl(240 49% 50%)\">adoptivforeldrene</span> <span style=\"color: hsl(240 49% 50%)\">lærer</span> <span style=\"color: hsl(240 49% 50%)\">seg</span> <span style=\"color: hsl(240 49% 50%)\">litt</span> <span style=\"color: hsl(240 49% 50%)\">språket</span> <span style=\"color: hsl(240 49% 50%)\">til</span> <span style=\"color: hsl(240 49% 50%)\">barnets</span> <span style=\"color: hsl(240 49% 50%)\">hjemland</span> <span style=\"color: hsl(240 49% 50%)\">,</span> <span style=\"color: hsl(240 49% 50%)\">fordi</span> <span style=\"color: hsl(240 49% 50%)\">det</span> <span style=\"color: hsl(240 49% 50%)\">blir</span> <span style=\"color: hsl(240 49% 50%)\">lettere</span> <span style=\"color: hsl(240 50% 50%)\">for</span> <span style=\"color: hsl(240 49% 50%)\">både</span> <span style=\"color: hsl(240 49% 50%)\">barnet</span> <span style=\"color: hsl(240 49% 50%)\">og</span> <span style=\"color: hsl(240 49% 50%)\">foreldrene</span> <span style=\"color: hsl(240 49% 50%)\">å</span> <span style=\"color: hsl(240 49% 50%)\">kommunisere</span> <span style=\"color: hsl(240 49% 50%)\">da</span> <span style=\"color: hsl(240 49% 50%)\">.</span> <span style=\"color: hsl(240 49% 50%)\">Barna</span> <span style=\"color: hsl(240 49% 50%)\">fra</span> <span style=\"color: hsl(240 49% 50%)\">Asia</span> <span style=\"color: hsl(240 49% 50%)\">og</span> <span style=\"color: hsl(240 49% 50%)\">Afrika</span> <span style=\"color: hsl(240 49% 50%)\">kan</span> <span style=\"color: hsl(240 49% 50%)\">likevel</span> <span style=\"color: hsl(240 49% 50%)\">få</span> <span style=\"color: hsl(240 49% 50%)\">en</span> <span style=\"color: hsl(240 49% 50%)\">del</span> <span style=\"color: hsl(240 49% 50%)\">problemer</span> <span style=\"color: hsl(240 49% 50%)\">fordi</span> <span style=\"color: hsl(240 49% 50%)\">de</span> <span style=\"color: hsl(240 49% 50%)\">har</span> <span style=\"color: hsl(240 49% 50%)\">en</span> <span style=\"color: hsl(240 49% 50%)\">annen</span> <span style=\"color: hsl(240 49% 50%)\">hud-</span> <span style=\"color: hsl(240 49% 50%)\">og</span> <span style=\"color: hsl(240 49% 50%)\">hårfarge</span> <span style=\"color: hsl(240 49% 50%)\">enn</span> <span style=\"color: hsl(240 49% 50%)\">etniske</span> <span style=\"color: hsl(240 49% 50%)\">nordmenn</span> <span style=\"color: hsl(240 49% 50%)\">.</span> <span style=\"color: hsl(240 49% 50%)\">I</span> <span style=\"color: hsl(240 49% 50%)\">tillegg</span> <span style=\"color: hsl(240 49% 50%)\">blir</span> <span style=\"color: hsl(240 49% 50%)\">det</span> <span style=\"color: hsl(240 49% 50%)\">vanskelig</span> <span style=\"color: hsl(240 49% 50%)\">for</span> <span style=\"color: hsl(240 49% 50%)\">deres</span> <span style=\"color: hsl(240 49% 50%)\">foreldre</span> <span style=\"color: hsl(240 49% 50%)\">å</span> <span style=\"color: hsl(240 49% 50%)\">skjule</span> <span style=\"color: hsl(240 49% 50%)\">adopsjonen</span> <span style=\"color: hsl(240 49% 50%)\">hvis</span> <span style=\"color: hsl(240 49% 50%)\">de</span> <span style=\"color: hsl(240 49% 50%)\">ønsker</span> <span style=\"color: hsl(240 49% 50%)\">det</span> <span style=\"color: hsl(240 49% 50%)\">.</span> <span style=\"color: hsl(240 49% 50%)\">Jeg</span> <span style=\"color: hsl(240 49% 50%)\">tror</span> <span style=\"color: hsl(240 49% 50%)\">at</span> <span style=\"color: hsl(240 49% 50%)\">til</span> <span style=\"color: hsl(240 49% 50%)\">tross</span> <span style=\"color: hsl(240 49% 50%)\">for</span> <span style=\"color: hsl(240 49% 50%)\">alle</span> <span style=\"color: hsl(240 49% 50%)\">forberedelser</span> <span style=\"color: hsl(240 49% 50%)\">kan</span> <span style=\"color: hsl(240 49% 50%)\">foreldrene</span> <span style=\"color: hsl(240 49% 50%)\">få</span> <span style=\"color: hsl(240 49% 50%)\">psykisk</span> <span style=\"color: hsl(240 49% 50%)\">belastning</span> <span style=\"color: hsl(240 49% 50%)\">hvis</span> <span style=\"color: hsl(240 49% 50%)\">de</span> <span style=\"color: hsl(240 49% 50%)\">blir</span> <span style=\"color: hsl(240 49% 50%)\">ofte</span> <span style=\"color: hsl(240 49% 50%)\">spurt</span> <span style=\"color: hsl(240 49% 50%)\">om</span> <span style=\"color: hsl(240 49% 50%)\">hvor</span> <span style=\"color: hsl(240 49% 50%)\">de</span> <span style=\"color: hsl(240 49% 50%)\">har</span> <span style=\"color: hsl(240 49% 50%)\">skaffet</span> <span style=\"color: hsl(240 49% 50%)\">seg</span> <span style=\"color: hsl(240 49% 50%)\">barnet</span> <span style=\"color: hsl(240 49% 50%)\">.</span> <span style=\"color: hsl(240 49% 50%)\">Det</span> <span style=\"color: hsl(240 49% 50%)\">største</span> <span style=\"color: hsl(240 49% 50%)\">problemet</span> <span style=\"color: hsl(240 49% 50%)\">etter</span> <span style=\"color: hsl(240 49% 50%)\">min</span> <span style=\"color: hsl(240 49% 50%)\">mening</span> <span style=\"color: hsl(240 49% 50%)\">kan</span> <span style=\"color: hsl(240 49% 50%)\">være</span> <span style=\"color: hsl(240 49% 50%)\">barnets</span> <span style=\"color: hsl(240 49% 50%)\">fysisk</span> <span style=\"color: hsl(240 49% 50%)\">og</span> <span style=\"color: hsl(240 49% 50%)\">psykisk</span> <span style=\"color: hsl(240 49% 50%)\">helse</span> <span style=\"color: hsl(240 49% 50%)\">.</span> <span style=\"color: hsl(240 49% 50%)\">Legerapportene</span> <span style=\"color: hsl(240 49% 50%)\">som</span> <span style=\"color: hsl(240 49% 50%)\">følger</span> <span style=\"color: hsl(240 48% 50%)\">tildeling</span> <span style=\"color: hsl(240 49% 50%)\">av</span> <span style=\"color: hsl(240 49% 50%)\">barn</span> <span style=\"color: hsl(240 49% 50%)\">er</span> <span style=\"color: hsl(240 49% 50%)\">ofte</span> <span style=\"color: hsl(240 49% 50%)\">ufullstendige</span> <span style=\"color: hsl(240 49% 50%)\">.</span> <span style=\"color: hsl(240 49% 50%)\">Ingen</span> <span style=\"color: hsl(240 49% 50%)\">lege</span> <span style=\"color: hsl(240 49% 50%)\">vil</span> <span style=\"color: hsl(240 49% 50%)\">garantere</span> <span style=\"color: hsl(240 49% 50%)\">at</span> <span style=\"color: hsl(240 49% 50%)\">et</span> <span style=\"color: hsl(240 49% 50%)\">barn</span> <span style=\"color: hsl(240 49% 50%)\">som</span> <span style=\"color: hsl(240 49% 50%)\">har</span> <span style=\"color: hsl(240 49% 50%)\">bodd</span> <span style=\"color: hsl(240 49% 50%)\">på</span> <span style=\"color: hsl(240 49% 50%)\">et</span> <span style=\"color: hsl(240 48% 50%)\">barnehjem</span> <span style=\"color: hsl(240 49% 50%)\">med</span> <span style=\"color: hsl(240 49% 50%)\">ofte</span> <span style=\"color: hsl(240 49% 50%)\">dårlige</span> <span style=\"color: hsl(240 49% 50%)\">forhold</span> <span style=\"color: hsl(240 49% 50%)\">eller</span> <span style=\"color: hsl(240 49% 50%)\">på</span> <span style=\"color: hsl(240 49% 50%)\">gata</span> <span style=\"color: hsl(240 49% 50%)\">vil</span> <span style=\"color: hsl(240 49% 50%)\">senere</span> <span style=\"color: hsl(240 49% 50%)\">utvikle</span> <span style=\"color: hsl(240 49% 50%)\">seg</span> <span style=\"color: hsl(240 49% 50%)\">normalt</span> <span style=\"color: hsl(240 49% 50%)\">.</span> <span style=\"color: hsl(240 49% 50%)\">Mange</span> <span style=\"color: hsl(240 49% 50%)\">av</span> <span style=\"color: hsl(240 49% 50%)\">adopterte</span> <span style=\"color: hsl(240 49% 50%)\">barn</span> <span style=\"color: hsl(240 49% 50%)\">sliter</span> <span style=\"color: hsl(240 49% 50%)\">i</span> <span style=\"color: hsl(240 49% 50%)\">flere</span> <span style=\"color: hsl(240 49% 50%)\">år</span> <span style=\"color: hsl(240 49% 50%)\">med</span> <span style=\"color: hsl(240 49% 50%)\">dårlig</span> <span style=\"color: hsl(240 48% 50%)\">søvn</span> <span style=\"color: hsl(240 49% 50%)\">,</span> <span style=\"color: hsl(240 48% 50%)\">lære-</span> <span style=\"color: hsl(240 48% 50%)\">og</span> <span style=\"color: hsl(240 48% 50%)\">atferdsvansker</span> <span style=\"color: hsl(240 48% 50%)\">.</span> <span style=\"color: hsl(240 49% 50%)\">For</span> <span style=\"color: hsl(240 49% 50%)\">deres</span> <span style=\"color: hsl(240 49% 50%)\">foreldre</span> <span style=\"color: hsl(240 49% 50%)\">betyr</span> <span style=\"color: hsl(240 49% 50%)\">dette</span> <span style=\"color: hsl(240 49% 50%)\">at</span> <span style=\"color: hsl(240 49% 50%)\">de</span> <span style=\"color: hsl(240 49% 50%)\">må</span> <span style=\"color: hsl(240 49% 50%)\">bruke</span> <span style=\"color: hsl(240 49% 50%)\">mye</span> <span style=\"color: hsl(240 49% 50%)\">tid</span> <span style=\"color: hsl(240 49% 50%)\">og</span> <span style=\"color: hsl(240 49% 50%)\">andre</span> <span style=\"color: hsl(240 49% 50%)\">ressurser</span> <span style=\"color: hsl(240 49% 50%)\">på</span> <span style=\"color: hsl(240 49% 50%)\">slike</span> <span style=\"color: hsl(240 49% 50%)\">barn</span> <span style=\"color: hsl(240 49% 50%)\">,</span> <span style=\"color: hsl(240 49% 50%)\">derfor</span> <span style=\"color: hsl(240 49% 50%)\">stiller</span> <span style=\"color: hsl(240 49% 50%)\">giverlandene</span> <span style=\"color: hsl(240 49% 50%)\">krav</span> <span style=\"color: hsl(240 49% 50%)\">om</span> <span style=\"color: hsl(240 49% 50%)\">at</span> <span style=\"color: hsl(240 49% 50%)\">barnet</span> <span style=\"color: hsl(240 49% 50%)\">skal</span> <span style=\"color: hsl(240 49% 50%)\">være</span> <span style=\"color: hsl(240 49% 50%)\">det</span> <span style=\"color: hsl(240 49% 50%)\">yngste</span> <span style=\"color: hsl(240 49% 50%)\">barnet</span> <span style=\"color: hsl(240 49% 50%)\">i</span> <span style=\"color: hsl(240 49% 50%)\">familien</span> <span style=\"color: hsl(240 49% 50%)\">.</span> <span style=\"color: hsl(240 49% 50%)\">Adoptivforeldre</span> <span style=\"color: hsl(240 49% 50%)\">t</span> <span style=\"color: hsl(240 49% 50%)\">vil</span> <span style=\"color: hsl(240 49% 50%)\">stadig</span> <span style=\"color: hsl(240 49% 50%)\">møte</span> <span style=\"color: hsl(240 49% 50%)\">nye</span> <span style=\"color: hsl(240 49% 50%)\">utfordringer</span> <span style=\"color: hsl(240 49% 50%)\">.</span> <span style=\"color: hsl(240 49% 50%)\">Når</span> <span style=\"color: hsl(240 49% 50%)\">barnet</span> <span style=\"color: hsl(240 49% 50%)\">blir</span> <span style=\"color: hsl(240 49% 50%)\">eldre</span> <span style=\"color: hsl(240 49% 50%)\">får</span> <span style=\"color: hsl(240 49% 50%)\">han</span> <span style=\"color: hsl(240 49% 50%)\">mulig</span> <span style=\"color: hsl(240 49% 50%)\">behov</span> <span style=\"color: hsl(240 49% 50%)\">for</span> <span style=\"color: hsl(240 49% 50%)\">å</span> <span style=\"color: hsl(240 49% 50%)\">få</span> <span style=\"color: hsl(240 49% 50%)\">vite</span> <span style=\"color: hsl(240 49% 50%)\">noe</span> <span style=\"color: hsl(240 49% 50%)\">om</span> <span style=\"color: hsl(240 49% 50%)\">sine</span> <span style=\"color: hsl(240 49% 50%)\">biologiske</span> <span style=\"color: hsl(240 49% 50%)\">foreldre</span> <span style=\"color: hsl(240 49% 50%)\">.</span> <span style=\"color: hsl(240 49% 50%)\">Vil</span> <span style=\"color: hsl(240 49% 50%)\">hans</span> <span style=\"color: hsl(240 49% 50%)\">\"</span> <span style=\"color: hsl(240 49% 50%)\">nye</span> <span style=\"color: hsl(240 49% 50%)\">\"</span> <span style=\"color: hsl(240 49% 50%)\">foreldre</span> <span style=\"color: hsl(240 49% 50%)\">støtte</span> <span style=\"color: hsl(240 49% 50%)\">ham</span> <span style=\"color: hsl(240 49% 50%)\">da</span> <span style=\"color: hsl(240 49% 50%)\">?</span> <span style=\"color: hsl(240 49% 50%)\">Blir</span> <span style=\"color: hsl(240 49% 50%)\">de</span> <span style=\"color: hsl(240 49% 50%)\">ikke</span> <span style=\"color: hsl(240 49% 50%)\">d</span> <span style=\"color: hsl(240 49% 50%)\">redde</span> <span style=\"color: hsl(240 49% 50%)\">for</span> <span style=\"color: hsl(240 49% 50%)\">at</span> <span style=\"color: hsl(240 49% 50%)\">barnet</span> <span style=\"color: hsl(240 49% 50%)\">velger</span> <span style=\"color: hsl(240 49% 50%)\">å</span> <span style=\"color: hsl(240 49% 50%)\">flytte</span> <span style=\"color: hsl(240 49% 50%)\">til</span> <span style=\"color: hsl(240 49% 50%)\">sine</span> <span style=\"color: hsl(240 49% 50%)\">biologiske</span> <span style=\"color: hsl(240 49% 50%)\">foreldre</span> <span style=\"color: hsl(240 49% 50%)\">?</span> <span style=\"color: hsl(240 49% 50%)\">De</span> <span style=\"color: hsl(240 49% 50%)\">fleste</span> <span style=\"color: hsl(240 49% 50%)\">barna</span> <span style=\"color: hsl(240 49% 50%)\">vil</span> <span style=\"color: hsl(240 49% 50%)\">finne</span> <span style=\"color: hsl(240 49% 50%)\">sine</span> <span style=\"color: hsl(240 49% 50%)\">fored</span> <span style=\"color: hsl(240 49% 50%)\">\"</span> <span style=\"color: hsl(240 49% 50%)\">ordentlige</span> <span style=\"color: hsl(240 49% 50%)\">\"</span> <span style=\"color: hsl(240 49% 50%)\">foredl</span> <span style=\"color: hsl(240 49% 50%)\">foreldre</span> <span style=\"color: hsl(240 49% 50%)\">fordi</span> <span style=\"color: hsl(240 49% 50%)\">de</span> <span style=\"color: hsl(240 49% 50%)\">ønsker</span> <span style=\"color: hsl(240 49% 50%)\">å</span> <span style=\"color: hsl(240 49% 50%)\">få</span> <span style=\"color: hsl(240 49% 50%)\">vite</span> <span style=\"color: hsl(240 49% 50%)\">hvorfor</span> <span style=\"color: hsl(240 49% 50%)\">de</span> <span style=\"color: hsl(240 49% 50%)\">ble</span> <span style=\"color: hsl(240 49% 50%)\">adoptert</span> <span style=\"color: hsl(240 49% 50%)\">bort</span> <span style=\"color: hsl(240 49% 50%)\">,</span> <span style=\"color: hsl(240 49% 50%)\">og</span> <span style=\"color: hsl(240 49% 50%)\">adoptivforeldre</span> <span style=\"color: hsl(240 49% 50%)\">er</span> <span style=\"color: hsl(240 49% 50%)\">nødt</span> <span style=\"color: hsl(240 49% 50%)\">til</span> <span style=\"color: hsl(240 49% 50%)\">å</span> <span style=\"color: hsl(240 49% 50%)\">støtte</span> <span style=\"color: hsl(240 49% 50%)\">dem</span> <span style=\"color: hsl(240 49% 50%)\">i</span> <span style=\"color: hsl(240 49% 50%)\">denne</span> <span style=\"color: hsl(240 49% 50%)\">prosessen</span> <span style=\"color: hsl(240 49% 50%)\">.</span> <span style=\"color: hsl(240 49% 50%)\">Adopsjon</span> <span style=\"color: hsl(240 49% 50%)\">er</span> <span style=\"color: hsl(240 49% 50%)\">først</span> <span style=\"color: hsl(240 49% 50%)\">og</span> <span style=\"color: hsl(240 49% 50%)\">fremst</span> <span style=\"color: hsl(240 49% 50%)\">en</span> <span style=\"color: hsl(240 49% 50%)\">følelsesmessig</span> <span style=\"color: hsl(240 49% 50%)\">utfordring</span> <span style=\"color: hsl(240 49% 50%)\">for</span> <span style=\"color: hsl(240 49% 50%)\">både</span> <span style=\"color: hsl(240 49% 50%)\">barnet</span> <span style=\"color: hsl(240 49% 50%)\">og</span> <span style=\"color: hsl(240 49% 50%)\">adoptivforeldrene</span> <span style=\"color: hsl(240 49% 50%)\">,</span> <span style=\"color: hsl(240 49% 50%)\">men</span> <span style=\"color: hsl(240 49% 50%)\">til</span> <span style=\"color: hsl(240 49% 50%)\">tross</span> <span style=\"color: hsl(240 49% 50%)\">for</span> <span style=\"color: hsl(240 49% 50%)\">alt</span> <span style=\"color: hsl(240 49% 50%)\">det</span> <span style=\"color: hsl(240 49% 50%)\">ovennevnte</span> <span style=\"color: hsl(240 49% 50%)\">får</span> <span style=\"color: hsl(240 49% 50%)\">mennesker</span> <span style=\"color: hsl(240 49% 50%)\">oppfylt</span> <span style=\"color: hsl(240 49% 50%)\">sitt</span> <span style=\"color: hsl(240 49% 50%)\">største</span> <span style=\"color: hsl(240 49% 50%)\">ønske</span> <span style=\"color: hsl(240 49% 50%)\">-</span> <span style=\"color: hsl(240 49% 50%)\">ønske</span> <span style=\"color: hsl(240 49% 50%)\">om</span> <span style=\"color: hsl(240 49% 50%)\">å</span> <span style=\"color: hsl(240 49% 50%)\">ha</span> <span style=\"color: hsl(240 49% 50%)\">et</span> <span style=\"color: hsl(240 49% 50%)\">barn</span> <span style=\"color: hsl(240 49% 50%)\">.</span> <span style=\"color: hsl(240 49% 50%)\">Jeg</span> <span style=\"color: hsl(240 49% 50%)\">tviler</span> <span style=\"color: hsl(240 49% 50%)\">på</span> <span style=\"color: hsl(240 49% 50%)\">at</span> <span style=\"color: hsl(240 49% 50%)\">de</span> <span style=\"color: hsl(240 49% 50%)\">angrer</span> <span style=\"color: hsl(240 49% 50%)\">på</span> <span style=\"color: hsl(240 49% 50%)\">dette</span> <span style=\"color: hsl(240 49% 50%)\">i</span> <span style=\"color: hsl(240 49% 50%)\">ettertid</span> <span style=\"color: hsl(240 49% 50%)\">.</span>"
      ],
      "text/plain": [
       "<IPython.core.display.HTML object>"
      ]
     },
     "metadata": {},
     "output_type": "display_data"
    }
   ],
   "source": [
    "file_with_attention(DATA_DIR / 'txt' / 'h0603.txt', attention_model, w2i)"
   ]
  },
  {
   "cell_type": "code",
   "execution_count": 10,
   "metadata": {
    "scrolled": true
   },
   "outputs": [
    {
     "data": {
      "text/html": [
       "<span style=\"color: hsl(0 100% 50%)\">En</span> <span style=\"color: hsl(0 73% 50%)\">tekst</span> <span style=\"color: hsl(0 38% 50%)\">om</span> <span style=\"color: hsl(0 13% 50%)\">å</span> <span style=\"color: hsl(240 0% 50%)\">flytte</span> <span style=\"color: hsl(240 9% 50%)\">.</span> <span style=\"color: hsl(240 9% 50%)\">|</span> <span style=\"color: hsl(240 16% 50%)\">Jeg</span> <span style=\"color: hsl(240 18% 50%)\">har</span> <span style=\"color: hsl(240 19% 50%)\">flyttet</span> <span style=\"color: hsl(240 22% 50%)\">mange</span> <span style=\"color: hsl(240 25% 50%)\">ganger</span> <span style=\"color: hsl(240 30% 50%)\">da</span> <span style=\"color: hsl(240 35% 50%)\">jeg</span> <span style=\"color: hsl(240 36% 50%)\">bodde</span> <span style=\"color: hsl(240 38% 50%)\">i</span> <span style=\"color: hsl(240 38% 50%)\">@sted</span> <span style=\"color: hsl(240 40% 50%)\">.</span> <span style=\"color: hsl(240 42% 50%)\">Jeg</span> <span style=\"color: hsl(240 43% 50%)\">har</span> <span style=\"color: hsl(240 43% 50%)\">også</span> <span style=\"color: hsl(240 43% 50%)\">fluktet</span> <span style=\"color: hsl(240 45% 50%)\">par</span> <span style=\"color: hsl(240 46% 50%)\">ganger</span> <span style=\"color: hsl(240 46% 50%)\">på</span> <span style=\"color: hsl(240 47% 50%)\">grunn</span> <span style=\"color: hsl(240 48% 50%)\">av</span> <span style=\"color: hsl(240 48% 50%)\">krig</span> <span style=\"color: hsl(240 48% 50%)\">som</span> <span style=\"color: hsl(240 49% 50%)\">er</span> <span style=\"color: hsl(240 49% 50%)\">en</span> <span style=\"color: hsl(240 49% 50%)\">del</span> <span style=\"color: hsl(240 49% 50%)\">av</span> <span style=\"color: hsl(240 49% 50%)\">flytting</span> <span style=\"color: hsl(240 49% 50%)\">.</span> <span style=\"color: hsl(240 49% 50%)\">Jeg</span> <span style=\"color: hsl(240 49% 50%)\">har</span> <span style=\"color: hsl(240 49% 50%)\">flytet</span> <span style=\"color: hsl(240 49% 50%)\">fra</span> <span style=\"color: hsl(240 48% 50%)\">@sted</span> <span style=\"color: hsl(240 48% 50%)\">til</span> <span style=\"color: hsl(240 48% 50%)\">Norge</span> <span style=\"color: hsl(240 48% 50%)\">tja</span> <span style=\"color: hsl(240 48% 50%)\">jeg</span> <span style=\"color: hsl(240 48% 50%)\">har</span> <span style=\"color: hsl(240 48% 50%)\">ikke</span> <span style=\"color: hsl(240 48% 50%)\">flytet</span> <span style=\"color: hsl(240 48% 50%)\">,</span> <span style=\"color: hsl(240 49% 50%)\">jeg</span> <span style=\"color: hsl(240 49% 50%)\">har</span> <span style=\"color: hsl(240 48% 50%)\">fluktet</span> <span style=\"color: hsl(240 48% 50%)\">til</span> <span style=\"color: hsl(240 48% 50%)\">Norge</span> <span style=\"color: hsl(240 49% 50%)\">men</span> <span style=\"color: hsl(240 49% 50%)\">ja</span> <span style=\"color: hsl(240 49% 50%)\">å</span> <span style=\"color: hsl(240 48% 50%)\">flukte</span> <span style=\"color: hsl(240 48% 50%)\">er</span> <span style=\"color: hsl(240 49% 50%)\">nesten</span> <span style=\"color: hsl(240 48% 50%)\">same</span> <span style=\"color: hsl(240 48% 50%)\">som</span> <span style=\"color: hsl(240 49% 50%)\">å</span> <span style=\"color: hsl(240 49% 50%)\">flytte</span> <span style=\"color: hsl(240 49% 50%)\">.</span> <span style=\"color: hsl(240 49% 50%)\">I</span> <span style=\"color: hsl(240 48% 50%)\">hvertval</span> <span style=\"color: hsl(240 48% 50%)\">å</span> <span style=\"color: hsl(240 49% 50%)\">flytte</span> <span style=\"color: hsl(240 48% 50%)\">fra</span> <span style=\"color: hsl(240 49% 50%)\">et</span> <span style=\"color: hsl(240 48% 50%)\">sted</span> <span style=\"color: hsl(240 49% 50%)\">til</span> <span style=\"color: hsl(240 49% 50%)\">annet</span> <span style=\"color: hsl(240 49% 50%)\">sted</span> <span style=\"color: hsl(240 49% 50%)\">er</span> <span style=\"color: hsl(240 49% 50%)\">ikke</span> <span style=\"color: hsl(240 49% 50%)\">lett</span> <span style=\"color: hsl(240 49% 50%)\">det</span> <span style=\"color: hsl(240 49% 50%)\">koster</span> <span style=\"color: hsl(240 49% 50%)\">mye</span> <span style=\"color: hsl(240 49% 50%)\">tid</span> <span style=\"color: hsl(240 49% 50%)\">,</span> <span style=\"color: hsl(240 49% 50%)\">kraft</span> <span style=\"color: hsl(240 49% 50%)\">og</span> <span style=\"color: hsl(240 49% 50%)\">kanskje</span> <span style=\"color: hsl(240 49% 50%)\">mye</span> <span style=\"color: hsl(240 49% 50%)\">penger</span> <span style=\"color: hsl(240 49% 50%)\">.</span> <span style=\"color: hsl(240 49% 50%)\">Det</span> <span style=\"color: hsl(240 49% 50%)\">vanskeligsgt</span> <span style=\"color: hsl(240 49% 50%)\">om</span> <span style=\"color: hsl(240 49% 50%)\">å</span> <span style=\"color: hsl(240 49% 50%)\">flytte</span> <span style=\"color: hsl(240 49% 50%)\">er</span> <span style=\"color: hsl(240 49% 50%)\">at</span> <span style=\"color: hsl(240 49% 50%)\">det</span> <span style=\"color: hsl(240 49% 50%)\">jobben</span> <span style=\"color: hsl(240 49% 50%)\">ikke</span> <span style=\"color: hsl(240 49% 50%)\">blir</span> <span style=\"color: hsl(240 50% 50%)\">bare</span> <span style=\"color: hsl(240 49% 50%)\">dagen</span> <span style=\"color: hsl(240 49% 50%)\">som</span> <span style=\"color: hsl(240 49% 50%)\">du</span> <span style=\"color: hsl(240 49% 50%)\">flytter</span> <span style=\"color: hsl(240 49% 50%)\">men</span> <span style=\"color: hsl(240 49% 50%)\">-</span> <span style=\"color: hsl(240 49% 50%)\">fortsetter</span> <span style=\"color: hsl(240 49% 50%)\">dager</span> <span style=\"color: hsl(240 49% 50%)\">,</span> <span style=\"color: hsl(240 49% 50%)\">uker</span> <span style=\"color: hsl(240 49% 50%)\">eller</span> <span style=\"color: hsl(240 49% 50%)\">måneder</span> <span style=\"color: hsl(240 49% 50%)\">etter</span> <span style=\"color: hsl(240 49% 50%)\">at</span> <span style=\"color: hsl(240 49% 50%)\">du</span> <span style=\"color: hsl(240 49% 50%)\">flytet</span> <span style=\"color: hsl(240 49% 50%)\">.</span> <span style=\"color: hsl(240 49% 50%)\">Du</span> <span style=\"color: hsl(240 49% 50%)\">må</span> <span style=\"color: hsl(240 49% 50%)\">sette</span> <span style=\"color: hsl(240 49% 50%)\">alt</span> <span style=\"color: hsl(240 49% 50%)\">på</span> <span style=\"color: hsl(240 49% 50%)\">plass</span> <span style=\"color: hsl(240 49% 50%)\">eller</span> <span style=\"color: hsl(240 49% 50%)\">ordne</span> <span style=\"color: hsl(240 49% 50%)\">mange</span> <span style=\"color: hsl(240 49% 50%)\">ting</span> <span style=\"color: hsl(240 49% 50%)\">som</span> <span style=\"color: hsl(240 49% 50%)\">må</span> <span style=\"color: hsl(240 49% 50%)\">jgøres</span> <span style=\"color: hsl(240 49% 50%)\">.</span> <span style=\"color: hsl(240 49% 50%)\">Og</span> <span style=\"color: hsl(240 49% 50%)\">når</span> <span style=\"color: hsl(240 49% 50%)\">du</span> <span style=\"color: hsl(240 49% 50%)\">kommer</span> <span style=\"color: hsl(240 49% 50%)\">et</span> <span style=\"color: hsl(240 49% 50%)\">land</span> <span style=\"color: hsl(240 49% 50%)\">eller</span> <span style=\"color: hsl(240 49% 50%)\">et</span> <span style=\"color: hsl(240 49% 50%)\">sted</span> <span style=\"color: hsl(240 49% 50%)\">som</span> <span style=\"color: hsl(240 49% 50%)\">bor</span> <span style=\"color: hsl(240 49% 50%)\">folk</span> <span style=\"color: hsl(240 49% 50%)\">som</span> <span style=\"color: hsl(240 49% 50%)\">har</span> <span style=\"color: hsl(240 49% 50%)\">en</span> <span style=\"color: hsl(240 49% 50%)\">ennen</span> <span style=\"color: hsl(240 49% 50%)\">kultur</span> <span style=\"color: hsl(240 49% 50%)\">enn</span> <span style=\"color: hsl(240 49% 50%)\">du</span> <span style=\"color: hsl(240 49% 50%)\">har</span> <span style=\"color: hsl(240 49% 50%)\">er</span> <span style=\"color: hsl(240 49% 50%)\">det</span> <span style=\"color: hsl(240 49% 50%)\">mest</span> <span style=\"color: hsl(240 49% 50%)\">vanskeligst</span> <span style=\"color: hsl(240 49% 50%)\">av</span> <span style=\"color: hsl(240 48% 50%)\">flyttingen</span> <span style=\"color: hsl(240 49% 50%)\">.</span> <span style=\"color: hsl(240 49% 50%)\">Det</span> <span style=\"color: hsl(240 49% 50%)\">forstår</span> <span style=\"color: hsl(240 49% 50%)\">bare</span> <span style=\"color: hsl(240 49% 50%)\">de</span> <span style=\"color: hsl(240 49% 50%)\">som</span> <span style=\"color: hsl(240 49% 50%)\">har</span> <span style=\"color: hsl(240 49% 50%)\">opplevd</span> <span style=\"color: hsl(240 49% 50%)\">.</span> <span style=\"color: hsl(240 49% 50%)\">Jeg</span> <span style=\"color: hsl(240 49% 50%)\">har</span> <span style=\"color: hsl(240 49% 50%)\">selv</span> <span style=\"color: hsl(240 49% 50%)\">opplevd</span> <span style=\"color: hsl(240 49% 50%)\">men</span> <span style=\"color: hsl(240 49% 50%)\">nå</span> <span style=\"color: hsl(240 49% 50%)\">går</span> <span style=\"color: hsl(240 49% 50%)\">det</span> <span style=\"color: hsl(240 49% 50%)\">bra</span> <span style=\"color: hsl(240 49% 50%)\">.</span>"
      ],
      "text/plain": [
       "<IPython.core.display.HTML object>"
      ]
     },
     "metadata": {},
     "output_type": "display_data"
    }
   ],
   "source": [
    "file_with_attention(DATA_DIR / 'txt' / 's0546.txt', attention_model, w2i)"
   ]
  },
  {
   "cell_type": "code",
   "execution_count": null,
   "metadata": {
    "collapsed": true
   },
   "outputs": [],
   "source": []
  }
 ],
 "metadata": {
  "kernelspec": {
   "display_name": "Python (master thesis)",
   "language": "python",
   "name": "thesis"
  },
  "language_info": {
   "codemirror_mode": {
    "name": "ipython",
    "version": 3
   },
   "file_extension": ".py",
   "mimetype": "text/x-python",
   "name": "python",
   "nbconvert_exporter": "python",
   "pygments_lexer": "ipython3",
   "version": "3.5.6"
  }
 },
 "nbformat": 4,
 "nbformat_minor": 2
}
