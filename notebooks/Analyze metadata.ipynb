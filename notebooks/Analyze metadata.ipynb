{
 "cells": [
  {
   "cell_type": "code",
   "execution_count": 1,
   "metadata": {},
   "outputs": [],
   "source": [
    "%matplotlib inline\n",
    "\n",
    "from collections import Counter\n",
    "\n",
    "import pandas as pd\n",
    "import matplotlib.pyplot as plt\n",
    "import numpy as np\n",
    "import seaborn as sns\n",
    "sns.set(context='paper', style='whitegrid')\n",
    "\n",
    "from masterthesis.utils import iso639_3, heatmap, IMG_DIR"
   ]
  },
  {
   "cell_type": "code",
   "execution_count": 2,
   "metadata": {},
   "outputs": [
    {
     "name": "stdout",
     "output_type": "stream",
     "text": [
      "1936 documents total\n",
      "769881 tokens total\n",
      "1736 non-Norwegian L1 documents\n",
      "688948 tokens total\n",
      "1212 documents with CEFR score\n",
      "486743 tokens total\n"
     ]
    }
   ],
   "source": [
    "df = pd.read_csv('../ASK/metadata.csv')\n",
    "print('%d documents total' % len(df))\n",
    "print('%d tokens total' % df.num_tokens.sum())\n",
    "df = df[~df.lang.isin(['nynorsk', 'bokmål'])]\n",
    "print('%d non-Norwegian L1 documents' % len(df))\n",
    "print('%d tokens total' % df.num_tokens.sum())\n",
    "df = df[~df.cefr.isnull()]\n",
    "print('%d documents with CEFR score' % len(df))\n",
    "print('%d tokens total' % df.num_tokens.sum())\n",
    "df.testlevel.replace(['Språkprøven', 'Høyere nivå'], ['IL test', 'AL test'], inplace=True)"
   ]
  },
  {
   "cell_type": "code",
   "execution_count": 3,
   "metadata": {},
   "outputs": [
    {
     "data": {
      "image/png": "[encoded data removed]",
      "text/plain": [
       "<Figure size 216x216 with 1 Axes>"
      ]
     },
     "metadata": {
      "needs_background": "light"
     },
     "output_type": "display_data"
    }
   ],
   "source": [
    "counts = df.groupby(['lang', 'cefr']).size().unstack(fill_value=0)\n",
    "\n",
    "ax = sns.heatmap(counts, annot=True, fmt='d', square=True, cbar=False)\n",
    "ax.set_yticklabels([iso639_3[l] for l in counts.index], rotation=0)\n",
    "\n",
    "plt.gcf().set_size_inches(3,3)\n",
    "plt.ylabel('Native language')\n",
    "plt.xlabel('CEFR proficiency')\n",
    "plt.setp(ax.get_xticklabels(), rotation=30)\n",
    "# plt.savefig(str(IMG_DIR / 'lang_vs_cefr.pdf'), bbox_inches='tight')\n",
    "\n",
    "plt.show()"
   ]
  },
  {
   "cell_type": "code",
   "execution_count": 4,
   "metadata": {},
   "outputs": [
    {
     "data": {
      "text/html": [
       "<div>\n",
       "<style scoped>\n",
       "    .dataframe tbody tr th:only-of-type {\n",
       "        vertical-align: middle;\n",
       "    }\n",
       "\n",
       "    .dataframe tbody tr th {\n",
       "        vertical-align: top;\n",
       "    }\n",
       "\n",
       "    .dataframe thead th {\n",
       "        text-align: right;\n",
       "    }\n",
       "</style>\n",
       "<table border=\"1\" class=\"dataframe\">\n",
       "  <thead>\n",
       "    <tr style=\"text-align: right;\">\n",
       "      <th>L1</th>\n",
       "      <th>eng</th>\n",
       "      <th>pol</th>\n",
       "      <th>rus</th>\n",
       "      <th>som</th>\n",
       "      <th>spa</th>\n",
       "      <th>deu</th>\n",
       "      <th>vie</th>\n",
       "    </tr>\n",
       "    <tr>\n",
       "      <th>Test level</th>\n",
       "      <th></th>\n",
       "      <th></th>\n",
       "      <th></th>\n",
       "      <th></th>\n",
       "      <th></th>\n",
       "      <th></th>\n",
       "      <th></th>\n",
       "    </tr>\n",
       "  </thead>\n",
       "  <tbody>\n",
       "    <tr>\n",
       "      <th>AL test</th>\n",
       "      <td>100</td>\n",
       "      <td>100</td>\n",
       "      <td>100</td>\n",
       "      <td>7</td>\n",
       "      <td>100</td>\n",
       "      <td>100</td>\n",
       "      <td>5</td>\n",
       "    </tr>\n",
       "    <tr>\n",
       "      <th>IL test</th>\n",
       "      <td>100</td>\n",
       "      <td>100</td>\n",
       "      <td>100</td>\n",
       "      <td>100</td>\n",
       "      <td>100</td>\n",
       "      <td>100</td>\n",
       "      <td>100</td>\n",
       "    </tr>\n",
       "  </tbody>\n",
       "</table>\n",
       "</div>"
      ],
      "text/plain": [
       "L1          eng  pol  rus  som  spa  deu  vie\n",
       "Test level                                   \n",
       "AL test     100  100  100    7  100  100    5\n",
       "IL test     100  100  100  100  100  100  100"
      ]
     },
     "execution_count": 4,
     "metadata": {},
     "output_type": "execute_result"
    }
   ],
   "source": [
    "counts = df.groupby(['testlevel', 'lang']).size().unstack(fill_value=0)\n",
    "counts.columns = [iso639_3[l] for l in counts.columns]\n",
    "counts.columns.name = 'L1'\n",
    "counts.index.name = 'Test level'\n",
    "counts"
   ]
  },
  {
   "cell_type": "code",
   "execution_count": 5,
   "metadata": {},
   "outputs": [
    {
     "data": {
      "image/png": "[encoded data removed]",
      "text/plain": [
       "<Figure size 432x288 with 2 Axes>"
      ]
     },
     "metadata": {
      "needs_background": "light"
     },
     "output_type": "display_data"
    }
   ],
   "source": [
    "counts = df.groupby(['testlevel', 'cefr']).size().unstack(fill_value=0)\n",
    "\n",
    "sns.heatmap(data=counts, annot=True, square=True, fmt='d')\n",
    "\n",
    "plt.ylabel('Test level')\n",
    "plt.xlabel('CEFR proficiency');"
   ]
  },
  {
   "cell_type": "code",
   "execution_count": 6,
   "metadata": {},
   "outputs": [
    {
     "data": {
      "image/png": "[encoded data removed]",
      "text/plain": [
       "<Figure size 432x288 with 1 Axes>"
      ]
     },
     "metadata": {
      "needs_background": "light"
     },
     "output_type": "display_data"
    }
   ],
   "source": [
    "width = 0.4\n",
    "xs = np.arange(len(counts.columns))\n",
    "plt.bar(xs, counts.iloc[0], width=width, label=counts.index[0])\n",
    "plt.bar(xs + width, counts.iloc[1], width=width, label=counts.index[1])\n",
    "plt.xticks(xs + (width / 2), counts.columns)\n",
    "plt.ylabel(\"Number of texts\")\n",
    "plt.xlabel(\"CEFR proficiency\")\n",
    "plt.legend();"
   ]
  },
  {
   "cell_type": "code",
   "execution_count": 35,
   "metadata": {},
   "outputs": [
    {
     "data": {
      "image/png": "[encoded data removed]",
      "text/plain": [
       "<Figure size 360x216 with 2 Axes>"
      ]
     },
     "metadata": {
      "needs_background": "light"
     },
     "output_type": "display_data"
    }
   ],
   "source": [
    "groups = df.groupby('testlevel')\n",
    "fig, axes = plt.subplots(1, 2)\n",
    "fig.set_size_inches(5, 3)\n",
    "    \n",
    "columns = ['A2', 'A2/B1', 'B1', 'B1/B2', 'B2', 'B2/C1', 'C1']\n",
    "\n",
    "for testlevel, group in groups:\n",
    "    if testlevel == 'IL test':\n",
    "        ax = axes[0]\n",
    "    else:\n",
    "        ax = axes[1]\n",
    "    counts = group.groupby(['lang', 'cefr']).size().unstack(fill_value=0)\n",
    "    for col in columns:\n",
    "        if col not in counts.columns:\n",
    "            counts[col] = 0\n",
    "    counts = counts[columns]\n",
    "\n",
    "    sns.heatmap(counts, annot=True, ax=ax, cbar=False, square=True)\n",
    "    ax.set_yticklabels([iso639_3[l] for l in counts.index], rotation=0)\n",
    "    plt.setp(ax.get_xticklabels(), rotation=90, verticalalignment='top')\n",
    "    ax.set_title(testlevel)\n",
    "\n",
    "axes[0].set_ylabel('Native language')\n",
    "axes[0].set_xlabel('CEFR score')\n",
    "axes[1].set_xlabel('CEFR score')\n",
    "axes[1].set_ylabel('')\n",
    "plt.tight_layout()\n",
    "# plt.savefig(str(IMG_DIR / 'testlevel_lang_vs_cefr.pdf'), bbox_inches='tight')\n",
    "plt.show()"
   ]
  },
  {
   "cell_type": "code",
   "execution_count": 8,
   "metadata": {},
   "outputs": [
    {
     "name": "stdout",
     "output_type": "stream",
     "text": [
      "\\begin{tabular}{lrrr}\n",
      "\\toprule\n",
      "testlevel &  AL test &  IL test &  total \\\\\n",
      "topic                     &          &          &        \\\\\n",
      "\\midrule\n",
      "telefon                   &       37 &       64 &    101 \\\\\n",
      "bolig                     &        0 &       83 &     83 \\\\\n",
      "familie helse vekt        &       59 &        0 &     59 \\\\\n",
      "tid                       &        2 &       51 &     53 \\\\\n",
      "natur norge               &        0 &       48 &     48 \\\\\n",
      "folk relasjoner vennskap  &        0 &       45 &     45 \\\\\n",
      "tradisjoner flytting      &        0 &       38 &     38 \\\\\n",
      "barn                      &        3 &       32 &     35 \\\\\n",
      "kultur norge              &        0 &       34 &     34 \\\\\n",
      "media                     &        0 &       31 &     31 \\\\\n",
      "\\bottomrule\n",
      "\\end{tabular}\n",
      "\n"
     ]
    }
   ],
   "source": [
    "topic_and_level = df.groupby(['topic', 'testlevel']).size().unstack(fill_value=0)\n",
    "topic_and_level['total'] = topic_and_level.sum(axis=1)\n",
    "print(topic_and_level.sort_values('total', ascending=False).head(10).to_latex())"
   ]
  },
  {
   "cell_type": "code",
   "execution_count": 9,
   "metadata": {},
   "outputs": [
    {
     "name": "stdout",
     "output_type": "stream",
     "text": [
      "=== AL test ===\n",
      "Number of topics in test level: 52\n",
      "Number of texts in group: 512\n",
      "Number of texts per topic in test level:\n",
      "median: 5.000000\n",
      "mean: 9.846154\n",
      "=== IL test ===\n",
      "Number of topics in test level: 38\n",
      "Number of texts in group: 700\n",
      "Number of texts per topic in test level:\n",
      "median: 11.000000\n",
      "mean: 18.421053\n"
     ]
    }
   ],
   "source": [
    "for name, group in df.groupby('testlevel'):\n",
    "    print('=== ' + name + ' ===')\n",
    "    print('Number of topics in test level: %d' % len(group.topic.unique()))\n",
    "    print('Number of texts in group: %d' % len(group))\n",
    "    print('Number of texts per topic in test level:')\n",
    "    topic_counts = group.groupby('topic')\n",
    "    print('median: %f' % topic_counts.size().median())\n",
    "    print('mean: %f' % topic_counts.size().mean())"
   ]
  },
  {
   "cell_type": "code",
   "execution_count": 10,
   "metadata": {},
   "outputs": [
    {
     "name": "stdout",
     "output_type": "stream",
     "text": [
      "['arbeid', 'barn', 'befolkning', 'bil', 'biografi', 'bok', 'bolig', 'dikt', 'død', 'eldre', 'familie', 'film', 'flytting', 'folk', 'følelser', 'geografi', 'handel', 'helse', 'holdning', 'humor', 'idrett', 'idrett/sport', 'innvandring', 'interesse', 'kjønn', 'klima', 'konkurranse', 'kultur', 'litteratur', 'media', 'miljø', 'musikk', 'møte', 'natur', 'norge', 'opplevelse', 'organ', 'organisasjon', 'personer', 'politikk', 'reise', 'relasjoner', 'religion', 'rus', 'røyking', 'samfunn', 'skole', 'språk', 'styreform', 'telefon', 'tid', 'tradisjoner', 'trafikk', 'tv', 'utdannelse', 'valg', 'vekt', 'venner', 'vennskap', 'verdier', 'yrke', 'økonomi']\n",
      "62\n"
     ]
    }
   ],
   "source": [
    "topics = set()\n",
    "for topic in df.topic:\n",
    "    topics.update(topic.split())\n",
    "print(sorted(topics))\n",
    "print(len(topics))"
   ]
  },
  {
   "cell_type": "code",
   "execution_count": 11,
   "metadata": {},
   "outputs": [
    {
     "name": "stdout",
     "output_type": "stream",
     "text": [
      "Counter({'bolig': 140, 'familie': 120, 'litteratur': 117, 'norge': 101, 'telefon': 101, 'folk': 95, 'helse': 88, 'kultur': 79, 'arbeid': 71, 'barn': 67, 'trafikk': 63, 'vekt': 59, 'tid': 53, 'dikt': 52, 'økonomi': 50, 'yrke': 49, 'natur': 48, 'utdannelse': 46, 'vennskap': 45, 'relasjoner': 45, 'bok': 44, 'flytting': 40, 'media': 40, 'tradisjoner': 38, 'innvandring': 34, 'kjønn': 31, 'verdier': 30, 'bil': 30, 'biografi': 28, 'språk': 26, 'geografi': 25, 'idrett/sport': 25, 'politikk': 24, 'tv': 21, 'holdning': 20, 'miljø': 18, 'venner': 18, 'klima': 16, 'valg': 15, 'møte': 14, 'religion': 13, 'reise': 12, 'død': 12, 'befolkning': 9, 'opplevelse': 9, 'handel': 8, 'organisasjon': 8, 'rus': 7, 'eldre': 6, 'konkurranse': 5, 'samfunn': 5, 'følelser': 5, 'musikk': 5, 'organ': 5, 'humor': 4, 'røyking': 3, 'idrett': 3, 'interesse': 3, 'styreform': 3, 'skole': 3, 'personer': 2, 'film': 2})\n"
     ]
    }
   ],
   "source": [
    "topic_freqs = Counter()\n",
    "for topic in df.topic:\n",
    "    topic_freqs.update(topic.split())\n",
    "print(topic_freqs)"
   ]
  },
  {
   "cell_type": "code",
   "execution_count": 12,
   "metadata": {},
   "outputs": [
    {
     "name": "stdout",
     "output_type": "stream",
     "text": [
      "count    34.806452\n",
      "dtype: float64\n",
      "count    25.0\n",
      "dtype: float64\n"
     ]
    },
    {
     "data": {
      "text/html": [
       "<div>\n",
       "<style scoped>\n",
       "    .dataframe tbody tr th:only-of-type {\n",
       "        vertical-align: middle;\n",
       "    }\n",
       "\n",
       "    .dataframe tbody tr th {\n",
       "        vertical-align: top;\n",
       "    }\n",
       "\n",
       "    .dataframe thead th {\n",
       "        text-align: right;\n",
       "    }\n",
       "</style>\n",
       "<table border=\"1\" class=\"dataframe\">\n",
       "  <thead>\n",
       "    <tr style=\"text-align: right;\">\n",
       "      <th></th>\n",
       "      <th>topic</th>\n",
       "      <th>count</th>\n",
       "    </tr>\n",
       "  </thead>\n",
       "  <tbody>\n",
       "    <tr>\n",
       "      <th>0</th>\n",
       "      <td>bolig</td>\n",
       "      <td>140</td>\n",
       "    </tr>\n",
       "    <tr>\n",
       "      <th>1</th>\n",
       "      <td>familie</td>\n",
       "      <td>120</td>\n",
       "    </tr>\n",
       "    <tr>\n",
       "      <th>2</th>\n",
       "      <td>litteratur</td>\n",
       "      <td>117</td>\n",
       "    </tr>\n",
       "    <tr>\n",
       "      <th>3</th>\n",
       "      <td>norge</td>\n",
       "      <td>101</td>\n",
       "    </tr>\n",
       "    <tr>\n",
       "      <th>4</th>\n",
       "      <td>telefon</td>\n",
       "      <td>101</td>\n",
       "    </tr>\n",
       "  </tbody>\n",
       "</table>\n",
       "</div>"
      ],
      "text/plain": [
       "        topic  count\n",
       "0       bolig    140\n",
       "1     familie    120\n",
       "2  litteratur    117\n",
       "3       norge    101\n",
       "4     telefon    101"
      ]
     },
     "execution_count": 12,
     "metadata": {},
     "output_type": "execute_result"
    }
   ],
   "source": [
    "print(pd.DataFrame(topic_freqs.most_common(), columns=['topic', 'count']).mean())\n",
    "print(pd.DataFrame(topic_freqs.most_common(), columns=['topic', 'count']).median())\n",
    "pd.DataFrame(topic_freqs.most_common(), columns=['topic', 'count']).head()"
   ]
  },
  {
   "cell_type": "code",
   "execution_count": 13,
   "metadata": {},
   "outputs": [
    {
     "data": {
      "image/png": "[encoded data removed]",
      "text/plain": [
       "<Figure size 216x144 with 1 Axes>"
      ]
     },
     "metadata": {
      "needs_background": "light"
     },
     "output_type": "display_data"
    }
   ],
   "source": [
    "with sns.plotting_context('paper'):\n",
    "    sns.boxplot(x='num_tokens', y='testlevel', data=df)\n",
    "    plt.gcf().set_size_inches(3, 2)"
   ]
  },
  {
   "cell_type": "code",
   "execution_count": 14,
   "metadata": {},
   "outputs": [
    {
     "data": {
      "text/plain": [
       "[None]"
      ]
     },
     "execution_count": 14,
     "metadata": {},
     "output_type": "execute_result"
    },
    {
     "data": {
      "image/png": "[encoded data removed]",
      "text/plain": [
       "<Figure size 360x216 with 1 Axes>"
      ]
     },
     "metadata": {
      "needs_background": "light"
     },
     "output_type": "display_data"
    }
   ],
   "source": [
    "order = sorted(df.cefr.unique())\n",
    "plt.gcf().set_size_inches(5, 3)\n",
    "ax = sns.boxplot(x='cefr', y='num_tokens', hue='testlevel', data=df,\n",
    "                 order=order, hue_order=['IL test', 'AL test'], width=.7)\n",
    "ax.set(label='Test Level', ylabel='Number of tokens', xlabel='CEFR score')\n",
    "ax.get_legend().set(title='Test level')\n",
    "# plt.savefig(str(IMG_DIR / 'testlevel_lengths_per_cefr.pdf'), bbox_inches='tight')"
   ]
  },
  {
   "cell_type": "code",
   "execution_count": null,
   "metadata": {},
   "outputs": [],
   "source": []
  }
 ],
 "metadata": {
  "kernelspec": {
   "display_name": "Python (master thesis)",
   "language": "python",
   "name": "masterthesis"
  },
  "language_info": {
   "codemirror_mode": {
    "name": "ipython",
    "version": 3
   },
   "file_extension": ".py",
   "mimetype": "text/x-python",
   "name": "python",
   "nbconvert_exporter": "python",
   "pygments_lexer": "ipython3",
   "version": "3.5.2"
  }
 },
 "nbformat": 4,
 "nbformat_minor": 2
}
