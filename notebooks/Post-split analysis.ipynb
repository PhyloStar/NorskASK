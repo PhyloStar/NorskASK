{
 "cells": [
  {
   "cell_type": "code",
   "execution_count": 1,
   "metadata": {},
   "outputs": [],
   "source": [
    "%load_ext autoreload\n",
    "%autoreload 2"
   ]
  },
  {
   "cell_type": "code",
   "execution_count": 2,
   "metadata": {},
   "outputs": [],
   "source": [
    "import pandas as pd\n",
    "import matplotlib.pyplot as plt\n",
    "\n",
    "from masterthesis.utils import load_split, round_cefr_score\n",
    "from masterthesis.models.report import report"
   ]
  },
  {
   "cell_type": "code",
   "execution_count": 3,
   "metadata": {},
   "outputs": [],
   "source": [
    "train = load_split('train')\n",
    "dev = load_split('dev')\n",
    "data = pd.concat([train, dev])"
   ]
  },
  {
   "cell_type": "code",
   "execution_count": 4,
   "metadata": {},
   "outputs": [
    {
     "data": {
      "image/png": "[encoded data removed]",
      "text/plain": [
       "<Figure size 432x288 with 1 Axes>"
      ]
     },
     "metadata": {
      "needs_background": "light"
     },
     "output_type": "display_data"
    }
   ],
   "source": [
    "column = 'testlevel'\n",
    "labels = data[column].unique()\n",
    "vals = [data[data[column] == l].age for l in labels]\n",
    "plt.hist(vals, density=True);"
   ]
  },
  {
   "cell_type": "code",
   "execution_count": 5,
   "metadata": {},
   "outputs": [
    {
     "data": {
      "image/png": "[encoded data removed]",
      "text/plain": [
       "<Figure size 432x288 with 1 Axes>"
      ]
     },
     "metadata": {
      "needs_background": "light"
     },
     "output_type": "display_data"
    }
   ],
   "source": [
    "column = 'cefr'\n",
    "labels = data[column].unique()\n",
    "vals = [data[data[column] == l].age for l in labels]\n",
    "plt.hist(vals, density=True);"
   ]
  },
  {
   "cell_type": "code",
   "execution_count": 6,
   "metadata": {},
   "outputs": [
    {
     "data": {
      "image/png": "[encoded data removed]",
      "text/plain": [
       "<Figure size 432x288 with 1 Axes>"
      ]
     },
     "metadata": {
      "needs_background": "light"
     },
     "output_type": "display_data"
    }
   ],
   "source": [
    "column = 'testlevel'\n",
    "labels = data[column].unique()\n",
    "vals = [data[data[column] == l].num_tokens for l in labels]\n",
    "plt.hist(vals, density=True);"
   ]
  },
  {
   "cell_type": "code",
   "execution_count": 7,
   "metadata": {},
   "outputs": [
    {
     "data": {
      "text/plain": [
       "[\"'Import' av helsepersonell\",\n",
       " 'Adopsjon',\n",
       " 'Alkohol og alkoholvaner',\n",
       " 'Barn og fysiske aktiviteter',\n",
       " 'Barndom og voksenverden',\n",
       " 'Barneoppdragelse',\n",
       " 'Bestselgere og bokbransjen',\n",
       " 'Bilbruk',\n",
       " 'Bilisme',\n",
       " 'Boformer',\n",
       " 'Bolig og bosted',\n",
       " 'Bolig og boutgifter',\n",
       " 'Bomiljø',\n",
       " 'Borgerlønn',\n",
       " 'Bruk av musikk',\n",
       " 'Den gode skolen',\n",
       " 'Den lille forskjellen',\n",
       " 'Den norske naturen',\n",
       " 'Det norske monarkiet',\n",
       " \"Diktet 'Det er langt mellom venner' av Kolbjørn Falkeid\",\n",
       " \"Diktet 'Et møte' av Kolbein Falkeid\",\n",
       " \"Diktet 'Ingen ting' av Paulus Utsi om språk\",\n",
       " \"Diktet 'Mayday' av Lars Saabye Christensen\",\n",
       " \"Diktet 'Privat huskeregel' av Kolbjørn Falkeid\",\n",
       " \"Diktet 'Sannheten' av Rolf Jacobsen\",\n",
       " \"Diktet 'Synsvinkel' av Gunnar Øi\",\n",
       " \"Diktet 'Toleranse'\",\n",
       " 'Eldrebølgen',\n",
       " 'En bok fra din kultur eller ditt hjemland',\n",
       " 'En forfatter og om en bok han/ hun har skrevet',\n",
       " 'En hyggelig opplevelse',\n",
       " 'En interesse du har',\n",
       " 'En kjent person',\n",
       " 'En person som har betydd mye for deg',\n",
       " 'Enpersons-husholdninger',\n",
       " 'Et dikt av Einar Skjæraasen',\n",
       " 'Familie og karriere',\n",
       " 'Familieliv og yrkesliv',\n",
       " 'Fjernsynsprogram for barn',\n",
       " 'Flytting',\n",
       " 'Folk reiser så mye i våre dager',\n",
       " 'Framtida',\n",
       " 'Fremmedspråkslæring',\n",
       " 'Frihet og ansvar',\n",
       " 'Frivillig hjelp i organisasjoner',\n",
       " 'Fødselstall og befolkningssammensetning',\n",
       " 'Før og nå',\n",
       " 'Gjenbruk',\n",
       " 'Gjennomsnittsvekten øker',\n",
       " 'Helse og livskvalitet',\n",
       " 'Hva er en god film',\n",
       " 'Import av utenlandsk arbeidskraft',\n",
       " 'Klimaendringene',\n",
       " 'Kommunevalget i Norge',\n",
       " 'Konkurranse',\n",
       " 'Kultur og idrett',\n",
       " 'Kvinner i topposisjoner',\n",
       " 'Lederegenskaper',\n",
       " 'Leselyst',\n",
       " 'Likestilling',\n",
       " 'Likestilling mellom kjønnene',\n",
       " 'Livslang læring',\n",
       " 'Lærerlønn',\n",
       " 'Miljøvern',\n",
       " 'Min første jobb',\n",
       " 'Mobiltelefon',\n",
       " 'Mobiltelefonen',\n",
       " 'Mobiltelefoner',\n",
       " 'Møte med norsk kultur',\n",
       " 'Netthandel',\n",
       " 'Nyheter',\n",
       " 'Nærmiljø og lokalsamfunn',\n",
       " 'Praktisk og teoretisk utdanning',\n",
       " 'Private skoler',\n",
       " 'Røyking',\n",
       " 'Sangtradisjon',\n",
       " 'Sunnhet og helse',\n",
       " 'Tanker om det å bli gammel',\n",
       " 'Trafikk og boligområder',\n",
       " 'Trafikkdøden',\n",
       " 'Tusenårsskiftet',\n",
       " 'Vaner og tradisjoner å ta vare på når du flytter',\n",
       " 'Vaner og tradisjoner å ta vare på når du flytter - Bomiljø - Konkurranse',\n",
       " 'Vennskap',\n",
       " 'Verdikommisjonen',\n",
       " 'Viktige verdier i livet',\n",
       " 'Å treffe andre mennesker',\n",
       " 'Å være kjendis']"
      ]
     },
     "execution_count": 7,
     "metadata": {},
     "output_type": "execute_result"
    }
   ],
   "source": [
    "sorted(data.title.unique())"
   ]
  },
  {
   "cell_type": "code",
   "execution_count": 8,
   "metadata": {},
   "outputs": [],
   "source": [
    "from sklearn.linear_model import LogisticRegression\n",
    "from sklearn.preprocessing import StandardScaler\n",
    "from sklearn.metrics import classification_report, accuracy_score, f1_score\n",
    "import numpy as np"
   ]
  },
  {
   "cell_type": "code",
   "execution_count": 9,
   "metadata": {},
   "outputs": [
    {
     "name": "stderr",
     "output_type": "stream",
     "text": [
      "/home/stig/master-thesis/venv/lib/python3.5/site-packages/sklearn/utils/validation.py:475: DataConversionWarning: Data with input dtype int64 was converted to float64 by StandardScaler.\n",
      "  warnings.warn(msg, DataConversionWarning)\n"
     ]
    }
   ],
   "source": [
    "scaler = StandardScaler()\n",
    "train_x = scaler.fit_transform(train.num_tokens.values.reshape(-1, 1))\n",
    "dev_x = scaler.transform(dev.num_tokens.values.reshape(-1, 1))"
   ]
  },
  {
   "cell_type": "code",
   "execution_count": 10,
   "metadata": {},
   "outputs": [
    {
     "name": "stdout",
     "output_type": "stream",
     "text": [
      "Macro f1: 0.149\n",
      "Weighted f1: 0.256\n",
      "Accuracy: 0.390\n",
      "             precision    recall  f1-score   support\n",
      "\n",
      "         A2       0.00      0.00      0.00         1\n",
      "      A2/B1       0.00      0.00      0.00        22\n",
      "         B1       0.28      0.85      0.42        20\n",
      "      B1/B2       0.00      0.00      0.00        30\n",
      "         B2       0.49      0.84      0.62        37\n",
      "      B2/C1       0.00      0.00      0.00        10\n",
      "         C1       0.00      0.00      0.00         3\n",
      "\n",
      "avg / total       0.19      0.39      0.26       123\n",
      "\n"
     ]
    },
    {
     "name": "stderr",
     "output_type": "stream",
     "text": [
      "/home/stig/master-thesis/venv/lib/python3.5/site-packages/sklearn/metrics/classification.py:1135: UndefinedMetricWarning: F-score is ill-defined and being set to 0.0 in labels with no predicted samples.\n",
      "  'precision', 'predicted', average, warn_for)\n",
      "/home/stig/master-thesis/venv/lib/python3.5/site-packages/sklearn/metrics/classification.py:1135: UndefinedMetricWarning: Precision and F-score are ill-defined and being set to 0.0 in labels with no predicted samples.\n",
      "  'precision', 'predicted', average, warn_for)\n"
     ]
    }
   ],
   "source": [
    "clf = LogisticRegression()\n",
    "clf.fit(train_x, train.cefr)\n",
    "pred = clf.predict(dev_x)\n",
    "print(\"Macro f1: %.3f\" % f1_score(dev.cefr, pred, average='macro'))\n",
    "print(\"Weighted f1: %.3f\" % f1_score(dev.cefr, pred, average='weighted'))\n",
    "print(\"Accuracy: %.3f\" % accuracy_score(dev.cefr, pred))\n",
    "print(classification_report(dev.cefr, pred))"
   ]
  },
  {
   "cell_type": "code",
   "execution_count": 11,
   "metadata": {},
   "outputs": [
    {
     "data": {
      "text/plain": [
       "array(['B2'], dtype=object)"
      ]
     },
     "execution_count": 11,
     "metadata": {},
     "output_type": "execute_result"
    }
   ],
   "source": [
    "clf.predict([[5]])"
   ]
  },
  {
   "cell_type": "code",
   "execution_count": 12,
   "metadata": {},
   "outputs": [],
   "source": [
    "train['collapsed'] = [round_cefr_score(s) for s in train.cefr]\n",
    "dev['collapsed'] = [round_cefr_score(s) for s in dev.cefr]"
   ]
  },
  {
   "cell_type": "code",
   "execution_count": 13,
   "metadata": {},
   "outputs": [
    {
     "name": "stdout",
     "output_type": "stream",
     "text": [
      "             precision    recall  f1-score   support\n",
      "\n",
      "         A2       0.00      0.00      0.00         1\n",
      "      A2/B1       0.00      0.00      0.00        22\n",
      "         B1       0.16      1.00      0.28        20\n",
      "      B1/B2       0.00      0.00      0.00        30\n",
      "         B2       0.00      0.00      0.00        37\n",
      "      B2/C1       0.00      0.00      0.00        10\n",
      "         C1       0.00      0.00      0.00         3\n",
      "\n",
      "avg / total       0.03      0.16      0.05       123\n",
      "\n",
      "Accuracy: 0.163\n",
      "Macro F1: 0.040\n",
      "Micro F1: 0.163\n",
      "Weighted F1: 0.045\n",
      "== Confusion matrix ==\n",
      "[[ 0  0  1  0  0  0  0]\n",
      " [ 0  0 22  0  0  0  0]\n",
      " [ 0  0 20  0  0  0  0]\n",
      " [ 0  0 30  0  0  0  0]\n",
      " [ 0  0 37  0  0  0  0]\n",
      " [ 0  0 10  0  0  0  0]\n",
      " [ 0  0  3  0  0  0  0]]\n",
      "=== Using collapsed labels ===\n",
      "             precision    recall  f1-score   support\n",
      "\n",
      "         A2       0.00      0.00      0.00         1\n",
      "         B1       0.34      1.00      0.51        42\n",
      "         B2       0.00      0.00      0.00        67\n",
      "         C1       0.00      0.00      0.00        13\n",
      "\n",
      "avg / total       0.12      0.34      0.17       123\n",
      "\n",
      "Accuracy: 0.341\n",
      "Macro f1: 0.127\n",
      "Micro f1: 0.341\n",
      "Weighted f1: 0.174\n",
      "== Confusion matrix ==\n",
      "[[ 0  1  0  0]\n",
      " [ 0 42  0  0]\n",
      " [ 0 67  0  0]\n",
      " [ 0 13  0  0]]\n"
     ]
    },
    {
     "data": {
      "image/png": "[encoded data removed]",
      "text/plain": [
       "<Figure size 432x288 with 2 Axes>"
      ]
     },
     "metadata": {
      "needs_background": "light"
     },
     "output_type": "display_data"
    }
   ],
   "source": [
    "majority_label = train.cefr.value_counts().index[0]\n",
    "pred = [majority_label for __ in dev.cefr]\n",
    "\n",
    "labels = sorted(dev.cefr.unique())\n",
    "report([labels.index(s) for s in dev.cefr],\n",
    "       [labels.index(s) for s in pred],\n",
    "       labels)"
   ]
  },
  {
   "cell_type": "code",
   "execution_count": 14,
   "metadata": {},
   "outputs": [
    {
     "name": "stdout",
     "output_type": "stream",
     "text": [
      "             precision    recall  f1-score   support\n",
      "\n",
      "         A2       0.00      0.00      0.00         1\n",
      "         B1       0.34      1.00      0.51        42\n",
      "         B2       0.00      0.00      0.00        67\n",
      "         C1       0.00      0.00      0.00        13\n",
      "\n",
      "avg / total       0.12      0.34      0.17       123\n",
      "\n",
      "Accuracy: 0.341\n",
      "Macro F1: 0.127\n",
      "Micro F1: 0.341\n",
      "Weighted F1: 0.174\n",
      "== Confusion matrix ==\n",
      "[[ 0  1  0  0]\n",
      " [ 0 42  0  0]\n",
      " [ 0 67  0  0]\n",
      " [ 0 13  0  0]]\n"
     ]
    },
    {
     "data": {
      "image/png": "[encoded data removed]",
      "text/plain": [
       "<Figure size 432x288 with 1 Axes>"
      ]
     },
     "metadata": {
      "needs_background": "light"
     },
     "output_type": "display_data"
    }
   ],
   "source": [
    "majority_label = train.collapsed.value_counts().index[0]\n",
    "pred = [majority_label for __ in dev.collapsed]\n",
    "\n",
    "labels = sorted(dev.collapsed.unique())\n",
    "report([labels.index(s) for s in dev.collapsed],\n",
    "       [labels.index(s) for s in pred],\n",
    "       labels)"
   ]
  },
  {
   "cell_type": "code",
   "execution_count": null,
   "metadata": {},
   "outputs": [],
   "source": []
  }
 ],
 "metadata": {
  "kernelspec": {
   "display_name": "Python (master thesis)",
   "language": "python",
   "name": "masterthesis"
  },
  "language_info": {
   "codemirror_mode": {
    "name": "ipython",
    "version": 3
   },
   "file_extension": ".py",
   "mimetype": "text/x-python",
   "name": "python",
   "nbconvert_exporter": "python",
   "pygments_lexer": "ipython3",
   "version": "3.5.2"
  }
 },
 "nbformat": 4,
 "nbformat_minor": 2
}
