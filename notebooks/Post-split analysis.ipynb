{
 "cells": [
  {
   "cell_type": "code",
   "execution_count": 1,
   "metadata": {
    "collapsed": true
   },
   "outputs": [],
   "source": [
    "%load_ext autoreload\n",
    "%autoreload 2"
   ]
  },
  {
   "cell_type": "code",
   "execution_count": 2,
   "metadata": {
    "collapsed": true
   },
   "outputs": [],
   "source": [
    "import pandas as pd\n",
    "import matplotlib.pyplot as plt\n",
    "\n",
    "from src.utils import load_train_and_dev"
   ]
  },
  {
   "cell_type": "code",
   "execution_count": 3,
   "metadata": {},
   "outputs": [],
   "source": [
    "data = pd.concat(load_train_and_dev('..'))"
   ]
  },
  {
   "cell_type": "code",
   "execution_count": 4,
   "metadata": {},
   "outputs": [
    {
     "data": {
      "image/png": "[encoded data removed]",
      "text/plain": [
       "<Figure size 432x288 with 1 Axes>"
      ]
     },
     "metadata": {
      "needs_background": "light"
     },
     "output_type": "display_data"
    }
   ],
   "source": [
    "column = 'testlevel'\n",
    "labels = data[column].unique()\n",
    "vals = [data[data[column] == l].age for l in labels]\n",
    "plt.hist(vals, density=True);"
   ]
  },
  {
   "cell_type": "code",
   "execution_count": 5,
   "metadata": {},
   "outputs": [
    {
     "data": {
      "image/png": "[encoded data removed]",
      "text/plain": [
       "<Figure size 432x288 with 1 Axes>"
      ]
     },
     "metadata": {
      "needs_background": "light"
     },
     "output_type": "display_data"
    }
   ],
   "source": [
    "column = 'cefr'\n",
    "labels = data[column].unique()\n",
    "vals = [data[data[column] == l].age for l in labels]\n",
    "plt.hist(vals, density=True);"
   ]
  },
  {
   "cell_type": "code",
   "execution_count": 6,
   "metadata": {},
   "outputs": [
    {
     "data": {
      "image/png": "[encoded data removed]",
      "text/plain": [
       "<Figure size 432x288 with 1 Axes>"
      ]
     },
     "metadata": {
      "needs_background": "light"
     },
     "output_type": "display_data"
    }
   ],
   "source": [
    "column = 'testlevel'\n",
    "labels = data[column].unique()\n",
    "vals = [data[data[column] == l].num_tokens for l in labels]\n",
    "plt.hist(vals, density=True);"
   ]
  },
  {
   "cell_type": "code",
   "execution_count": 7,
   "metadata": {},
   "outputs": [
    {
     "data": {
      "text/plain": [
       "[\"'Import' av helsepersonell\",\n",
       " 'Adopsjon',\n",
       " 'Alkohol og alkoholvaner',\n",
       " 'Barn og fysiske aktiviteter',\n",
       " 'Barndom og voksenverden',\n",
       " 'Barneoppdragelse',\n",
       " 'Bestselgere og bokbransjen',\n",
       " 'Bilbruk',\n",
       " 'Bilisme',\n",
       " 'Boformer',\n",
       " 'Bolig og bosted',\n",
       " 'Bolig og boutgifter',\n",
       " 'Bomiljø',\n",
       " 'Borgerlønn',\n",
       " 'Bruk av musikk',\n",
       " 'Den gode skolen',\n",
       " 'Den lille forskjellen',\n",
       " 'Den norske naturen',\n",
       " 'Det norske monarkiet',\n",
       " \"Diktet 'Det er langt mellom venner' av Kolbjørn Falkeid\",\n",
       " \"Diktet 'Et møte' av Kolbein Falkeid\",\n",
       " \"Diktet 'Ingen ting' av Paulus Utsi om språk\",\n",
       " \"Diktet 'Mayday' av Lars Saabye Christensen\",\n",
       " \"Diktet 'Privat huskeregel' av Kolbjørn Falkeid\",\n",
       " \"Diktet 'Sannheten' av Rolf Jacobsen\",\n",
       " \"Diktet 'Synsvinkel' av Gunnar Øi\",\n",
       " \"Diktet 'Toleranse'\",\n",
       " 'Eldrebølgen',\n",
       " 'En bok fra din kultur eller ditt hjemland',\n",
       " 'En forfatter og om en bok han/ hun har skrevet',\n",
       " 'En hyggelig opplevelse',\n",
       " 'En interesse du har',\n",
       " 'En kjent person',\n",
       " 'En person som har betydd mye for deg',\n",
       " 'Enpersons-husholdninger',\n",
       " 'Et dikt av Einar Skjæraasen',\n",
       " 'Familie og karriere',\n",
       " 'Familieliv og yrkesliv',\n",
       " 'Fjernsynsprogram for barn',\n",
       " 'Flytting',\n",
       " 'Folk reiser så mye i våre dager',\n",
       " 'Framtida',\n",
       " 'Fremmedspråkslæring',\n",
       " 'Frihet og ansvar',\n",
       " 'Frivillig hjelp i organisasjoner',\n",
       " 'Fødselstall og befolkningssammensetning',\n",
       " 'Før og nå',\n",
       " 'Gjenbruk',\n",
       " 'Gjennomsnittsvekten øker',\n",
       " 'Helse og livskvalitet',\n",
       " 'Hva er en god film',\n",
       " 'Import av utenlandsk arbeidskraft',\n",
       " 'Klimaendringene',\n",
       " 'Kommunevalget i Norge',\n",
       " 'Konkurranse',\n",
       " 'Kultur og idrett',\n",
       " 'Kvinner i topposisjoner',\n",
       " 'Lederegenskaper',\n",
       " 'Leselyst',\n",
       " 'Likestilling',\n",
       " 'Likestilling mellom kjønnene',\n",
       " 'Livslang læring',\n",
       " 'Lærerlønn',\n",
       " 'Miljøvern',\n",
       " 'Min første jobb',\n",
       " 'Mobiltelefon',\n",
       " 'Mobiltelefonen',\n",
       " 'Mobiltelefoner',\n",
       " 'Møte med norsk kultur',\n",
       " 'Netthandel',\n",
       " 'Nyheter',\n",
       " 'Nærmiljø og lokalsamfunn',\n",
       " 'Praktisk og teoretisk utdanning',\n",
       " 'Private skoler',\n",
       " 'Røyking',\n",
       " 'Sangtradisjon',\n",
       " 'Sunnhet og helse',\n",
       " 'Tanker om det å bli gammel',\n",
       " 'Trafikk og boligområder',\n",
       " 'Trafikkdøden',\n",
       " 'Tusenårsskiftet',\n",
       " 'Vaner og tradisjoner å ta vare på når du flytter',\n",
       " 'Vaner og tradisjoner å ta vare på når du flytter - Bomiljø - Konkurranse',\n",
       " 'Vennskap',\n",
       " 'Verdikommisjonen',\n",
       " 'Viktige verdier i livet',\n",
       " 'Å treffe andre mennesker',\n",
       " 'Å være kjendis']"
      ]
     },
     "execution_count": 7,
     "metadata": {},
     "output_type": "execute_result"
    }
   ],
   "source": [
    "sorted(data.title.unique())"
   ]
  },
  {
   "cell_type": "code",
   "execution_count": null,
   "metadata": {
    "collapsed": true
   },
   "outputs": [],
   "source": []
  }
 ],
 "metadata": {
  "kernelspec": {
   "display_name": "Python (master thesis)",
   "language": "python",
   "name": "thesis"
  },
  "language_info": {
   "codemirror_mode": {
    "name": "ipython",
    "version": 3
   },
   "file_extension": ".py",
   "mimetype": "text/x-python",
   "name": "python",
   "nbconvert_exporter": "python",
   "pygments_lexer": "ipython3",
   "version": "3.5.6"
  }
 },
 "nbformat": 4,
 "nbformat_minor": 2
}
