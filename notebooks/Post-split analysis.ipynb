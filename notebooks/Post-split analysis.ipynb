{
 "cells": [
  {
   "cell_type": "code",
   "execution_count": 1,
   "metadata": {},
   "outputs": [],
   "source": [
    "%load_ext autoreload\n",
    "%autoreload 2"
   ]
  },
  {
   "cell_type": "code",
   "execution_count": 2,
   "metadata": {},
   "outputs": [
    {
     "name": "stderr",
     "output_type": "stream",
     "text": [
      "Using TensorFlow backend.\n"
     ]
    }
   ],
   "source": [
    "from collections import Counter\n",
    "\n",
    "import pandas as pd\n",
    "import matplotlib.pyplot as plt\n",
    "import seaborn as sns\n",
    "sns.set(style='whitegrid', context='paper')\n",
    "\n",
    "from masterthesis.utils import load_split, round_cefr_score, DATA_DIR, CEFR_LABELS, LANG_LABELS, iso639_3, IMG_DIR\n",
    "from masterthesis.models.report import report\n",
    "from masterthesis.features.build_features import iterate_tokens, iterate_mixed_pos_tags, iterate_pos_tags"
   ]
  },
  {
   "cell_type": "code",
   "execution_count": 3,
   "metadata": {},
   "outputs": [],
   "source": [
    "train = load_split('train')\n",
    "dev = load_split('dev')\n",
    "test = load_split('test')\n",
    "data = pd.concat([train, dev])"
   ]
  },
  {
   "cell_type": "code",
   "execution_count": 4,
   "metadata": {},
   "outputs": [
    {
     "data": {
      "image/png": "[encoded data removed]",
      "text/plain": [
       "<Figure size 432x288 with 1 Axes>"
      ]
     },
     "metadata": {
      "needs_background": "light"
     },
     "output_type": "display_data"
    }
   ],
   "source": [
    "column = 'testlevel'\n",
    "labels = data[column].unique()\n",
    "vals = [data[data[column] == l].age for l in labels]\n",
    "plt.hist(vals, density=True);"
   ]
  },
  {
   "cell_type": "code",
   "execution_count": 5,
   "metadata": {},
   "outputs": [
    {
     "data": {
      "image/png": "[encoded data removed]",
      "text/plain": [
       "<Figure size 432x288 with 1 Axes>"
      ]
     },
     "metadata": {
      "needs_background": "light"
     },
     "output_type": "display_data"
    }
   ],
   "source": [
    "column = 'cefr'\n",
    "labels = data[column].unique()\n",
    "vals = [data[data[column] == l].age for l in labels]\n",
    "plt.hist(vals, density=True);"
   ]
  },
  {
   "cell_type": "code",
   "execution_count": 6,
   "metadata": {},
   "outputs": [
    {
     "data": {
      "image/png": "[encoded data removed]",
      "text/plain": [
       "<Figure size 432x288 with 1 Axes>"
      ]
     },
     "metadata": {
      "needs_background": "light"
     },
     "output_type": "display_data"
    }
   ],
   "source": [
    "column = 'testlevel'\n",
    "labels = data[column].unique()\n",
    "vals = [data[data[column] == l].num_tokens for l in labels]\n",
    "plt.hist(vals, density=True);"
   ]
  },
  {
   "cell_type": "code",
   "execution_count": 7,
   "metadata": {},
   "outputs": [
    {
     "data": {
      "text/plain": [
       "[\"'Import' av helsepersonell\",\n",
       " 'Adopsjon',\n",
       " 'Alkohol og alkoholvaner',\n",
       " 'Barn og fysiske aktiviteter',\n",
       " 'Barndom og voksenverden',\n",
       " 'Barneoppdragelse',\n",
       " 'Bestselgere og bokbransjen',\n",
       " 'Bilbruk',\n",
       " 'Bilisme',\n",
       " 'Boformer',\n",
       " 'Bolig og bosted',\n",
       " 'Bolig og boutgifter',\n",
       " 'Bomiljø',\n",
       " 'Borgerlønn',\n",
       " 'Bruk av musikk',\n",
       " 'Den gode skolen',\n",
       " 'Den lille forskjellen',\n",
       " 'Den norske naturen',\n",
       " 'Det norske monarkiet',\n",
       " \"Diktet 'Det er langt mellom venner' av Kolbjørn Falkeid\",\n",
       " \"Diktet 'Et møte' av Kolbein Falkeid\",\n",
       " \"Diktet 'Ingen ting' av Paulus Utsi om språk\",\n",
       " \"Diktet 'Mayday' av Lars Saabye Christensen\",\n",
       " \"Diktet 'Privat huskeregel' av Kolbjørn Falkeid\",\n",
       " \"Diktet 'Sannheten' av Rolf Jacobsen\",\n",
       " \"Diktet 'Synsvinkel' av Gunnar Øi\",\n",
       " \"Diktet 'Toleranse'\",\n",
       " 'Eldrebølgen',\n",
       " 'En bok fra din kultur eller ditt hjemland',\n",
       " 'En forfatter og om en bok han/ hun har skrevet',\n",
       " 'En hyggelig opplevelse',\n",
       " 'En interesse du har',\n",
       " 'En kjent person',\n",
       " 'En person som har betydd mye for deg',\n",
       " 'Enpersons-husholdninger',\n",
       " 'Et dikt av Einar Skjæraasen',\n",
       " 'Familie og karriere',\n",
       " 'Familieliv og yrkesliv',\n",
       " 'Fjernsynsprogram for barn',\n",
       " 'Flytting',\n",
       " 'Folk reiser så mye i våre dager',\n",
       " 'Framtida',\n",
       " 'Fremmedspråkslæring',\n",
       " 'Frihet og ansvar',\n",
       " 'Frivillig hjelp i organisasjoner',\n",
       " 'Fødselstall og befolkningssammensetning',\n",
       " 'Før og nå',\n",
       " 'Gjenbruk',\n",
       " 'Gjennomsnittsvekten øker',\n",
       " 'Helse og livskvalitet',\n",
       " 'Hva er en god film',\n",
       " 'Import av utenlandsk arbeidskraft',\n",
       " 'Klimaendringene',\n",
       " 'Kommunevalget i Norge',\n",
       " 'Konkurranse',\n",
       " 'Kultur og idrett',\n",
       " 'Kvinner i topposisjoner',\n",
       " 'Lederegenskaper',\n",
       " 'Leselyst',\n",
       " 'Likestilling',\n",
       " 'Likestilling mellom kjønnene',\n",
       " 'Livslang læring',\n",
       " 'Lærerlønn',\n",
       " 'Miljøvern',\n",
       " 'Min første jobb',\n",
       " 'Mobiltelefon',\n",
       " 'Mobiltelefonen',\n",
       " 'Mobiltelefoner',\n",
       " 'Møte med norsk kultur',\n",
       " 'Netthandel',\n",
       " 'Nyheter',\n",
       " 'Nærmiljø og lokalsamfunn',\n",
       " 'Praktisk og teoretisk utdanning',\n",
       " 'Private skoler',\n",
       " 'Røyking',\n",
       " 'Sangtradisjon',\n",
       " 'Sunnhet og helse',\n",
       " 'Tanker om det å bli gammel',\n",
       " 'Trafikk og boligområder',\n",
       " 'Trafikkdøden',\n",
       " 'Tusenårsskiftet',\n",
       " 'Vaner og tradisjoner å ta vare på når du flytter',\n",
       " 'Vaner og tradisjoner å ta vare på når du flytter - Bomiljø - Konkurranse',\n",
       " 'Vennskap',\n",
       " 'Verdikommisjonen',\n",
       " 'Viktige verdier i livet',\n",
       " 'Å treffe andre mennesker',\n",
       " 'Å være kjendis']"
      ]
     },
     "execution_count": 7,
     "metadata": {},
     "output_type": "execute_result"
    }
   ],
   "source": [
    "sorted(data.title.unique())"
   ]
  },
  {
   "cell_type": "code",
   "execution_count": 8,
   "metadata": {},
   "outputs": [],
   "source": [
    "from sklearn.linear_model import LogisticRegression\n",
    "from sklearn.preprocessing import StandardScaler\n",
    "from sklearn.metrics import classification_report, accuracy_score, f1_score\n",
    "import numpy as np"
   ]
  },
  {
   "cell_type": "code",
   "execution_count": 9,
   "metadata": {},
   "outputs": [
    {
     "name": "stderr",
     "output_type": "stream",
     "text": [
      "/home/stig/master-thesis/venv/lib/python3.5/site-packages/sklearn/utils/validation.py:475: DataConversionWarning: Data with input dtype int64 was converted to float64 by StandardScaler.\n",
      "  warnings.warn(msg, DataConversionWarning)\n"
     ]
    }
   ],
   "source": [
    "scaler = StandardScaler()\n",
    "train_x = scaler.fit_transform(train.num_tokens.values.reshape(-1, 1))\n",
    "dev_x = scaler.transform(dev.num_tokens.values.reshape(-1, 1))"
   ]
  },
  {
   "cell_type": "code",
   "execution_count": 10,
   "metadata": {},
   "outputs": [
    {
     "name": "stdout",
     "output_type": "stream",
     "text": [
      "Macro f1: 0.149\n",
      "Weighted f1: 0.256\n",
      "Accuracy: 0.390\n",
      "             precision    recall  f1-score   support\n",
      "\n",
      "         A2       0.00      0.00      0.00         1\n",
      "      A2/B1       0.00      0.00      0.00        22\n",
      "         B1       0.28      0.85      0.42        20\n",
      "      B1/B2       0.00      0.00      0.00        30\n",
      "         B2       0.49      0.84      0.62        37\n",
      "      B2/C1       0.00      0.00      0.00        10\n",
      "         C1       0.00      0.00      0.00         3\n",
      "\n",
      "avg / total       0.19      0.39      0.26       123\n",
      "\n"
     ]
    },
    {
     "name": "stderr",
     "output_type": "stream",
     "text": [
      "/home/stig/master-thesis/venv/lib/python3.5/site-packages/sklearn/metrics/classification.py:1135: UndefinedMetricWarning: F-score is ill-defined and being set to 0.0 in labels with no predicted samples.\n",
      "  'precision', 'predicted', average, warn_for)\n",
      "/home/stig/master-thesis/venv/lib/python3.5/site-packages/sklearn/metrics/classification.py:1135: UndefinedMetricWarning: Precision and F-score are ill-defined and being set to 0.0 in labels with no predicted samples.\n",
      "  'precision', 'predicted', average, warn_for)\n"
     ]
    }
   ],
   "source": [
    "clf = LogisticRegression()\n",
    "clf.fit(train_x, train.cefr)\n",
    "pred = clf.predict(dev_x)\n",
    "print(\"Macro f1: %.3f\" % f1_score(dev.cefr, pred, average='macro'))\n",
    "print(\"Weighted f1: %.3f\" % f1_score(dev.cefr, pred, average='weighted'))\n",
    "print(\"Accuracy: %.3f\" % accuracy_score(dev.cefr, pred))\n",
    "print(classification_report(dev.cefr, pred))"
   ]
  },
  {
   "cell_type": "code",
   "execution_count": 11,
   "metadata": {},
   "outputs": [
    {
     "data": {
      "text/plain": [
       "array(['B2'], dtype=object)"
      ]
     },
     "execution_count": 11,
     "metadata": {},
     "output_type": "execute_result"
    }
   ],
   "source": [
    "clf.predict([[5]])"
   ]
  },
  {
   "cell_type": "code",
   "execution_count": 12,
   "metadata": {},
   "outputs": [],
   "source": [
    "train['collapsed'] = [round_cefr_score(s) for s in train.cefr]\n",
    "dev['collapsed'] = [round_cefr_score(s) for s in dev.cefr]\n",
    "test['collapsed'] = [round_cefr_score(s) for s in test.cefr]"
   ]
  },
  {
   "cell_type": "code",
   "execution_count": 13,
   "metadata": {},
   "outputs": [
    {
     "name": "stdout",
     "output_type": "stream",
     "text": [
      "             precision    recall  f1-score   support\n",
      "\n",
      "         A2       0.00      0.00      0.00         1\n",
      "      A2/B1       0.00      0.00      0.00        22\n",
      "         B1       0.16      1.00      0.28        20\n",
      "      B1/B2       0.00      0.00      0.00        30\n",
      "         B2       0.00      0.00      0.00        37\n",
      "      B2/C1       0.00      0.00      0.00        10\n",
      "         C1       0.00      0.00      0.00         3\n",
      "\n",
      "avg / total       0.03      0.16      0.05       123\n",
      "\n",
      "Macro F1: 0.040\n",
      "Micro F1: 0.163\n",
      "Weighted F1: 0.045\n",
      "== Confusion matrix ==\n",
      "[[ 0  0  1  0  0  0  0]\n",
      " [ 0  0 22  0  0  0  0]\n",
      " [ 0  0 20  0  0  0  0]\n",
      " [ 0  0 30  0  0  0  0]\n",
      " [ 0  0 37  0  0  0  0]\n",
      " [ 0  0 10  0  0  0  0]\n",
      " [ 0  0  3  0  0  0  0]]\n",
      "             precision    recall  f1-score   support\n",
      "\n",
      "         A2       0.00      0.00      0.00         3\n",
      "      A2/B1       0.00      0.00      0.00        19\n",
      "         B1       0.19      1.00      0.32        23\n",
      "      B1/B2       0.00      0.00      0.00        22\n",
      "         B2       0.00      0.00      0.00        40\n",
      "      B2/C1       0.00      0.00      0.00         9\n",
      "         C1       0.00      0.00      0.00         7\n",
      "\n",
      "avg / total       0.03      0.19      0.06       123\n",
      "\n",
      "Macro F1: 0.045\n",
      "Micro F1: 0.187\n",
      "Weighted F1: 0.059\n",
      "== Confusion matrix ==\n",
      "[[ 0  0  3  0  0  0  0]\n",
      " [ 0  0 19  0  0  0  0]\n",
      " [ 0  0 23  0  0  0  0]\n",
      " [ 0  0 22  0  0  0  0]\n",
      " [ 0  0 40  0  0  0  0]\n",
      " [ 0  0  9  0  0  0  0]\n",
      " [ 0  0  7  0  0  0  0]]\n"
     ]
    },
    {
     "data": {
      "image/png": "[encoded data removed]",
      "text/plain": [
       "<Figure size 432x288 with 1 Axes>"
      ]
     },
     "metadata": {
      "needs_background": "light"
     },
     "output_type": "display_data"
    }
   ],
   "source": [
    "majority_label = train.cefr.value_counts().index[0]\n",
    "pred = [majority_label for __ in dev.cefr]\n",
    "\n",
    "labels = sorted(dev.cefr.unique())\n",
    "report([labels.index(s) for s in dev.cefr],\n",
    "       [labels.index(s) for s in pred],\n",
    "       labels)\n",
    "\n",
    "pred = [majority_label for __ in test.cefr]\n",
    "report([labels.index(s) for s in test.cefr],\n",
    "       [labels.index(s) for s in pred],\n",
    "       labels)"
   ]
  },
  {
   "cell_type": "code",
   "execution_count": 14,
   "metadata": {},
   "outputs": [
    {
     "name": "stdout",
     "output_type": "stream",
     "text": [
      "             precision    recall  f1-score   support\n",
      "\n",
      "         A2       0.00      0.00      0.00         1\n",
      "         B1       0.34      1.00      0.51        42\n",
      "         B2       0.00      0.00      0.00        67\n",
      "         C1       0.00      0.00      0.00        13\n",
      "\n",
      "avg / total       0.12      0.34      0.17       123\n",
      "\n",
      "Macro F1: 0.127\n",
      "Micro F1: 0.341\n",
      "Weighted F1: 0.174\n",
      "== Confusion matrix ==\n",
      "[[ 0  1  0  0]\n",
      " [ 0 42  0  0]\n",
      " [ 0 67  0  0]\n",
      " [ 0 13  0  0]]\n",
      "             precision    recall  f1-score   support\n",
      "\n",
      "         A2       0.00      0.00      0.00         3\n",
      "         B1       0.34      1.00      0.51        42\n",
      "         B2       0.00      0.00      0.00        62\n",
      "         C1       0.00      0.00      0.00        16\n",
      "\n",
      "avg / total       0.12      0.34      0.17       123\n",
      "\n",
      "Macro F1: 0.127\n",
      "Micro F1: 0.341\n",
      "Weighted F1: 0.174\n",
      "== Confusion matrix ==\n",
      "[[ 0  3  0  0]\n",
      " [ 0 42  0  0]\n",
      " [ 0 62  0  0]\n",
      " [ 0 16  0  0]]\n"
     ]
    },
    {
     "data": {
      "image/png": "[encoded data removed]",
      "text/plain": [
       "<Figure size 432x288 with 1 Axes>"
      ]
     },
     "metadata": {
      "needs_background": "light"
     },
     "output_type": "display_data"
    }
   ],
   "source": [
    "majority_label = train.collapsed.value_counts().index[0]\n",
    "pred = [majority_label for __ in dev.collapsed]\n",
    "\n",
    "labels = sorted(dev.collapsed.unique())\n",
    "report([labels.index(s) for s in dev.collapsed],\n",
    "       [labels.index(s) for s in pred],\n",
    "       labels)\n",
    "\n",
    "pred = [majority_label for __ in test.collapsed]\n",
    "\n",
    "report([labels.index(s) for s in test.collapsed],\n",
    "       [labels.index(s) for s in pred],\n",
    "       labels)"
   ]
  },
  {
   "cell_type": "markdown",
   "metadata": {},
   "source": [
    "# How long sequences should we work with?\n",
    "\n",
    "We want to have sequences long enough that we have enough information to make a good prediction. Using the maximum length is a simple way to decide, but if the longest document is an outlier we will use a lot of memory to pad the shorter documents.\n",
    "\n",
    "Let's look at a few different percentiles of document length."
   ]
  },
  {
   "cell_type": "code",
   "execution_count": 15,
   "metadata": {},
   "outputs": [
    {
     "name": "stdout",
     "output_type": "stream",
     "text": [
      "0.25 - 263.250000\n",
      "0.50 - 356.000000\n",
      "0.75 - 488.000000\n",
      "0.85 - 560.250000\n",
      "0.95 - 700.500000\n",
      "1.00 - 1163.000000\n"
     ]
    }
   ],
   "source": [
    "for p in [0.25, 0.5, 0.75, 0.85, 0.95, 1]:\n",
    "    print('{:.2f} - {:f}'.format(p, train.num_tokens.quantile(p)))"
   ]
  },
  {
   "cell_type": "markdown",
   "metadata": {},
   "source": [
    "The longest document is 1163 tokens, more than three times as long as the median document. The 95th percentile is less than twice the length of the median document and thus seems like a good choice. Let's compare it to the median + 1.5 * IQR (interquartile range), a common cutoff for outliers:"
   ]
  },
  {
   "cell_type": "code",
   "execution_count": 4,
   "metadata": {},
   "outputs": [
    {
     "name": "stdout",
     "output_type": "stream",
     "text": [
      "IQR = 224.750000\n",
      "Q2 + 1.5 * IQR = 693.125000\n",
      "Q3 + 1.5 * IQR = 825.125000\n"
     ]
    }
   ],
   "source": [
    "s = train.num_tokens\n",
    "iqr = s.quantile(0.75) - s.quantile(0.25)\n",
    "print('IQR = %f' % iqr)\n",
    "print('Q2 + 1.5 * IQR = %f' % (s.quantile(0.5) + 1.5 * iqr))\n",
    "print('Q3 + 1.5 * IQR = %f' % (s.quantile(0.75) + 1.5 * iqr))"
   ]
  },
  {
   "cell_type": "code",
   "execution_count": 22,
   "metadata": {},
   "outputs": [
    {
     "data": {
      "image/png": "[encoded data removed]",
      "text/plain": [
       "<Figure size 432x288 with 2 Axes>"
      ]
     },
     "metadata": {
      "needs_background": "light"
     },
     "output_type": "display_data"
    }
   ],
   "source": [
    "with sns.plotting_context(\"notebook\"):\n",
    "    fig, (ax1, ax2) = plt.subplots(2, 1, sharex=True)\n",
    "    plt.xlim((0, 1200))\n",
    "    sns.distplot(train.num_tokens, ax=ax1)\n",
    "    sns.boxplot(train.num_tokens, ax=ax2)"
   ]
  },
  {
   "cell_type": "code",
   "execution_count": 17,
   "metadata": {},
   "outputs": [
    {
     "name": "stdout",
     "output_type": "stream",
     "text": [
      "391.8944099378882\n",
      "157.6117458006055\n",
      "707.1179015390992\n"
     ]
    }
   ],
   "source": [
    "m = s.mean()\n",
    "std = s.std()\n",
    "print(m)\n",
    "print(std)\n",
    "print(m + 2 * std)"
   ]
  },
  {
   "cell_type": "code",
   "execution_count": 18,
   "metadata": {},
   "outputs": [],
   "source": [
    "meta = pd.read_csv(DATA_DIR / 'metadata.csv')\n",
    "meta['isolang'] = [iso639_3.get(l, l) for l in meta.lang]\n",
    "hue_order = ['train', 'dev', 'test']"
   ]
  },
  {
   "cell_type": "code",
   "execution_count": 19,
   "metadata": {},
   "outputs": [
    {
     "data": {
      "text/plain": [
       "Text(0,0.5,'Proportion of split (%)')"
      ]
     },
     "execution_count": 19,
     "metadata": {},
     "output_type": "execute_result"
    },
    {
     "data": {
      "image/png": "[encoded data removed]",
      "text/plain": [
       "<Figure size 360x237.6 with 1 Axes>"
      ]
     },
     "metadata": {
      "needs_background": "light"
     },
     "output_type": "display_data"
    }
   ],
   "source": [
    "data = (meta.groupby('split')['isolang']\n",
    "            .value_counts(normalize=True)\n",
    "            .apply(lambda s: s * 100)\n",
    "            .rename('Ratio')\n",
    "            .reset_index()\n",
    "            .rename(columns={'isolang': 'Language', 'split': 'Split'}))\n",
    "plt.gcf().set_size_inches(5, 3.3)\n",
    "ax = sns.barplot(data=data, x='Language', y='Ratio',\n",
    "                 hue='Split', hue_order=hue_order, order=LANG_LABELS)\n",
    "ax.set_ylabel('Proportion of split (%)')\n",
    "#plt.savefig(str(IMG_DIR / 'split-lang-dist.pdf'), bbox_inches='tight')"
   ]
  },
  {
   "cell_type": "code",
   "execution_count": 20,
   "metadata": {},
   "outputs": [
    {
     "data": {
      "text/plain": [
       "Text(0,0.5,'Proportion of split (%)')"
      ]
     },
     "execution_count": 20,
     "metadata": {},
     "output_type": "execute_result"
    },
    {
     "data": {
      "image/png": "[encoded data removed]",
      "text/plain": [
       "<Figure size 360x216 with 1 Axes>"
      ]
     },
     "metadata": {
      "needs_background": "light"
     },
     "output_type": "display_data"
    }
   ],
   "source": [
    "data = (meta.groupby('split')['cefr']\n",
    "            .value_counts(normalize=True)\n",
    "            .apply(lambda s: s * 100)\n",
    "            .rename('Ratio')\n",
    "            .reset_index()\n",
    "            .rename(columns={'cefr': 'CEFR score', 'split': 'Split'}))\n",
    "plt.gcf().set_size_inches(5,3)\n",
    "ax = sns.barplot(data=data, x='CEFR score', y='Ratio', hue='Split',\n",
    "                 order=CEFR_LABELS, hue_order=hue_order)\n",
    "ax.set_ylabel('Proportion of split (%)')\n",
    "#plt.savefig(str(IMG_DIR / 'split-cefr-dist.pdf'), bbox_inches='tight')"
   ]
  },
  {
   "cell_type": "markdown",
   "metadata": {},
   "source": [
    "# What is the distribution of vocabulary?"
   ]
  },
  {
   "cell_type": "code",
   "execution_count": 21,
   "metadata": {},
   "outputs": [
    {
     "name": "stdout",
     "output_type": "stream",
     "text": [
      "378570\n",
      "12003\n"
     ]
    }
   ],
   "source": [
    "token_counts = Counter(iterate_tokens('train'))\n",
    "total_token_count = sum(token_counts.values())\n",
    "print(total_token_count)\n",
    "print(sum(1 for v in token_counts.values() if v == 1))"
   ]
  },
  {
   "cell_type": "code",
   "execution_count": 22,
   "metadata": {},
   "outputs": [
    {
     "name": "stdout",
     "output_type": "stream",
     "text": [
      "20766 tokens occuring at least 1 times\n",
      "8763 tokens occuring at least 2 times\n",
      "5999 tokens occuring at least 3 times\n",
      "4792 tokens occuring at least 4 times\n",
      "4031 tokens occuring at least 5 times\n",
      "3499 tokens occuring at least 6 times\n"
     ]
    }
   ],
   "source": [
    "count_counts = Counter(token_counts.values())\n",
    "for n in [1, 2, 3, 4, 5, 6]:\n",
    "    occuring_at_least = sum(v for k, v in count_counts.items() if k >= n)\n",
    "    print('%d tokens occuring at least %d times' % (occuring_at_least, n))"
   ]
  },
  {
   "cell_type": "code",
   "execution_count": 23,
   "metadata": {},
   "outputs": [
    {
     "data": {
      "text/plain": [
       "[<matplotlib.lines.Line2D at 0x7fb9fc427828>]"
      ]
     },
     "execution_count": 23,
     "metadata": {},
     "output_type": "execute_result"
    },
    {
     "data": {
      "image/png": "[encoded data removed]",
      "text/plain": [
       "<Figure size 432x288 with 1 Axes>"
      ]
     },
     "metadata": {
      "needs_background": "light"
     },
     "output_type": "display_data"
    }
   ],
   "source": [
    "xs = []\n",
    "ys = []\n",
    "for n in range(1, 8001, 20):\n",
    "    xs.append(n)\n",
    "    num = sum(v for (t, v) in token_counts.most_common(n))\n",
    "    ys.append(num / total_token_count)\n",
    "plt.plot(xs, ys)"
   ]
  },
  {
   "cell_type": "code",
   "execution_count": 24,
   "metadata": {},
   "outputs": [
    {
     "data": {
      "text/plain": [
       "[('.', 22324),\n",
       " ('er', 11267),\n",
       " ('og', 11004),\n",
       " (',', 10707),\n",
       " ('å', 8753),\n",
       " ('det', 7713),\n",
       " ('i', 7277),\n",
       " ('som', 5649),\n",
       " ('at', 5290),\n",
       " ('på', 4966),\n",
       " ('en', 4788),\n",
       " ('for', 4739),\n",
       " ('til', 4620),\n",
       " ('jeg', 4532),\n",
       " ('ikke', 4244),\n",
       " ('har', 4057),\n",
       " ('de', 4001),\n",
       " ('kan', 3505),\n",
       " ('med', 3433),\n",
       " ('av', 3251)]"
      ]
     },
     "execution_count": 24,
     "metadata": {},
     "output_type": "execute_result"
    }
   ],
   "source": [
    "token_counts.most_common(20)"
   ]
  }
 ],
 "metadata": {
  "kernelspec": {
   "display_name": "Python (master thesis)",
   "language": "python",
   "name": "masterthesis"
  },
  "language_info": {
   "codemirror_mode": {
    "name": "ipython",
    "version": 3
   },
   "file_extension": ".py",
   "mimetype": "text/x-python",
   "name": "python",
   "nbconvert_exporter": "python",
   "pygments_lexer": "ipython3",
   "version": "3.5.2"
  }
 },
 "nbformat": 4,
 "nbformat_minor": 2
}
